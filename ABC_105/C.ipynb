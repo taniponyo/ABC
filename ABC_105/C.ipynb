{
 "cells": [
  {
   "cell_type": "code",
   "execution_count": 12,
   "metadata": {},
   "outputs": [
    {
     "name": "stdout",
     "output_type": "stream",
     "text": [
      "123456789\n",
      "11000101011001101110100010101\n"
     ]
    }
   ],
   "source": [
    "n = int(input())\n",
    " \n",
    "ans = []\n",
    "while n != 0:\n",
    "    if n % 2 != 0:\n",
    "        n -= 1\n",
    "        ans.append(\"1\")\n",
    "    else:\n",
    "        ans.append(\"0\")\n",
    "    n //= -2\n",
    " \n",
    "if len(ans) == 0:\n",
    "    ans.append(\"0\")\n",
    " \n",
    "print(\"\".join(reversed(ans)))"
   ]
  }
 ],
 "metadata": {
  "kernelspec": {
   "display_name": "Python 3",
   "language": "python",
   "name": "python3"
  },
  "language_info": {
   "codemirror_mode": {
    "name": "ipython",
    "version": 3
   },
   "file_extension": ".py",
   "mimetype": "text/x-python",
   "name": "python",
   "nbconvert_exporter": "python",
   "pygments_lexer": "ipython3",
   "version": "3.7.3"
  }
 },
 "nbformat": 4,
 "nbformat_minor": 2
}
