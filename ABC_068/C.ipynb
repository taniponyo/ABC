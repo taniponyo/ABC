{
 "cells": [
  {
   "cell_type": "code",
   "execution_count": 1,
   "metadata": {},
   "outputs": [
    {
     "name": "stdout",
     "output_type": "stream",
     "text": [
      "5 5\n",
      "1 3\n",
      "4 5\n",
      "2 3\n",
      "2 4\n",
      "1 4\n"
     ]
    }
   ],
   "source": [
    "N, M = map(int, input().split())\n",
    "edges = [[] for i in range(N)]\n",
    " \n",
    "for i in range(M):\n",
    "    a, b = map(int, input().split())\n",
    "    edges[a].append(b)"
   ]
  },
  {
   "cell_type": "code",
   "execution_count": 3,
   "metadata": {},
   "outputs": [
    {
     "name": "stdout",
     "output_type": "stream",
     "text": [
      "[[], [3, 4], [3, 4], [], [5]]\n",
      "POSSIBLE\n",
      "IMPOSSIBLE\n"
     ]
    }
   ],
   "source": [
    "print(edges)\n",
    "#スタートは1なのでedges[1]をみる\n",
    "for i in edges[1]:\n",
    "    #edges[1]のつながり先にNがあるかどうか\n",
    "    if N in edges[i]:\n",
    "        print(\"POSSIBLE\")\n",
    "        exit()\n",
    "print(\"IMPOSSIBLE\")    "
   ]
  }
 ],
 "metadata": {
  "kernelspec": {
   "display_name": "Python 3",
   "language": "python",
   "name": "python3"
  },
  "language_info": {
   "codemirror_mode": {
    "name": "ipython",
    "version": 3
   },
   "file_extension": ".py",
   "mimetype": "text/x-python",
   "name": "python",
   "nbconvert_exporter": "python",
   "pygments_lexer": "ipython3",
   "version": "3.7.4"
  }
 },
 "nbformat": 4,
 "nbformat_minor": 2
}
