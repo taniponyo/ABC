{
 "cells": [
  {
   "cell_type": "code",
   "execution_count": 1,
   "metadata": {},
   "outputs": [
    {
     "name": "stdout",
     "output_type": "stream",
     "text": [
      "8\n",
      "4 23 75 0 23 96 50 100\n",
      "221\n"
     ]
    }
   ],
   "source": [
    "n = int(input())\n",
    "h = [ int(x) for x in input().split() ]\n",
    " \n",
    "cnt = 0\n",
    "while True:\n",
    "    if max(h) == 0:\n",
    "        break\n",
    "    idx = 0\n",
    "    while idx < n:\n",
    "        if h[idx] == 0:\n",
    "            idx += 1\n",
    "        else:\n",
    "            cnt += 1\n",
    "            while idx < n and h[idx] != 0:\n",
    "                h[idx] -= 1\n",
    "                idx += 1\n",
    "print(cnt)"
   ]
  }
 ],
 "metadata": {
  "kernelspec": {
   "display_name": "Python 3",
   "language": "python",
   "name": "python3"
  },
  "language_info": {
   "codemirror_mode": {
    "name": "ipython",
    "version": 3
   },
   "file_extension": ".py",
   "mimetype": "text/x-python",
   "name": "python",
   "nbconvert_exporter": "python",
   "pygments_lexer": "ipython3",
   "version": "3.7.3"
  }
 },
 "nbformat": 4,
 "nbformat_minor": 2
}
