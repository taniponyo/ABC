{
 "cells": [
  {
   "cell_type": "code",
   "execution_count": 18,
   "metadata": {},
   "outputs": [
    {
     "name": "stdout",
     "output_type": "stream",
     "text": [
      "10 4\n",
      "17 13 13 12 15 20 10 13 17 11\n"
     ]
    }
   ],
   "source": [
    "N,K = list(map(int,input().split()))\n",
    "p = list(map(int,input().split()))"
   ]
  },
  {
   "cell_type": "code",
   "execution_count": 19,
   "metadata": {},
   "outputs": [
    {
     "name": "stdout",
     "output_type": "stream",
     "text": [
      "32.0\n"
     ]
    }
   ],
   "source": [
    "value = [0]*N\n",
    "k_list = []\n",
    "\n",
    "for i in range(N):\n",
    "    value[i] = (p[i]+1)*0.5\n",
    "    \n",
    "value_list = [0]*N\n",
    "\n",
    "for i in range(N):\n",
    "    value_list[i] = value_list[i-1] + value[i]\n",
    "\n",
    "value_list.append(0)\n",
    "\n",
    "for i in range(N-K+1):\n",
    "    k_list.append(value_list[i+K-1]-value_list[i+K-(K+1)])\n",
    "    \n",
    "print(max(k_list))"
   ]
  }
 ],
 "metadata": {
  "kernelspec": {
   "display_name": "Python 3",
   "language": "python",
   "name": "python3"
  },
  "language_info": {
   "codemirror_mode": {
    "name": "ipython",
    "version": 3
   },
   "file_extension": ".py",
   "mimetype": "text/x-python",
   "name": "python",
   "nbconvert_exporter": "python",
   "pygments_lexer": "ipython3",
   "version": "3.7.4"
  }
 },
 "nbformat": 4,
 "nbformat_minor": 2
}
