{
 "cells": [
  {
   "cell_type": "code",
   "execution_count": 4,
   "metadata": {},
   "outputs": [
    {
     "name": "stdout",
     "output_type": "stream",
     "text": [
      "100\n",
      "1\n",
      "[0, 1, 0, 0]\n",
      "19\n"
     ]
    }
   ],
   "source": [
    "N = [0] + list(map(int, input()))\n",
    "K = int(input())\n",
    "n = len(N)\n",
    "\n",
    "DP = [\n",
    "      [[0] * (K+2) for _ in range(2)] for _ in range(n)\n",
    "]\n",
    "\n",
    "print(N)\n",
    "\n",
    "# 0桁目(0)で最大値を取っていてk=0の要素は1個。\n",
    "DP[0][0][0] = 1\n",
    "\n",
    "for i in range(1, n):\n",
    "    for k in range(K+1):\n",
    "        if N[i] != 0:\n",
    "            # Nを越えてるかどうかわからない(越えているかも)\n",
    "            DP[i][0][k+1] += DP[i-1][0][k]\n",
    "            # Nを越えていない(越えているかもから)\n",
    "            DP[i][1][k] += DP[i-1][0][k]\n",
    "            # \n",
    "            DP[i][1][k+1] += DP[i-1][0][k] * (N[i] - 1)\n",
    "        else:\n",
    "            DP[i][0][k] += DP[i-1][0][k]\n",
    "        DP[i][1][k] += DP[i-1][1][k]\n",
    "        DP[i][1][k+1] += DP[i-1][1][k] * 9\n",
    "print(DP[n-1][1][K] + DP[n-1][0][K])"
   ]
  },
  {
   "cell_type": "code",
   "execution_count": 5,
   "metadata": {},
   "outputs": [
    {
     "name": "stdout",
     "output_type": "stream",
     "text": [
      "[[[1, 0, 0], [0, 0, 0]], [[0, 1, 0], [1, 0, 0]], [[0, 1, 0], [1, 9, 0]], [[0, 1, 0], [1, 18, 81]]]\n"
     ]
    }
   ],
   "source": [
    "print(DP)"
   ]
  }
 ],
 "metadata": {
  "kernelspec": {
   "display_name": "Python 3",
   "language": "python",
   "name": "python3"
  },
  "language_info": {
   "codemirror_mode": {
    "name": "ipython",
    "version": 3
   },
   "file_extension": ".py",
   "mimetype": "text/x-python",
   "name": "python",
   "nbconvert_exporter": "python",
   "pygments_lexer": "ipython3",
   "version": "3.7.3"
  }
 },
 "nbformat": 4,
 "nbformat_minor": 2
}
