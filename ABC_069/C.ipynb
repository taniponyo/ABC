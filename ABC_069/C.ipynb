{
 "cells": [
  {
   "cell_type": "code",
   "execution_count": 1,
   "metadata": {},
   "outputs": [
    {
     "name": "stdout",
     "output_type": "stream",
     "text": [
      "6\n",
      "2 7 1 8 2 8\n"
     ]
    }
   ],
   "source": [
    "N = int(input())\n",
    "a = list(map(int,input().split()))"
   ]
  },
  {
   "cell_type": "code",
   "execution_count": 4,
   "metadata": {},
   "outputs": [
    {
     "name": "stdout",
     "output_type": "stream",
     "text": [
      "Yes\n"
     ]
    }
   ],
   "source": [
    "one_list = []\n",
    "two_list = []\n",
    "four_list = []\n",
    "\n",
    "for i in range(N):\n",
    "    if a[i]%2 == 0:\n",
    "        if a[i]%4 == 0:\n",
    "            four_list.append(a[i])\n",
    "        else:\n",
    "            two_list.append(a[i])\n",
    "    else:\n",
    "        one_list.append(a[i])\n",
    "        \n",
    "if len(two_list) > 0:\n",
    "    if len(four_list) >= len(one_list):\n",
    "        print('Yes')\n",
    "    else:\n",
    "        print('No')\n",
    "else:\n",
    "    if len(four_list)+1 >= len(one_list):\n",
    "        print('Yes')\n",
    "    else:\n",
    "        print('No')"
   ]
  }
 ],
 "metadata": {
  "kernelspec": {
   "display_name": "Python 3",
   "language": "python",
   "name": "python3"
  },
  "language_info": {
   "codemirror_mode": {
    "name": "ipython",
    "version": 3
   },
   "file_extension": ".py",
   "mimetype": "text/x-python",
   "name": "python",
   "nbconvert_exporter": "python",
   "pygments_lexer": "ipython3",
   "version": "3.7.4"
  }
 },
 "nbformat": 4,
 "nbformat_minor": 2
}
