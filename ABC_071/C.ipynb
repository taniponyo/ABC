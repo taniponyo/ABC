{
 "cells": [
  {
   "cell_type": "code",
   "execution_count": 2,
   "metadata": {},
   "outputs": [
    {
     "name": "stdout",
     "output_type": "stream",
     "text": [
      "10\n",
      "3 3 3 3 4 4 4 5 5 5\n"
     ]
    }
   ],
   "source": [
    "N = int(input())\n",
    "A = list(map(int,input().split()))"
   ]
  },
  {
   "cell_type": "code",
   "execution_count": 10,
   "metadata": {},
   "outputs": [
    {
     "name": "stdout",
     "output_type": "stream",
     "text": [
      "20\n"
     ]
    }
   ],
   "source": [
    "from collections import Counter\n",
    "\n",
    "A.sort(reverse=True)\n",
    "d = Counter(A)\n",
    "d = d.most_common()\n",
    "d.sort(reverse=True)\n",
    "x = []\n",
    "\n",
    "for i in range(len(d)):\n",
    "    if d[i][1] >= 4:\n",
    "        x.append(d[i][0])\n",
    "        x.append(d[i][0])\n",
    "    elif d[i][1] >= 2:\n",
    "        x.append(d[i][0])\n",
    "        \n",
    "if len(x) < 2:\n",
    "    print(0)\n",
    "else:   \n",
    "    print(x[0]*x[1])\n",
    "        "
   ]
  }
 ],
 "metadata": {
  "kernelspec": {
   "display_name": "Python 3",
   "language": "python",
   "name": "python3"
  },
  "language_info": {
   "codemirror_mode": {
    "name": "ipython",
    "version": 3
   },
   "file_extension": ".py",
   "mimetype": "text/x-python",
   "name": "python",
   "nbconvert_exporter": "python",
   "pygments_lexer": "ipython3",
   "version": "3.7.4"
  }
 },
 "nbformat": 4,
 "nbformat_minor": 2
}
