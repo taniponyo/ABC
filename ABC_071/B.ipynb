{
 "cells": [
  {
   "cell_type": "code",
   "execution_count": 1,
   "metadata": {
    "scrolled": true
   },
   "outputs": [
    {
     "name": "stdout",
     "output_type": "stream",
     "text": [
      "atcoderregularcontest\n"
     ]
    }
   ],
   "source": [
    "S = input()\n",
    "\n",
    "word = 'abcddefghijklmnopqrstuvwxyz'\n",
    "\n",
    "import sys\n",
    "\n",
    "for s in word:\n",
    "    if S.count(s) == 0:\n",
    "        print(s)\n",
    "        sys.exit()\n",
    "        \n",
    "print('None')"
   ]
  }
 ],
 "metadata": {
  "kernelspec": {
   "display_name": "Python 3",
   "language": "python",
   "name": "python3"
  },
  "language_info": {
   "codemirror_mode": {
    "name": "ipython",
    "version": 3
   },
   "file_extension": ".py",
   "mimetype": "text/x-python",
   "name": "python",
   "nbconvert_exporter": "python",
   "pygments_lexer": "ipython3",
   "version": "3.7.3"
  }
 },
 "nbformat": 4,
 "nbformat_minor": 2
}
