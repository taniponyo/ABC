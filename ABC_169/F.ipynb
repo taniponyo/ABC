{
 "cells": [
  {
   "cell_type": "code",
   "execution_count": 11,
   "metadata": {
    "scrolled": true
   },
   "outputs": [
    {
     "name": "stdout",
     "output_type": "stream",
     "text": [
      "3 4\n",
      "2 2 4\n",
      "6\n"
     ]
    }
   ],
   "source": [
    "N,S = map(int,input().split())\n",
    "A = list(map(int,input().split()))\n",
    "\n",
    "MOD = 998244353\n",
    "\n",
    "dp = [[0]*(S+1) for _ in range(N+1)]\n",
    "dp[0][0] = 1\n",
    "\n",
    "for i in range(N):\n",
    "    for j in range(S+1):\n",
    "        dp[i+1][j] += dp[i][j] * 2 % MOD\n",
    "        if j - A[i] >= 0:\n",
    "            dp[i+1][j] += dp[i][j-A[i]]\n",
    "        dp[i+1][j] %= MOD\n",
    "        \n",
    "print(dp[N][S])"
   ]
  }
 ],
 "metadata": {
  "kernelspec": {
   "display_name": "Python 3",
   "language": "python",
   "name": "python3"
  },
  "language_info": {
   "codemirror_mode": {
    "name": "ipython",
    "version": 3
   },
   "file_extension": ".py",
   "mimetype": "text/x-python",
   "name": "python",
   "nbconvert_exporter": "python",
   "pygments_lexer": "ipython3",
   "version": "3.7.6"
  }
 },
 "nbformat": 4,
 "nbformat_minor": 4
}
