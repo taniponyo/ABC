{
 "cells": [
  {
   "cell_type": "code",
   "execution_count": 11,
   "metadata": {
    "scrolled": true
   },
   "outputs": [
    {
     "name": "stdout",
     "output_type": "stream",
     "text": [
      "31\n",
      "4 1 5 9 2 6 5 3 5 8 9 7 9 3 2 3 8 4 6 2 6 4 3 3 8 3 2 7 9 5 0\n",
      "0\n"
     ]
    }
   ],
   "source": [
    "N = int(input())\n",
    "A = list(map(int,input().split()))\n",
    "import sys\n",
    "tmp = 1\n",
    "A.sort(reverse = True)\n",
    "if 0 in A:\n",
    "    print(0)\n",
    "else:\n",
    "    for i in range(N):\n",
    "        tmp *= A[i]\n",
    "        if tmp > 10**18:\n",
    "            print(-1)\n",
    "            sys.exit()\n",
    "    print(tmp)"
   ]
  }
 ],
 "metadata": {
  "kernelspec": {
   "display_name": "Python 3",
   "language": "python",
   "name": "python3"
  },
  "language_info": {
   "codemirror_mode": {
    "name": "ipython",
    "version": 3
   },
   "file_extension": ".py",
   "mimetype": "text/x-python",
   "name": "python",
   "nbconvert_exporter": "python",
   "pygments_lexer": "ipython3",
   "version": "3.7.6"
  }
 },
 "nbformat": 4,
 "nbformat_minor": 4
}
