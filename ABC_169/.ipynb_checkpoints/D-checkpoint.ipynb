{
 "cells": [
  {
   "cell_type": "code",
   "execution_count": 10,
   "metadata": {
    "scrolled": true
   },
   "outputs": [
    {
     "name": "stdout",
     "output_type": "stream",
     "text": [
      "1\n",
      "0\n"
     ]
    }
   ],
   "source": [
    "N = int(input())\n",
    "\n",
    "def prime_factorize(n):\n",
    "    prime_list = []\n",
    "    tmp = n\n",
    "    if n == 1:\n",
    "        return []\n",
    "    for i in range(2,int(n**0.5)+1):\n",
    "        if tmp % i == 0:\n",
    "            while tmp % i == 0:\n",
    "                tmp = tmp // i\n",
    "                prime_list.append(i)\n",
    "                \n",
    "    if tmp != 1:\n",
    "        prime_list.append(tmp)\n",
    "        \n",
    "    if len(prime_list) == 0:\n",
    "        return [n]\n",
    "    else:\n",
    "        return prime_list\n",
    "\n",
    "\n",
    "import collections\n",
    "c = collections.Counter(prime_factorize(N))\n",
    "\n",
    "tmp = []\n",
    "for i in range(1,40):\n",
    "    tmp.append((1+i)*i//2)\n",
    "import bisect\n",
    "ans = 0\n",
    "for i in list(c.values()):\n",
    "    ans += bisect.bisect_right(tmp,i)\n",
    "print(ans)"
   ]
  },
  {
   "cell_type": "code",
   "execution_count": 9,
   "metadata": {},
   "outputs": [
    {
     "name": "stdout",
     "output_type": "stream",
     "text": [
      "1\n",
      "0\n"
     ]
    }
   ],
   "source": [
    "N = int(input())\n",
    "\n",
    "def prime_factorize(n):\n",
    "    a = []\n",
    "    while n % 2 == 0:\n",
    "        a.append(2)\n",
    "        n //= 2\n",
    "    f = 3\n",
    "    while f * f <= n:\n",
    "        if n % f == 0:\n",
    "            a.append(f)\n",
    "            n //= f\n",
    "        else:\n",
    "            f += 2\n",
    "    if n != 1:\n",
    "        a.append(n)\n",
    "    return a\n",
    "\n",
    "import collections\n",
    "c = collections.Counter(prime_factorize(N))\n",
    "\n",
    "tmp = []\n",
    "for i in range(1,40):\n",
    "    tmp.append((1+i)*i//2)\n",
    "import bisect\n",
    "ans = 0\n",
    "for i in list(c.values()):\n",
    "    ans += bisect.bisect_right(tmp,i)\n",
    "print(ans)\n"
   ]
  }
 ],
 "metadata": {
  "kernelspec": {
   "display_name": "Python 3",
   "language": "python",
   "name": "python3"
  },
  "language_info": {
   "codemirror_mode": {
    "name": "ipython",
    "version": 3
   },
   "file_extension": ".py",
   "mimetype": "text/x-python",
   "name": "python",
   "nbconvert_exporter": "python",
   "pygments_lexer": "ipython3",
   "version": "3.7.6"
  }
 },
 "nbformat": 4,
 "nbformat_minor": 4
}
