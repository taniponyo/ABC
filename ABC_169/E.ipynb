{
 "cells": [
  {
   "cell_type": "code",
   "execution_count": 1,
   "metadata": {},
   "outputs": [
    {
     "name": "stdout",
     "output_type": "stream",
     "text": [
      "3\n",
      "100 100\n",
      "10 10000\n",
      "1 1000000000\n",
      "9991\n"
     ]
    }
   ],
   "source": [
    "N = int(input())\n",
    "A_list = [0]*N\n",
    "B_list = [0]*N\n",
    "for i in range(N):\n",
    "    A_list[i],B_list[i] = map(int,input().split())\n",
    "\n",
    "A_list.sort()\n",
    "B_list.sort()\n",
    "\n",
    "if N%2 == 1:\n",
    "    print(B_list[(N-1)//2] - A_list[(N-1)//2] + 1)\n",
    "else:\n",
    "    big = (B_list[N//2] + B_list[N//2-1])/2\n",
    "    small = (A_list[N//2] + A_list[N//2-1])/2\n",
    "    print(int((big-small)*2 + 1))"
   ]
  }
 ],
 "metadata": {
  "kernelspec": {
   "display_name": "Python 3",
   "language": "python",
   "name": "python3"
  },
  "language_info": {
   "codemirror_mode": {
    "name": "ipython",
    "version": 3
   },
   "file_extension": ".py",
   "mimetype": "text/x-python",
   "name": "python",
   "nbconvert_exporter": "python",
   "pygments_lexer": "ipython3",
   "version": "3.7.6"
  }
 },
 "nbformat": 4,
 "nbformat_minor": 4
}
