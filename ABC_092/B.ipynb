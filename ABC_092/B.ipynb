{
 "cells": [
  {
   "cell_type": "code",
   "execution_count": 4,
   "metadata": {
    "scrolled": false
   },
   "outputs": [
    {
     "name": "stdout",
     "output_type": "stream",
     "text": [
      "2 \n",
      "8 20\n",
      "1\n",
      "10\n"
     ]
    }
   ],
   "source": [
    "N = int(input())\n",
    "D,X = map(int,input().split())\n",
    "A = [int(input()) for i in range(N)]\n",
    "\n",
    "ans = 0\n",
    "\n",
    "for i in range(N):\n",
    "    for day in range(1,D+1):\n",
    "        if (day-1)%A[i] == 0:\n",
    "            ans += 1\n",
    "            \n",
    "print(ans + X)"
   ]
  }
 ],
 "metadata": {
  "kernelspec": {
   "display_name": "Python 3",
   "language": "python",
   "name": "python3"
  },
  "language_info": {
   "codemirror_mode": {
    "name": "ipython",
    "version": 3
   },
   "file_extension": ".py",
   "mimetype": "text/x-python",
   "name": "python",
   "nbconvert_exporter": "python",
   "pygments_lexer": "ipython3",
   "version": "3.7.3"
  }
 },
 "nbformat": 4,
 "nbformat_minor": 2
}
