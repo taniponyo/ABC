{
 "cells": [
  {
   "cell_type": "code",
   "execution_count": 2,
   "metadata": {
    "scrolled": true
   },
   "outputs": [
    {
     "name": "stdout",
     "output_type": "stream",
     "text": [
      "5 10\n",
      "20\n",
      "100\n",
      "105\n",
      "217\n",
      "314\n"
     ]
    }
   ],
   "source": [
    "N,T = map(int,input().split())\n",
    "A = [int(input()) for i in range(N)]\n",
    "\n",
    "time = 0\n",
    "\n",
    "for i in range(N-1):\n",
    "    time += min((A[i+1]-A[i]),T)\n",
    "    \n",
    "print(time+T)"
   ]
  }
 ],
 "metadata": {
  "kernelspec": {
   "display_name": "Python 3",
   "language": "python",
   "name": "python3"
  },
  "language_info": {
   "codemirror_mode": {
    "name": "ipython",
    "version": 3
   },
   "file_extension": ".py",
   "mimetype": "text/x-python",
   "name": "python",
   "nbconvert_exporter": "python",
   "pygments_lexer": "ipython3",
   "version": "3.7.6"
  }
 },
 "nbformat": 4,
 "nbformat_minor": 4
}
