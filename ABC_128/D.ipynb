{
 "cells": [
  {
   "cell_type": "code",
   "execution_count": 1,
   "metadata": {},
   "outputs": [
    {
     "name": "stdout",
     "output_type": "stream",
     "text": [
      "3 81\n"
     ]
    }
   ],
   "source": [
    "N,X = list(map(int,input().split()))\n",
    "x = list(map(int,input().split()))"
   ]
  },
  {
   "cell_type": "code",
   "execution_count": 5,
   "metadata": {},
   "outputs": [
    {
     "name": "stdout",
     "output_type": "stream",
     "text": [
      "24\n"
     ]
    },
    {
     "name": "stderr",
     "output_type": "stream",
     "text": [
      "C:\\Users\\admin\\Anaconda3\\lib\\site-packages\\ipykernel_launcher.py:5: DeprecationWarning: fractions.gcd() is deprecated. Use math.gcd() instead.\n",
      "  \"\"\"\n"
     ]
    }
   ],
   "source": [
    "number = []\n",
    "\n",
    "#初期点からの距離を計算\n",
    "for i in range(N):\n",
    "    number.append(abs(x[i]-X))\n",
    "\n",
    "import fractions \n",
    "\n",
    "ans = number[0]\n",
    "#距離のリストの最大公約数が答え\n",
    "for i in range(1, N):\n",
    "    ans = fractions.gcd(ans, number[i])\n",
    "    \n",
    "print(ans)"
   ]
  }
 ],
 "metadata": {
  "kernelspec": {
   "display_name": "Python 3",
   "language": "python",
   "name": "python3"
  },
  "language_info": {
   "codemirror_mode": {
    "name": "ipython",
    "version": 3
   },
   "file_extension": ".py",
   "mimetype": "text/x-python",
   "name": "python",
   "nbconvert_exporter": "python",
   "pygments_lexer": "ipython3",
   "version": "3.7.4"
  }
 },
 "nbformat": 4,
 "nbformat_minor": 2
}
