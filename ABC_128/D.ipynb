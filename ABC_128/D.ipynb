{
 "cells": [
  {
   "cell_type": "code",
   "execution_count": 12,
   "metadata": {
    "scrolled": true
   },
   "outputs": [
    {
     "name": "stdout",
     "output_type": "stream",
     "text": [
      "6 3\n",
      "-6 -100 50 -2 -5 -3\n",
      "0\n"
     ]
    }
   ],
   "source": [
    "N,K = map(int,input().split())\n",
    "V = list(map(int,input().split()))\n",
    "\n",
    "ans = -1\n",
    "\n",
    "for l in range(N+1):\n",
    "    for r in range(N+1):\n",
    "        tmp = V[:l] + V[N-r:]\n",
    "        if l+r > N:\n",
    "            break\n",
    "        res = K - (l+r)\n",
    "        if res < 0:\n",
    "            break\n",
    "        tmp.sort()\n",
    "        for i in range(min(res,len(tmp))):\n",
    "            if tmp[0] < 0:\n",
    "                tmp.pop(0)\n",
    "            else:\n",
    "                break\n",
    "        ans = max(ans,sum(tmp))\n",
    "            \n",
    "print(ans)"
   ]
  }
 ],
 "metadata": {
  "kernelspec": {
   "display_name": "Python 3",
   "language": "python",
   "name": "python3"
  },
  "language_info": {
   "codemirror_mode": {
    "name": "ipython",
    "version": 3
   },
   "file_extension": ".py",
   "mimetype": "text/x-python",
   "name": "python",
   "nbconvert_exporter": "python",
   "pygments_lexer": "ipython3",
   "version": "3.7.7"
  }
 },
 "nbformat": 4,
 "nbformat_minor": 4
}
