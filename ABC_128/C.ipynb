{
 "cells": [
  {
   "cell_type": "code",
   "execution_count": 8,
   "metadata": {},
   "outputs": [
    {
     "name": "stdout",
     "output_type": "stream",
     "text": [
      "5 2\n",
      "3 1 2 5\n",
      "2 2 3\n",
      "1 0\n",
      "8\n"
     ]
    }
   ],
   "source": [
    "N,M = map(int,input().split())\n",
    "ks = [list(map(int,input().split())) for i in range(M)]\n",
    "p = list(map(int,input().split()))\n",
    "\n",
    "import itertools\n",
    "L = [0, 1] #生成する数字\n",
    "num = N #生成するビット数\n",
    "bit_list = list(itertools.product([0, 1], repeat=num))\n",
    "ans = 0\n",
    "\n",
    "for i in range(len(bit_list)):\n",
    "    light = 0\n",
    "    for j in range(len(ks)):\n",
    "        count = 0\n",
    "        for k in range(1,len(ks[j])):\n",
    "            if bit_list[i][ks[j][k]-1] == 1:\n",
    "                count += 1\n",
    "        if count%2 == p[j]:\n",
    "            light += 1\n",
    "    if light == M:\n",
    "        ans += 1\n",
    "        \n",
    "print(ans)"
   ]
  }
 ],
 "metadata": {
  "kernelspec": {
   "display_name": "Python 3",
   "language": "python",
   "name": "python3"
  },
  "language_info": {
   "codemirror_mode": {
    "name": "ipython",
    "version": 3
   },
   "file_extension": ".py",
   "mimetype": "text/x-python",
   "name": "python",
   "nbconvert_exporter": "python",
   "pygments_lexer": "ipython3",
   "version": "3.7.3"
  }
 },
 "nbformat": 4,
 "nbformat_minor": 2
}
