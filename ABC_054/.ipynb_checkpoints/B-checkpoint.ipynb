{
 "cells": [
  {
   "cell_type": "code",
   "execution_count": 3,
   "metadata": {},
   "outputs": [
    {
     "name": "stdout",
     "output_type": "stream",
     "text": [
      "3 2\n",
      "#.#\n",
      ".#.\n",
      "#.#\n",
      "#.\n",
      ".#\n"
     ]
    }
   ],
   "source": [
    "import numpy as np\n",
    " \n",
    "N,M = map(int,input().split())\n",
    "A = np.array([list(input()) for _ in range(N)])\n",
    "B = np.array([list(input()) for _ in range(M)])\n",
    " "
   ]
  },
  {
   "cell_type": "code",
   "execution_count": 5,
   "metadata": {},
   "outputs": [
    {
     "name": "stdout",
     "output_type": "stream",
     "text": [
      "[['#' '.' '#']\n",
      " ['.' '#' '.']\n",
      " ['#' '.' '#']]\n",
      "[['#' '.']\n",
      " ['.' '#']]\n"
     ]
    }
   ],
   "source": [
    "print(A)\n",
    "\n",
    "print(B)"
   ]
  },
  {
   "cell_type": "code",
   "execution_count": 2,
   "metadata": {},
   "outputs": [
    {
     "name": "stdout",
     "output_type": "stream",
     "text": [
      "3 2\n",
      "#.#\n",
      ".#.\n",
      "#.#\n",
      "#.\n",
      ".#\n"
     ]
    }
   ],
   "source": [
    "bl = False\n",
    "for i in range(N-M+1):\n",
    "  for j in range(N-M+1):\n",
    "    if (A[i:i+M,j:j+M] == B).all():\n",
    "      bl = True\n",
    " \n",
    "answer = 'Yes' if bl else 'No'\n",
    "print(answer)"
   ]
  }
 ],
 "metadata": {
  "kernelspec": {
   "display_name": "Python 3",
   "language": "python",
   "name": "python3"
  },
  "language_info": {
   "codemirror_mode": {
    "name": "ipython",
    "version": 3
   },
   "file_extension": ".py",
   "mimetype": "text/x-python",
   "name": "python",
   "nbconvert_exporter": "python",
   "pygments_lexer": "ipython3",
   "version": "3.7.3"
  }
 },
 "nbformat": 4,
 "nbformat_minor": 2
}
