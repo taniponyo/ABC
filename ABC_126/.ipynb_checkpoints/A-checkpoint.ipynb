{
 "cells": [
  {
   "cell_type": "code",
   "execution_count": 1,
   "metadata": {},
   "outputs": [
    {
     "name": "stdout",
     "output_type": "stream",
     "text": [
      "3 1\n",
      "ABC\n"
     ]
    }
   ],
   "source": [
    "N, K = list(map(int,input().split()))\n",
    "S = list(input())"
   ]
  },
  {
   "cell_type": "code",
   "execution_count": 2,
   "metadata": {},
   "outputs": [
    {
     "name": "stdout",
     "output_type": "stream",
     "text": [
      "['A', 'B', 'C']\n"
     ]
    }
   ],
   "source": [
    "print(S)"
   ]
  },
  {
   "cell_type": "code",
   "execution_count": 8,
   "metadata": {},
   "outputs": [
    {
     "name": "stdout",
     "output_type": "stream",
     "text": [
      "aBC\n"
     ]
    }
   ],
   "source": [
    "if S[K-1] == \"A\":\n",
    "    S[K-1] = \"a\"\n",
    "if S[K-1] == \"B\":\n",
    "    S[K-1] = \"b\"\n",
    "if S[K-1] == \"C\":\n",
    "    S[K-1] = \"c\"\n",
    "    \n",
    "print(*S, sep='')"
   ]
  }
 ],
 "metadata": {
  "kernelspec": {
   "display_name": "Python 3",
   "language": "python",
   "name": "python3"
  },
  "language_info": {
   "codemirror_mode": {
    "name": "ipython",
    "version": 3
   },
   "file_extension": ".py",
   "mimetype": "text/x-python",
   "name": "python",
   "nbconvert_exporter": "python",
   "pygments_lexer": "ipython3",
   "version": "3.7.3"
  }
 },
 "nbformat": 4,
 "nbformat_minor": 2
}
