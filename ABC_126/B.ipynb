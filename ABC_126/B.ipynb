{
 "cells": [
  {
   "cell_type": "code",
   "execution_count": 14,
   "metadata": {},
   "outputs": [
    {
     "name": "stdout",
     "output_type": "stream",
     "text": [
      "1700\n"
     ]
    }
   ],
   "source": [
    "S = input()"
   ]
  },
  {
   "cell_type": "code",
   "execution_count": 15,
   "metadata": {},
   "outputs": [
    {
     "name": "stdout",
     "output_type": "stream",
     "text": [
      "NA\n"
     ]
    }
   ],
   "source": [
    "if int(S[0:2]) >= 1 and 12 >= int(S[0:2]):\n",
    "    if int(S[2:4]) >= 1 and 12 >= int(S[2:4]):\n",
    "        print('AMBIGUOUS')\n",
    "    else:\n",
    "        print('MMYY')\n",
    "else:\n",
    "    if int(S[2:4]) >= 1 and 12 >= int(S[2:4]):\n",
    "        print('YYMM')\n",
    "    else:\n",
    "        print('NA')"
   ]
  }
 ],
 "metadata": {
  "kernelspec": {
   "display_name": "Python 3",
   "language": "python",
   "name": "python3"
  },
  "language_info": {
   "codemirror_mode": {
    "name": "ipython",
    "version": 3
   },
   "file_extension": ".py",
   "mimetype": "text/x-python",
   "name": "python",
   "nbconvert_exporter": "python",
   "pygments_lexer": "ipython3",
   "version": "3.7.3"
  }
 },
 "nbformat": 4,
 "nbformat_minor": 2
}
