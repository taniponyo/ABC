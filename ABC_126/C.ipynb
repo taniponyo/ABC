{
 "cells": [
  {
   "cell_type": "code",
   "execution_count": 1,
   "metadata": {},
   "outputs": [
    {
     "name": "stdout",
     "output_type": "stream",
     "text": [
      "100000 5\n"
     ]
    }
   ],
   "source": [
    "N,K = list(map(int,input().split()))"
   ]
  },
  {
   "cell_type": "code",
   "execution_count": 2,
   "metadata": {},
   "outputs": [
    {
     "name": "stdout",
     "output_type": "stream",
     "text": [
      "0.9999737499980839\n"
     ]
    }
   ],
   "source": [
    "answer = 0\n",
    "\n",
    "for dice in range(1,N+1):\n",
    "    count = 0\n",
    "    point = dice\n",
    "    while point < K:\n",
    "        point = point*2\n",
    "        count = count + 1\n",
    "    answer = answer + (1/N * 0.5**count)\n",
    "    \n",
    "print(answer)  "
   ]
  }
 ],
 "metadata": {
  "kernelspec": {
   "display_name": "Python 3",
   "language": "python",
   "name": "python3"
  },
  "language_info": {
   "codemirror_mode": {
    "name": "ipython",
    "version": 3
   },
   "file_extension": ".py",
   "mimetype": "text/x-python",
   "name": "python",
   "nbconvert_exporter": "python",
   "pygments_lexer": "ipython3",
   "version": "3.7.3"
  }
 },
 "nbformat": 4,
 "nbformat_minor": 2
}
