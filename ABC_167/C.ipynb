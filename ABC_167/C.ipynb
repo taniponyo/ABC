{
 "cells": [
  {
   "cell_type": "code",
   "execution_count": 14,
   "metadata": {},
   "outputs": [
    {
     "name": "stdout",
     "output_type": "stream",
     "text": [
      "3 3 10\n",
      "60 2 2 4\n",
      "70 8 7 9\n",
      "50 2 3 9\n"
     ]
    }
   ],
   "source": [
    "N,M,X = map(int,input().split())\n",
    "\n",
    "C = []\n",
    "A = []\n",
    "for i in range(N):\n",
    "    tmp = list(map(int,input().split()))\n",
    "    C.append(tmp[0])\n",
    "    A.append(tmp[1:])\n",
    "\n",
    "ans = 10**9+7\n",
    "\n",
    "for bit in range(2**N):\n",
    "    rikai = [0]*M\n",
    "    money = 0\n",
    "    for i in range(N):\n",
    "        if (bit >> i) & 1 == 1:\n",
    "            for j in range(M):\n",
    "                rikai[j] += A[i][j]\n",
    "            money += C[i]\n",
    "    if min(rikai) >= X:\n",
    "        ans = min(ans,money)\n",
    "        \n",
    "if ans == 10**9+7:\n",
    "    print(-1)\n",
    "else:\n",
    "    print(ans)\n",
    "            "
   ]
  }
 ],
 "metadata": {
  "kernelspec": {
   "display_name": "Python 3",
   "language": "python",
   "name": "python3"
  },
  "language_info": {
   "codemirror_mode": {
    "name": "ipython",
    "version": 3
   },
   "file_extension": ".py",
   "mimetype": "text/x-python",
   "name": "python",
   "nbconvert_exporter": "python",
   "pygments_lexer": "ipython3",
   "version": "3.7.6"
  }
 },
 "nbformat": 4,
 "nbformat_minor": 4
}
