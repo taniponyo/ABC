{
 "cells": [
  {
   "cell_type": "code",
   "execution_count": 70,
   "metadata": {
    "scrolled": true
   },
   "outputs": [
    {
     "name": "stdout",
     "output_type": "stream",
     "text": [
      "6 727202214173249351\n",
      "6 5 2 5 3 2\n",
      "2\n"
     ]
    }
   ],
   "source": [
    "N,K = map(int,input().split())\n",
    "A = [0] + list(map(int,input().split()))\n",
    "\n",
    "from collections import deque \n",
    "tmp = 1\n",
    "num = []\n",
    "seen = [-1]*(N+1)\n",
    " \n",
    "while seen[tmp] == -1:\n",
    "    seen[tmp] = tmp\n",
    "    num.append(tmp)\n",
    "    tmp = A[tmp]\n",
    "\n",
    "\n",
    "l = num.index(tmp)\n",
    "c = len(num) - l\n",
    "\n",
    "if K < l:\n",
    "    print(num[K])\n",
    "else:\n",
    "    print(num[(K-l)%c+l])"
   ]
  }
 ],
 "metadata": {
  "kernelspec": {
   "display_name": "Python 3",
   "language": "python",
   "name": "python3"
  },
  "language_info": {
   "codemirror_mode": {
    "name": "ipython",
    "version": 3
   },
   "file_extension": ".py",
   "mimetype": "text/x-python",
   "name": "python",
   "nbconvert_exporter": "python",
   "pygments_lexer": "ipython3",
   "version": "3.7.6"
  }
 },
 "nbformat": 4,
 "nbformat_minor": 4
}
