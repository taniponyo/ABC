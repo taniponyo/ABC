{
 "cells": [
  {
   "cell_type": "code",
   "execution_count": 12,
   "metadata": {},
   "outputs": [
    {
     "name": "stdout",
     "output_type": "stream",
     "text": [
      "2000000000 0 0 2000000000\n",
      "2000000000\n"
     ]
    }
   ],
   "source": [
    "A,B,C,K = map(int,input().split())\n",
    "\n",
    "if A + B >= K:\n",
    "    if A >= K:\n",
    "        print(K)\n",
    "    else:\n",
    "        print(A)\n",
    "else:\n",
    "    print(A-(K-(A+B)))"
   ]
  }
 ],
 "metadata": {
  "kernelspec": {
   "display_name": "Python 3",
   "language": "python",
   "name": "python3"
  },
  "language_info": {
   "codemirror_mode": {
    "name": "ipython",
    "version": 3
   },
   "file_extension": ".py",
   "mimetype": "text/x-python",
   "name": "python",
   "nbconvert_exporter": "python",
   "pygments_lexer": "ipython3",
   "version": "3.7.6"
  }
 },
 "nbformat": 4,
 "nbformat_minor": 4
}
