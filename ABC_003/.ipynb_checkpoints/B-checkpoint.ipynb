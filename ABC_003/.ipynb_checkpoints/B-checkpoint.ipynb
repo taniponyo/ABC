{
 "cells": [
  {
   "cell_type": "code",
   "execution_count": 2,
   "metadata": {},
   "outputs": [
    {
     "name": "stdin",
     "output_type": "stream",
     "text": [
      " ch@ku@ai\n",
      " choku@@i\n"
     ]
    },
    {
     "name": "stdout",
     "output_type": "stream",
     "text": [
      "You can win\n"
     ]
    }
   ],
   "source": [
    "S = input()\n",
    "T = input()\n",
    " \n",
    "check = True\n",
    "    \n",
    "for x,y in zip(S,T):\n",
    "    if x == y:\n",
    "        continue\n",
    "    if x != '@' and y != '@':\n",
    "        check = False\n",
    "        break\n",
    "    if x == '@':\n",
    "        if y not in '@atcoder':\n",
    "            check = False\n",
    "            break\n",
    "    if y == '@':\n",
    "        if x not in '@atcoder':\n",
    "            check = False\n",
    "            break\n",
    "            \n",
    "if check == True:\n",
    "    print('You can win')\n",
    "else:\n",
    "    print('You will lose')"
   ]
  }
 ],
 "metadata": {
  "kernelspec": {
   "display_name": "Python 3",
   "language": "python",
   "name": "python3"
  },
  "language_info": {
   "codemirror_mode": {
    "name": "ipython",
    "version": 3
   },
   "file_extension": ".py",
   "mimetype": "text/x-python",
   "name": "python",
   "nbconvert_exporter": "python",
   "pygments_lexer": "ipython3",
   "version": "3.7.3"
  }
 },
 "nbformat": 4,
 "nbformat_minor": 4
}
