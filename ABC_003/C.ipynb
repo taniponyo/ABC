{
 "cells": [
  {
   "cell_type": "code",
   "execution_count": 4,
   "metadata": {},
   "outputs": [
    {
     "name": "stdin",
     "output_type": "stream",
     "text": [
      " 10 5\n",
      " 2604 2281 3204 2264 2200 2650 2229 2461 2439 2211\n"
     ]
    },
    {
     "name": "stdout",
     "output_type": "stream",
     "text": [
      "2820.03125\n"
     ]
    }
   ],
   "source": [
    "N,K = map(int,input().split())\n",
    "R = list(map(float,input().split()))\n",
    "\n",
    "R.sort()\n",
    "sub = R[N-K:]\n",
    "\n",
    "rate = 0.0\n",
    "\n",
    "for i in range(len(sub)):\n",
    "    rate = (rate + sub[i])/2\n",
    "    \n",
    "print(rate)"
   ]
  }
 ],
 "metadata": {
  "kernelspec": {
   "display_name": "Python 3",
   "language": "python",
   "name": "python3"
  },
  "language_info": {
   "codemirror_mode": {
    "name": "ipython",
    "version": 3
   },
   "file_extension": ".py",
   "mimetype": "text/x-python",
   "name": "python",
   "nbconvert_exporter": "python",
   "pygments_lexer": "ipython3",
   "version": "3.7.3"
  }
 },
 "nbformat": 4,
 "nbformat_minor": 4
}
