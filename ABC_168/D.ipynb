{
 "cells": [
  {
   "cell_type": "code",
   "execution_count": 13,
   "metadata": {},
   "outputs": [
    {
     "name": "stdout",
     "output_type": "stream",
     "text": [
      "6 9\n",
      "3 4\n",
      "6 1\n",
      "2 4\n",
      "5 3\n",
      "4 6\n",
      "1 5\n",
      "6 2\n",
      "4 5\n",
      "5 6\n",
      "[0, 6, 6, 5, 6, 1, 1]\n",
      "Yes\n",
      "6\n",
      "5\n",
      "6\n",
      "1\n",
      "1\n"
     ]
    }
   ],
   "source": [
    "from collections import deque\n",
    "import sys\n",
    "\n",
    "N,M = map(int,input().split())\n",
    "graph = [[] for _ in range(N + 1)]\n",
    "for i in range(M):\n",
    "    a,b = map(int,input().split())\n",
    "    graph[a].append(b)\n",
    "    graph[b].append(a)\n",
    "\n",
    "que = deque([1])\n",
    "ans = [0]*(N+1)\n",
    "\n",
    "while que:\n",
    "    x = deque.popleft(que)\n",
    "    for i in graph[x]:\n",
    "        if ans[i] != 0:\n",
    "            continue\n",
    "        ans[i] = x\n",
    "        que.append(i)\n",
    "        \n",
    "print(ans)\n",
    "        \n",
    "for i in range(2,N+1):\n",
    "    if ans[i] == 0:\n",
    "        print('No')\n",
    "        sys.exit()\n",
    "        \n",
    "print('Yes')\n",
    "for i in range(2,N+1):\n",
    "    print(ans[i])"
   ]
  },
  {
   "cell_type": "code",
   "execution_count": 28,
   "metadata": {
    "scrolled": true
   },
   "outputs": [
    {
     "name": "stdout",
     "output_type": "stream",
     "text": [
      "4 4\n",
      "1 2\n",
      "2 3\n",
      "3 4\n",
      "4 2\n",
      "Yes\n",
      "1\n",
      "2\n",
      "2\n"
     ]
    }
   ],
   "source": [
    "N,M = map(int,input().split())\n",
    "AB = [list(map(int,input().split())) for i in range(M)]\n",
    " \n",
    "ans = [-1] * (N+1)\n",
    "graph = [[] for _ in range(N+1)]\n",
    "for a,b in AB:\n",
    "    graph[a].append(b)\n",
    "    graph[b].append(a)\n",
    "    \n",
    "\n",
    "from collections import deque\n",
    "import sys\n",
    "ans = [-1] * (N+1)\n",
    "todo = deque([(1,0)])\n",
    "while todo:\n",
    "    x,parent = deque.popleft(todo)\n",
    "    # ans[x] = parent\n",
    "    for y in graph[x]:\n",
    "        if y == parent:\n",
    "            continue\n",
    "        if ans[y] != -1:\n",
    "            continue\n",
    "        ans[y] = x\n",
    "        todo.append((y,x))\n",
    "        \n",
    "\n",
    "if -1 in ans[2:]:\n",
    "    print('No')\n",
    "else:\n",
    "    print('Yes')\n",
    "    for i in range(2,N+1):\n",
    "        print(ans[i])"
   ]
  },
  {
   "cell_type": "code",
   "execution_count": 27,
   "metadata": {},
   "outputs": [
    {
     "name": "stdout",
     "output_type": "stream",
     "text": [
      "[-1, 2, 1, 2, 2]\n"
     ]
    }
   ],
   "source": [
    "print(ans)"
   ]
  }
 ],
 "metadata": {
  "kernelspec": {
   "display_name": "Python 3",
   "language": "python",
   "name": "python3"
  },
  "language_info": {
   "codemirror_mode": {
    "name": "ipython",
    "version": 3
   },
   "file_extension": ".py",
   "mimetype": "text/x-python",
   "name": "python",
   "nbconvert_exporter": "python",
   "pygments_lexer": "ipython3",
   "version": "3.7.6"
  }
 },
 "nbformat": 4,
 "nbformat_minor": 4
}
