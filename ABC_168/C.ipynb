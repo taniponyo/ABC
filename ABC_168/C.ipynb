{
 "cells": [
  {
   "cell_type": "code",
   "execution_count": 6,
   "metadata": {
    "scrolled": true
   },
   "outputs": [
    {
     "name": "stdout",
     "output_type": "stream",
     "text": [
      "3 4 10 40\n"
     ]
    }
   ],
   "source": [
    "A,B,H,M = map(int,input().split())\n",
    "\n",
    "import math\n",
    "\n",
    "H_tmp = 2*math.pi*(H/12) + (2*math.pi/12)*(M/60)\n",
    "M_tmp = 2*math.pi*(M/60)\n",
    "\n",
    "kakudo = min(abs(H_tmp-M_tmp),2*math.pi - abs(H_tmp-M_tmp))\n",
    "\n",
    "ans = (A**2 + B**2 - 2*A*B*math.cos(kakudo))**0.5\n",
    "\n",
    "print(ans)"
   ]
  }
 ],
 "metadata": {
  "kernelspec": {
   "display_name": "Python 3",
   "language": "python",
   "name": "python3"
  },
  "language_info": {
   "codemirror_mode": {
    "name": "ipython",
    "version": 3
   },
   "file_extension": ".py",
   "mimetype": "text/x-python",
   "name": "python",
   "nbconvert_exporter": "python",
   "pygments_lexer": "ipython3",
   "version": "3.7.6"
  }
 },
 "nbformat": 4,
 "nbformat_minor": 4
}
