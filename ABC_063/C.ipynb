{
 "cells": [
  {
   "cell_type": "code",
   "execution_count": 2,
   "metadata": {},
   "outputs": [
    {
     "name": "stdout",
     "output_type": "stream",
     "text": [
      "3\n",
      "5\n",
      "10\n",
      "15\n"
     ]
    }
   ],
   "source": [
    "N = int(input())\n",
    "s = [0]*N\n",
    "for i in range(N):\n",
    "    s[i] = int(input())\n",
    "\n",
    "if sum(s) % 10 != 0:\n",
    "    print(sum(s))\n",
    "else:\n",
    "    ans = 0\n",
    "    tmp = sum(s)\n",
    "    for i in range(N):\n",
    "        if (tmp - s[i]) % 10 != 0:\n",
    "            ans = max(ans,tmp - s[i])\n",
    "    print(ans)"
   ]
  }
 ],
 "metadata": {
  "kernelspec": {
   "display_name": "Python 3",
   "language": "python",
   "name": "python3"
  },
  "language_info": {
   "codemirror_mode": {
    "name": "ipython",
    "version": 3
   },
   "file_extension": ".py",
   "mimetype": "text/x-python",
   "name": "python",
   "nbconvert_exporter": "python",
   "pygments_lexer": "ipython3",
   "version": "3.7.3"
  }
 },
 "nbformat": 4,
 "nbformat_minor": 2
}
