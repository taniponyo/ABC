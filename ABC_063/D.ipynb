{
 "cells": [
  {
   "cell_type": "code",
   "execution_count": 7,
   "metadata": {},
   "outputs": [
    {
     "name": "stdout",
     "output_type": "stream",
     "text": [
      "2 10 4\n",
      "20\n",
      "20\n",
      "4\n"
     ]
    }
   ],
   "source": [
    "N,A,B = map(int,input().split())\n",
    "h = [0]*N\n",
    "for i in range(N):\n",
    "    h[i] = int(input())\n",
    "\n",
    "# x回で全モンスター倒せるかどうかをにぶちゃん(にぱー)\n",
    "\n",
    "import math\n",
    "\n",
    "def check(x):\n",
    "    count = 0\n",
    "    for i in range(N):\n",
    "        count += math.ceil(max(h[i] - B * x, 0) / (A - B))\n",
    "           \n",
    "    if count <= x:\n",
    "        return True\n",
    "    else:\n",
    "        return False\n",
    "    \n",
    "def solve():\n",
    "    \n",
    "    left = -1\n",
    "    right = 10**9+1\n",
    "    \n",
    "    while abs(right-left) > 1:\n",
    "    \n",
    "        center = (right+left)//2\n",
    "    \n",
    "        if check(center) == True:\n",
    "            right = center\n",
    "        elif check(center) == False:\n",
    "            left = center\n",
    "        \n",
    "    return right\n",
    "    \n",
    "print(solve())"
   ]
  }
 ],
 "metadata": {
  "kernelspec": {
   "display_name": "Python 3",
   "language": "python",
   "name": "python3"
  },
  "language_info": {
   "codemirror_mode": {
    "name": "ipython",
    "version": 3
   },
   "file_extension": ".py",
   "mimetype": "text/x-python",
   "name": "python",
   "nbconvert_exporter": "python",
   "pygments_lexer": "ipython3",
   "version": "3.7.3"
  }
 },
 "nbformat": 4,
 "nbformat_minor": 2
}
