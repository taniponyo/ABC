{
 "cells": [
  {
   "cell_type": "code",
   "execution_count": 2,
   "metadata": {},
   "outputs": [
    {
     "name": "stdout",
     "output_type": "stream",
     "text": [
      "2\n",
      "1 1 1 1 1 0 0 0 0 0\n",
      "0 0 0 0 0 1 1 1 1 1\n",
      "0 -2 -2 -2 -2 -2 -1 -1 -1 -1 -1\n",
      "0 -2 -2 -2 -2 -2 -1 -1 -1 -1 -1\n"
     ]
    }
   ],
   "source": [
    "N = int(input())\n",
    " \n",
    "F = []\n",
    " \n",
    "for _ in range(N):\n",
    "    f = list(input().strip().split())\n",
    "    F.append(int(\"\".join(f), 2))\n",
    "\n",
    "P = [list(map(int, input().split())) for _ in range(N)]"
   ]
  },
  {
   "cell_type": "code",
   "execution_count": 5,
   "metadata": {},
   "outputs": [
    {
     "name": "stdout",
     "output_type": "stream",
     "text": [
      "-2\n"
     ]
    }
   ],
   "source": [
    "ans = -10**10-7\n",
    "\n",
    "for i in range(1,2**10):\n",
    "    candi = 0\n",
    "    for j in range(N):\n",
    "        tmp = i & F[j]\n",
    "        p = format(tmp, 'b').count(\"1\")\n",
    "        candi += P[j][p]\n",
    "    ans = max(ans,candi) \n",
    "    \n",
    "print(ans)"
   ]
  }
 ],
 "metadata": {
  "kernelspec": {
   "display_name": "Python 3",
   "language": "python",
   "name": "python3"
  },
  "language_info": {
   "codemirror_mode": {
    "name": "ipython",
    "version": 3
   },
   "file_extension": ".py",
   "mimetype": "text/x-python",
   "name": "python",
   "nbconvert_exporter": "python",
   "pygments_lexer": "ipython3",
   "version": "3.7.3"
  }
 },
 "nbformat": 4,
 "nbformat_minor": 2
}
