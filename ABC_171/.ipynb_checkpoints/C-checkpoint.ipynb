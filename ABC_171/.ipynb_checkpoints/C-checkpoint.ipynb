{
 "cells": [
  {
   "cell_type": "code",
   "execution_count": null,
   "metadata": {
    "scrolled": true
   },
   "outputs": [],
   "source": [
    "N = int(input())-1\n",
    "\n",
    "tmp = 'abcdefghijklmnopqrstuvwxyz'\n",
    "num = 26\n",
    "ans = []\n",
    "while N != 0:\n",
    "    ans.append(tmp[N%num])\n",
    "    N = N//num\n",
    "new_list = list(reversed(ans))\n",
    "print(''.join(new_list))"
   ]
  },
  {
   "cell_type": "code",
   "execution_count": 10,
   "metadata": {},
   "outputs": [
    {
     "name": "stdout",
     "output_type": "stream",
     "text": [
      "a\n",
      "b\n",
      "c\n",
      "d\n",
      "e\n",
      "f\n",
      "g\n",
      "h\n",
      "i\n",
      "j\n",
      "k\n",
      "l\n",
      "m\n",
      "n\n",
      "o\n",
      "p\n",
      "q\n",
      "r\n",
      "s\n",
      "t\n",
      "u\n",
      "v\n",
      "w\n",
      "x\n",
      "y\n",
      "z\n",
      "aa\n",
      "ab\n"
     ]
    }
   ],
   "source": [
    "N = int(input())\n",
    "tmp = 'abcdefghijklmnopqrstuvwxyz'\n",
    "num = 26\n",
    "ans = []\n",
    "while N != 0:\n",
    "    if N%num == 0:\n",
    "        ans.append(tmp[N%num-1])\n",
    "        N = N//num - 1\n",
    "    else:\n",
    "        ans.append(tmp[N%num-1])\n",
    "        N = N//num\n",
    "            \n",
    "new_list = list(reversed(ans))\n",
    "print(''.join(new_list))"
   ]
  },
  {
   "cell_type": "code",
   "execution_count": null,
   "metadata": {},
   "outputs": [],
   "source": []
  }
 ],
 "metadata": {
  "kernelspec": {
   "display_name": "Python 3",
   "language": "python",
   "name": "python3"
  },
  "language_info": {
   "codemirror_mode": {
    "name": "ipython",
    "version": 3
   },
   "file_extension": ".py",
   "mimetype": "text/x-python",
   "name": "python",
   "nbconvert_exporter": "python",
   "pygments_lexer": "ipython3",
   "version": "3.7.7"
  }
 },
 "nbformat": 4,
 "nbformat_minor": 4
}
