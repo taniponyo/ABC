{
 "cells": [
  {
   "cell_type": "code",
   "execution_count": 2,
   "metadata": {
    "scrolled": true
   },
   "outputs": [
    {
     "name": "stdout",
     "output_type": "stream",
     "text": [
      "4\n",
      "1 2 3 4\n",
      "3\n",
      "1 2\n",
      "11\n",
      "3 4\n",
      "12\n",
      "2 4\n",
      "16\n"
     ]
    }
   ],
   "source": [
    "N = int(input())\n",
    "A = list(map(int,input().split()))\n",
    "Q = int(input())\n",
    "import numpy as np\n",
    "\n",
    "num_count = [0]*(10**5+1)\n",
    "num_count = np.array(num_count)\n",
    "tmp = np.arange(10**5+1)\n",
    "tmp_sum = sum(A)\n",
    "for i in A:\n",
    "    num_count[i] += 1\n",
    "\n",
    "for q in range(Q):\n",
    "    B,C = map(int,input().split())\n",
    "    tmp_C = C*(num_count[B])\n",
    "    tmp_B = B*(num_count[B])\n",
    "    num_count[C] += num_count[B]\n",
    "    num_count[B] = 0\n",
    "    tmp_sum = tmp_sum + tmp_C - tmp_B\n",
    "    print(tmp_sum)"
   ]
  }
 ],
 "metadata": {
  "kernelspec": {
   "display_name": "Python 3",
   "language": "python",
   "name": "python3"
  },
  "language_info": {
   "codemirror_mode": {
    "name": "ipython",
    "version": 3
   },
   "file_extension": ".py",
   "mimetype": "text/x-python",
   "name": "python",
   "nbconvert_exporter": "python",
   "pygments_lexer": "ipython3",
   "version": "3.7.7"
  }
 },
 "nbformat": 4,
 "nbformat_minor": 4
}
