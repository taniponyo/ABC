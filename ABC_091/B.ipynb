{
 "cells": [
  {
   "cell_type": "code",
   "execution_count": 1,
   "metadata": {
    "scrolled": true
   },
   "outputs": [
    {
     "name": "stdout",
     "output_type": "stream",
     "text": [
      "3\n",
      "apple\n",
      "orange\n",
      "apple\n",
      "1\n",
      "grape\n"
     ]
    }
   ],
   "source": [
    "N = int(input())\n",
    "s = [input() for i in range(N)]\n",
    "M = int(input())\n",
    "t = [input() for i in range(M)]\n",
    "\n",
    "ans = 0\n",
    "\n",
    "for i in range(N):\n",
    "    tmp = s.count(s[i]) - t.count(s[i])\n",
    "    ans = max(ans,tmp)\n",
    "    \n",
    "print(ans)"
   ]
  }
 ],
 "metadata": {
  "kernelspec": {
   "display_name": "Python 3",
   "language": "python",
   "name": "python3"
  },
  "language_info": {
   "codemirror_mode": {
    "name": "ipython",
    "version": 3
   },
   "file_extension": ".py",
   "mimetype": "text/x-python",
   "name": "python",
   "nbconvert_exporter": "python",
   "pygments_lexer": "ipython3",
   "version": "3.7.3"
  }
 },
 "nbformat": 4,
 "nbformat_minor": 2
}
