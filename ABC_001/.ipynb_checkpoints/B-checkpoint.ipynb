{
 "cells": [
  {
   "cell_type": "code",
   "execution_count": 4,
   "metadata": {},
   "outputs": [
    {
     "name": "stdout",
     "output_type": "stream",
     "text": [
      "200\n",
      "02\n"
     ]
    }
   ],
   "source": [
    "m = int(input())\n",
    "\n",
    "km = m/1000\n",
    "\n",
    "if km < 0.1:\n",
    "    print('00')\n",
    "elif 0.1 <= km < 1.0:\n",
    "    print('0'+str(m//100))\n",
    "elif 1.0 <= km <= 5.0:\n",
    "    print(int(km*10))\n",
    "elif 6.0 <= km <= 30.0:\n",
    "    print(int(50+km))\n",
    "elif 35.0 <= km <= 70.0:\n",
    "    print((int(km)-30)//5 + 80)\n",
    "else:\n",
    "    print(89)\n",
    "    "
   ]
  }
 ],
 "metadata": {
  "kernelspec": {
   "display_name": "Python 3",
   "language": "python",
   "name": "python3"
  },
  "language_info": {
   "codemirror_mode": {
    "name": "ipython",
    "version": 3
   },
   "file_extension": ".py",
   "mimetype": "text/x-python",
   "name": "python",
   "nbconvert_exporter": "python",
   "pygments_lexer": "ipython3",
   "version": "3.7.6"
  }
 },
 "nbformat": 4,
 "nbformat_minor": 4
}
