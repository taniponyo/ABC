{
 "cells": [
  {
   "cell_type": "code",
   "execution_count": 7,
   "metadata": {},
   "outputs": [
    {
     "name": "stdout",
     "output_type": "stream",
     "text": [
      "6\n",
      "15\n",
      "2\n",
      "3\n",
      "7\n",
      "6\n",
      "9\n",
      "508.9380098815464\n"
     ]
    }
   ],
   "source": [
    "N = int(input())\n",
    "import math\n",
    "ans = 0\n",
    "\n",
    "R = [int(input()) for i in range(N)]\n",
    "R.sort(reverse=True)\n",
    "\n",
    "for i in range(N):\n",
    "    if i%2 == 0:\n",
    "        ans += R[i]**2*math.pi\n",
    "    else:\n",
    "        ans -= R[i]**2*math.pi\n",
    "        \n",
    "print(ans)"
   ]
  }
 ],
 "metadata": {
  "kernelspec": {
   "display_name": "Python 3",
   "language": "python",
   "name": "python3"
  },
  "language_info": {
   "codemirror_mode": {
    "name": "ipython",
    "version": 3
   },
   "file_extension": ".py",
   "mimetype": "text/x-python",
   "name": "python",
   "nbconvert_exporter": "python",
   "pygments_lexer": "ipython3",
   "version": "3.7.6"
  }
 },
 "nbformat": 4,
 "nbformat_minor": 4
}
