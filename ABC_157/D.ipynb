{
 "cells": [
  {
   "cell_type": "code",
   "execution_count": 2,
   "metadata": {},
   "outputs": [
    {
     "name": "stdout",
     "output_type": "stream",
     "text": [
      "4 4 1\n",
      "2 1\n",
      "1 3\n",
      "3 2\n",
      "3 4\n",
      "4 1\n"
     ]
    }
   ],
   "source": [
    "n,m,k = map(int,input().split())\n",
    "relfr = {i:set() for i in range(n)}\n",
    "relbl = {i:set() for i in range(n)}\n",
    "for i in range(m):\n",
    "    a,b = map(int,input().split())\n",
    "    relfr[a-1].add(b-1)\n",
    "    relfr[b-1].add(a-1)\n",
    "for i in range(k):\n",
    "    a,b = map(int,input().split())\n",
    "    relbl[a-1].add(b-1)\n",
    "    relbl[b-1].add(a-1)\n",
    "blsiz = [0 for i in range(n)]\n",
    "ans = [0]*n"
   ]
  },
  {
   "cell_type": "code",
   "execution_count": 14,
   "metadata": {},
   "outputs": [
    {
     "name": "stdout",
     "output_type": "stream",
     "text": [
      "{0: {1, 2}, 1: {0, 2}, 2: {0, 1, 3}, 3: {2}}\n",
      "{0: {3}, 1: set(), 2: set(), 3: {0}}\n"
     ]
    }
   ],
   "source": [
    "print(relfr)\n",
    "print(relbl)"
   ]
  },
  {
   "cell_type": "code",
   "execution_count": 4,
   "metadata": {},
   "outputs": [],
   "source": [
    "class UnionFind():\n",
    "    def __init__(self, n):\n",
    "        self.n = n\n",
    "        self.root = [-1]*(n+1)\n",
    "        self.rnk = [0]*(n+1)\n",
    "    def Find_Root(self, x):\n",
    "        if(self.root[x] < 0):\n",
    "            return x\n",
    "        else:\n",
    "            self.root[x] = self.Find_Root(self.root[x])\n",
    "            return self.root[x]\n",
    "    def Unite(self, x, y):\n",
    "        x = self.Find_Root(x)\n",
    "        y = self.Find_Root(y)\n",
    "        if(x == y):\n",
    "            return\n",
    "        elif(self.rnk[x] > self.rnk[y]):\n",
    "            self.root[x] += self.root[y]\n",
    "            self.root[y] = x\n",
    "        else:\n",
    "            self.root[y] += self.root[x]\n",
    "            self.root[x] = y\n",
    "            if(self.rnk[x] == self.rnk[y]):\n",
    "                self.rnk[y] += 1\n",
    "    def isSameGroup(self, x, y):\n",
    "        return self.Find_Root(x) == self.Find_Root(y)\n",
    "    def Count(self, x):\n",
    "        return -self.root[self.Find_Root(x)]"
   ]
  },
  {
   "cell_type": "code",
   "execution_count": 23,
   "metadata": {},
   "outputs": [],
   "source": [
    "uf = UnionFind(n)\n",
    "for i in range(n):\n",
    "    for j in relfr[i]:\n",
    "        uf.Unite(i,j)\n",
    "for i in range(n):\n",
    "    for j in relbl[i]:\n",
    "        uf.Unite(i,j)\n",
    "\n",
    "for i in range(n):\n",
    "    for j in relbl[i]:\n",
    "        if uf.isSameGroup(i,j):\n",
    "            blsiz[i]+=1"
   ]
  },
  {
   "cell_type": "code",
   "execution_count": 24,
   "metadata": {},
   "outputs": [
    {
     "name": "stdout",
     "output_type": "stream",
     "text": [
      "1\n"
     ]
    }
   ],
   "source": [
    "print(uf.Find_Root(3))"
   ]
  },
  {
   "cell_type": "code",
   "execution_count": 18,
   "metadata": {},
   "outputs": [
    {
     "name": "stdout",
     "output_type": "stream",
     "text": [
      "0 1 0 1\n"
     ]
    }
   ],
   "source": [
    "for i in range(n):\n",
    "    ans[i]=uf.Count(i)-len(relfr[i])-len(relbl[i])-1\n",
    " \n",
    "print(' '.join(map(str,ans)))"
   ]
  }
 ],
 "metadata": {
  "kernelspec": {
   "display_name": "Python 3",
   "language": "python",
   "name": "python3"
  },
  "language_info": {
   "codemirror_mode": {
    "name": "ipython",
    "version": 3
   },
   "file_extension": ".py",
   "mimetype": "text/x-python",
   "name": "python",
   "nbconvert_exporter": "python",
   "pygments_lexer": "ipython3",
   "version": "3.7.3"
  }
 },
 "nbformat": 4,
 "nbformat_minor": 2
}
