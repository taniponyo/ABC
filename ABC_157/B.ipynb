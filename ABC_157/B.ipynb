{
 "cells": [
  {
   "cell_type": "code",
   "execution_count": 1,
   "metadata": {},
   "outputs": [
    {
     "name": "stdout",
     "output_type": "stream",
     "text": [
      "84 97 66\n",
      "79 89 11\n",
      "61 59 7\n",
      "7\n",
      "89\n",
      "7\n",
      "87\n",
      "79\n",
      "24\n",
      "84\n",
      "30\n"
     ]
    }
   ],
   "source": [
    "A = [list(map(int,input().split())) for i in range(3)]\n",
    "N = int(input())\n",
    "b = [int(input()) for i in range(N)] "
   ]
  },
  {
   "cell_type": "code",
   "execution_count": 3,
   "metadata": {},
   "outputs": [
    {
     "name": "stdout",
     "output_type": "stream",
     "text": [
      "[[0, 0, 0], [0, 0, 0], [0, 0, 0]]\n"
     ]
    }
   ],
   "source": [
    "bingo = [[0]*3 for i in range(3)]"
   ]
  },
  {
   "cell_type": "code",
   "execution_count": 7,
   "metadata": {},
   "outputs": [
    {
     "name": "stdout",
     "output_type": "stream",
     "text": [
      "[[1, 0, 0], [1, 1, 0], [0, 0, 1]]\n",
      "Yes\n"
     ]
    },
    {
     "ename": "SystemExit",
     "evalue": "",
     "output_type": "error",
     "traceback": [
      "An exception has occurred, use %tb to see the full traceback.\n",
      "\u001b[1;31mSystemExit\u001b[0m\n"
     ]
    },
    {
     "name": "stderr",
     "output_type": "stream",
     "text": [
      "C:\\Users\\admin\\Anaconda3\\lib\\site-packages\\IPython\\core\\interactiveshell.py:3334: UserWarning: To exit: use 'exit', 'quit', or Ctrl-D.\n",
      "  warn(\"To exit: use 'exit', 'quit', or Ctrl-D.\", stacklevel=1)\n"
     ]
    }
   ],
   "source": [
    "for i in range(N):\n",
    "    for j in range(3):\n",
    "        for k in range(3):\n",
    "            if b[i] == A[j][k]:\n",
    "                bingo[j][k] = 1\n",
    "                \n",
    "import sys\n",
    "\n",
    "if bingo[0][0] == bingo[0][1] and bingo[0][1] == bingo[0][2] and bingo[0][0] == 1:\n",
    "    print('Yes')\n",
    "    sys.exit()\n",
    "if bingo[1][0] == bingo[1][1] and bingo[1][1] == bingo[1][2] and bingo[1][0] == 1:\n",
    "    print('Yes')\n",
    "    sys.exit()\n",
    "if bingo[2][0] == bingo[2][1] and bingo[2][1] == bingo[2][2] and bingo[2][0] == 1:\n",
    "    print('Yes')\n",
    "    sys.exit()\n",
    "if bingo[0][0] == bingo[1][0] and bingo[1][0] == bingo[2][0] and bingo[0][0] == 1:\n",
    "    print('Yes')\n",
    "    sys.exit()\n",
    "if bingo[0][1] == bingo[1][1] and bingo[1][1] == bingo[2][1] and bingo[0][1] == 1:\n",
    "    print('Yes')\n",
    "    sys.exit()\n",
    "if bingo[0][2] == bingo[1][2] and bingo[1][2] == bingo[2][2] and bingo[0][2] == 1:\n",
    "    print('Yes')\n",
    "    sys.exit()\n",
    "if bingo[0][0] == bingo[1][1] and bingo[1][1] == bingo[2][2] and bingo[0][0] == 1:\n",
    "    print('Yes')\n",
    "    sys.exit()\n",
    "if bingo[0][2] == bingo[1][1] and bingo[1][1] == bingo[2][0] and bingo[0][2] == 1:\n",
    "    print('Yes')\n",
    "    sys.exit()\n",
    "    \n",
    "print('No')"
   ]
  }
 ],
 "metadata": {
  "kernelspec": {
   "display_name": "Python 3",
   "language": "python",
   "name": "python3"
  },
  "language_info": {
   "codemirror_mode": {
    "name": "ipython",
    "version": 3
   },
   "file_extension": ".py",
   "mimetype": "text/x-python",
   "name": "python",
   "nbconvert_exporter": "python",
   "pygments_lexer": "ipython3",
   "version": "3.7.4"
  }
 },
 "nbformat": 4,
 "nbformat_minor": 2
}
