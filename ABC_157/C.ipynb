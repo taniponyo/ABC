{
 "cells": [
  {
   "cell_type": "code",
   "execution_count": 100,
   "metadata": {},
   "outputs": [
    {
     "name": "stdout",
     "output_type": "stream",
     "text": [
      "3 1\n",
      "2 1\n"
     ]
    }
   ],
   "source": [
    "N,M = list(map(int,input().split()))\n",
    "sc = [list(map(int,input().split())) for i in range(M)]"
   ]
  },
  {
   "cell_type": "code",
   "execution_count": 101,
   "metadata": {},
   "outputs": [
    {
     "name": "stdout",
     "output_type": "stream",
     "text": [
      "-1\n"
     ]
    },
    {
     "ename": "SystemExit",
     "evalue": "",
     "output_type": "error",
     "traceback": [
      "An exception has occurred, use %tb to see the full traceback.\n",
      "\u001b[1;31mSystemExit\u001b[0m\n"
     ]
    }
   ],
   "source": [
    "import sys\n",
    "\n",
    "#条件0のとき\n",
    "if M == 0:\n",
    "    if N == 1:\n",
    "        print(0)\n",
    "    elif N == 2:\n",
    "        print(10)\n",
    "    else:\n",
    "        print(100)\n",
    "    sys.exit()\n",
    "\n",
    "number = [0]*N\n",
    "n_count = [0]*N\n",
    "\n",
    "for i in range(M):\n",
    "    if n_count[sc[i][0]-1] > 0:\n",
    "        if sc[i][1] != number[sc[i][0]-1]:\n",
    "            print(-1)\n",
    "            sys.exit()\n",
    "    \n",
    "    number[sc[i][0]-1] = sc[i][1]\n",
    "    n_count[sc[i][0]-1] += 1\n",
    "        \n",
    "if number[0] == 0 and N != 1:\n",
    "    print(-1)\n",
    "    sys.exit()\n",
    "elif number[0] == 0 and N == 1:\n",
    "    print(0)\n",
    "    sys.exit()\n",
    "    \n",
    "for i in range(N):\n",
    "    print(number[i],end='')\n"
   ]
  },
  {
   "cell_type": "code",
   "execution_count": null,
   "metadata": {},
   "outputs": [],
   "source": []
  }
 ],
 "metadata": {
  "kernelspec": {
   "display_name": "Python 3",
   "language": "python",
   "name": "python3"
  },
  "language_info": {
   "codemirror_mode": {
    "name": "ipython",
    "version": 3
   },
   "file_extension": ".py",
   "mimetype": "text/x-python",
   "name": "python",
   "nbconvert_exporter": "python",
   "pygments_lexer": "ipython3",
   "version": "3.7.4"
  }
 },
 "nbformat": 4,
 "nbformat_minor": 2
}
