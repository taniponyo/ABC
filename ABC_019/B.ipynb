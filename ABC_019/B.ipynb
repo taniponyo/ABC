{
 "cells": [
  {
   "cell_type": "code",
   "execution_count": 11,
   "metadata": {
    "scrolled": true
   },
   "outputs": [
    {
     "name": "stdout",
     "output_type": "stream",
     "text": [
      "aabbbaaa\n",
      "a2b3\n",
      "a2b3a3\n"
     ]
    }
   ],
   "source": [
    "S = input()\n",
    " \n",
    "x = S[0]\n",
    "cnt = 1\n",
    "answer = ''\n",
    " \n",
    "for c in S[1:]:\n",
    "  if c == x:\n",
    "    cnt += 1\n",
    "    continue\n",
    "  else:\n",
    "    answer += x\n",
    "    answer += str(cnt)\n",
    "    x = c\n",
    "    cnt = 1\n",
    "    continue\n",
    "\n",
    "\n",
    "answer += x\n",
    "answer += str(cnt)\n",
    " \n",
    "print(answer)\n",
    "        "
   ]
  },
  {
   "cell_type": "code",
   "execution_count": null,
   "metadata": {},
   "outputs": [],
   "source": [
    "aabbbaaa"
   ]
  }
 ],
 "metadata": {
  "kernelspec": {
   "display_name": "Python 3",
   "language": "python",
   "name": "python3"
  },
  "language_info": {
   "codemirror_mode": {
    "name": "ipython",
    "version": 3
   },
   "file_extension": ".py",
   "mimetype": "text/x-python",
   "name": "python",
   "nbconvert_exporter": "python",
   "pygments_lexer": "ipython3",
   "version": "3.7.3"
  }
 },
 "nbformat": 4,
 "nbformat_minor": 2
}
