{
 "cells": [
  {
   "cell_type": "code",
   "execution_count": 33,
   "metadata": {
    "scrolled": false
   },
   "outputs": [
    {
     "name": "stdout",
     "output_type": "stream",
     "text": [
      "3 4 3\n",
      "1 3 3 100\n",
      "1 2 2 10\n",
      "2 3 2 10\n"
     ]
    }
   ],
   "source": [
    "N,M,Q = map(int,input().split())\n",
    "abcd = [list(map(int,input().split())) for i in range(Q)]\n",
    "\n",
    "import itertools\n",
    "\n",
    "A = list(itertools.combinations_with_replacement(range(1,M+1),N))\n",
    "answer = 0\n",
    "\n",
    "for i in range(len(A)):\n",
    "    ans = 0\n",
    "    for j in range(Q):\n",
    "        if A[i][ abcd[j][1]-1 ] - A[i][ abcd[j][0]-1 ] == abcd[j][2]:\n",
    "            ans += abcd[j][3]  \n",
    "    answer = max(answer,ans)\n",
    "    \n",
    "print(answer)"
   ]
  }
 ],
 "metadata": {
  "kernelspec": {
   "display_name": "Python 3",
   "language": "python",
   "name": "python3"
  },
  "language_info": {
   "codemirror_mode": {
    "name": "ipython",
    "version": 3
   },
   "file_extension": ".py",
   "mimetype": "text/x-python",
   "name": "python",
   "nbconvert_exporter": "python",
   "pygments_lexer": "ipython3",
   "version": "3.7.3"
  }
 },
 "nbformat": 4,
 "nbformat_minor": 2
}
