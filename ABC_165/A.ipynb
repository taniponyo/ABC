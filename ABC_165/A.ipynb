{
 "cells": [
  {
   "cell_type": "code",
   "execution_count": 3,
   "metadata": {
    "scrolled": true
   },
   "outputs": [
    {
     "name": "stdout",
     "output_type": "stream",
     "text": [
      "4\n",
      "5 7\n",
      "NG\n"
     ]
    }
   ],
   "source": [
    "K = int(input())\n",
    "A,B = map(int,input().split())\n",
    "\n",
    "import sys\n",
    "\n",
    "for i in range(A,B+1):\n",
    "    if i % K == 0:\n",
    "        print('OK')\n",
    "        sys.exit()\n",
    "        \n",
    "print('NG')"
   ]
  },
  {
   "cell_type": "code",
   "execution_count": null,
   "metadata": {},
   "outputs": [],
   "source": [
    "K = int(input())\n",
    "A,B = map(int,input().split())\n",
    "\n",
    "tmp = B//K * K\n",
    "\n",
    "if A <= tmp:\n",
    "    print('OK')\n",
    "else:\n",
    "    print('NG')"
   ]
  }
 ],
 "metadata": {
  "kernelspec": {
   "display_name": "Python 3",
   "language": "python",
   "name": "python3"
  },
  "language_info": {
   "codemirror_mode": {
    "name": "ipython",
    "version": 3
   },
   "file_extension": ".py",
   "mimetype": "text/x-python",
   "name": "python",
   "nbconvert_exporter": "python",
   "pygments_lexer": "ipython3",
   "version": "3.7.3"
  }
 },
 "nbformat": 4,
 "nbformat_minor": 2
}
