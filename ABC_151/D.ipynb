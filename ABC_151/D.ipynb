{
 "cells": [
  {
   "cell_type": "code",
   "execution_count": 25,
   "metadata": {},
   "outputs": [
    {
     "name": "stdout",
     "output_type": "stream",
     "text": [
      "3 3\n",
      "...\n",
      "...\n",
      "...\n",
      "4\n"
     ]
    }
   ],
   "source": [
    "def C_BFS(R, C, sy, sx, gy, gx, c):\n",
    "    \"\"\"\n",
    "    R:行数\n",
    "    C:列数\n",
    "    sy,sx:スタートの座標(sy行sx列)\n",
    "    gy,gx:ゴールの座標(gy行gx列)\n",
    "    c:迷路の形状(.:通路,#:壁)\n",
    "    \"\"\"\n",
    "    INF = float('inf')\n",
    "    sy -= 1\n",
    "    sx -= 1\n",
    "    gy -= 1\n",
    "    gx -= 1\n",
    "\n",
    "    def bfs(maze, row, column, sy, sx, gy, gx):\n",
    "        # 原点は(0,0)とする(問題の制約によっては原点をずらす必要がある)\n",
    "        queue = []\n",
    "        queue.insert(0, (sy, sx))\n",
    "        dist = [[INF for _ in range(column)] for _ in range(row)]\n",
    "        dist[sy][sx] = 0  # yが行数、xが列数を意味するときはこの順に書く\n",
    "        # （追記）距離の最大値を持っておく\n",
    "        dist_max = 0\n",
    "        while len(queue):\n",
    "            y, x = queue.pop()\n",
    "#             if x == gx and y == gy:\n",
    "#                 # ゴール座標と一致するなら\n",
    "#                 break\n",
    "            for i in range(4):\n",
    "                nx, ny = x + [1, 0, -1, 0][i], y + \\\n",
    "                    [0, 1, 0, -1][i]  # (x,y)の右、上、左、下\n",
    "                if 0 <= nx and nx < column and 0 <= ny and ny < row \\\n",
    "                        and maze[ny][nx] != '#' and dist[ny][nx] == INF:\n",
    "                    #(nx,ny)が迷路内であり、壁でなく、まだ距離が確定していないとき\n",
    "                    queue.insert(0, (ny, nx))  # 次に探索する座標\n",
    "                    dist[ny][nx] = dist[y][x] + 1\n",
    "                    # （追記）距離の最大値を更新する\n",
    "                    if dist_max < dist[ny][nx]:\n",
    "                        dist_max = dist[ny][nx]\n",
    "        return dist_max\n",
    "#         return dist[gy][gx]\n",
    "\n",
    "    maze = [['' for _ in range(C)] for _ in range(R)]\n",
    "    for i, tmp in enumerate(c):\n",
    "        for j in range(C):\n",
    "            maze[i][j] = tmp[j]\n",
    "\n",
    "    ans = bfs(maze, R, C, sy, sx, gy, gx)\n",
    "    return ans\n",
    "\n",
    "R , C = [int(i) for i in input().split()]\n",
    "c = [input() for _ in range(R)]\n",
    "\n",
    "# スタート地点は全て試す\n",
    "dist_ans = 0\n",
    "for sy in range(1, R+1):\n",
    "    for sx in range(1, C+1):\n",
    "        if c[sy-1][sx-1] != '#':\n",
    "            dist_tmp = C_BFS(R, C, sy, sx, 1, 1, c) # 今回、 gy, gx は不要\n",
    "            if dist_ans < dist_tmp:\n",
    "                dist_ans = dist_tmp\n",
    "print(dist_ans)"
   ]
  }
 ],
 "metadata": {
  "kernelspec": {
   "display_name": "Python 3",
   "language": "python",
   "name": "python3"
  },
  "language_info": {
   "codemirror_mode": {
    "name": "ipython",
    "version": 3
   },
   "file_extension": ".py",
   "mimetype": "text/x-python",
   "name": "python",
   "nbconvert_exporter": "python",
   "pygments_lexer": "ipython3",
   "version": "3.7.3"
  }
 },
 "nbformat": 4,
 "nbformat_minor": 2
}
