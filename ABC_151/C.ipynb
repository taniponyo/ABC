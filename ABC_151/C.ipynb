{
 "cells": [
  {
   "cell_type": "code",
   "execution_count": 4,
   "metadata": {},
   "outputs": [
    {
     "name": "stdout",
     "output_type": "stream",
     "text": [
      "6 0\n"
     ]
    }
   ],
   "source": [
    "N,M = list(map(int,input().split()))"
   ]
  },
  {
   "cell_type": "code",
   "execution_count": 5,
   "metadata": {},
   "outputs": [
    {
     "name": "stdout",
     "output_type": "stream",
     "text": [
      "0 0\n"
     ]
    }
   ],
   "source": [
    "AC = [0]*N\n",
    "WA = [0]*N\n",
    "miss = 0\n",
    "\n",
    "for i in range(M):\n",
    "    #この手の問題はループの中で入力\n",
    "    p,S = list(map(str,input().split()))\n",
    "    p = int(p)-1\n",
    "    #最初に正解したときのみ意味がある\n",
    "    if S == 'AC' and AC[p] == 0:\n",
    "        AC[p] = 1\n",
    "        #ACが出たときに今までのWAを足し合わせるので、それ以降のミスは意味がない\n",
    "        miss += WA[p]\n",
    "        \n",
    "    WA[p] += 1\n",
    "        \n",
    "print(sum(AC),miss)"
   ]
  }
 ],
 "metadata": {
  "kernelspec": {
   "display_name": "Python 3",
   "language": "python",
   "name": "python3"
  },
  "language_info": {
   "codemirror_mode": {
    "name": "ipython",
    "version": 3
   },
   "file_extension": ".py",
   "mimetype": "text/x-python",
   "name": "python",
   "nbconvert_exporter": "python",
   "pygments_lexer": "ipython3",
   "version": "3.7.4"
  }
 },
 "nbformat": 4,
 "nbformat_minor": 2
}
