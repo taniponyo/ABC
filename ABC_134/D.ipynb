{
 "cells": [
  {
   "cell_type": "code",
   "execution_count": 13,
   "metadata": {
    "scrolled": true
   },
   "outputs": [
    {
     "name": "stdout",
     "output_type": "stream",
     "text": [
      "5\n",
      "0 0 0 0 0\n"
     ]
    }
   ],
   "source": [
    "N = int(input())\n",
    "a = list(map(int,input().split()))\n",
    "\n",
    "tmp = [0]*(N)\n",
    "tmp_N = N\n",
    "\n",
    "for i in range(N-1,-1,-1):\n",
    "    tmp_c = 0\n",
    "    for j in range(i,N,i+1):\n",
    "        tmp_c += tmp[j]\n",
    "    if tmp_c%2 == a[i]:\n",
    "        tmp[i] = 0\n",
    "    else:\n",
    "        tmp[i] += 1\n",
    "\n",
    "ans_c = 0\n",
    "ans_b = []\n",
    "for i in range(N):\n",
    "    if tmp[i] != 0:\n",
    "        ans_c += 1\n",
    "        ans_b.append(i+1)\n",
    "        \n",
    "print(ans_c)\n",
    "print(*ans_b)\n",
    "        "
   ]
  }
 ],
 "metadata": {
  "kernelspec": {
   "display_name": "Python 3",
   "language": "python",
   "name": "python3"
  },
  "language_info": {
   "codemirror_mode": {
    "name": "ipython",
    "version": 3
   },
   "file_extension": ".py",
   "mimetype": "text/x-python",
   "name": "python",
   "nbconvert_exporter": "python",
   "pygments_lexer": "ipython3",
   "version": "3.7.7"
  }
 },
 "nbformat": 4,
 "nbformat_minor": 4
}
