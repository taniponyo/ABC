{
 "cells": [
  {
   "cell_type": "code",
   "execution_count": 1,
   "metadata": {
    "scrolled": true
   },
   "outputs": [
    {
     "name": "stdout",
     "output_type": "stream",
     "text": [
      "1 0 3 0 2 5\n"
     ]
    }
   ],
   "source": [
    "tmp = list(map(int,input().split()))\n",
    "\n",
    "a = tmp[2] - tmp[0]\n",
    "b = tmp[3] - tmp[1]\n",
    "c = tmp[4] - tmp[0]\n",
    "d = tmp[5] - tmp[1]\n",
    "\n",
    "print(abs(a*d-b*c)/2)"
   ]
  }
 ],
 "metadata": {
  "kernelspec": {
   "display_name": "Python 3",
   "language": "python",
   "name": "python3"
  },
  "language_info": {
   "codemirror_mode": {
    "name": "ipython",
    "version": 3
   },
   "file_extension": ".py",
   "mimetype": "text/x-python",
   "name": "python",
   "nbconvert_exporter": "python",
   "pygments_lexer": "ipython3",
   "version": "3.7.7"
  }
 },
 "nbformat": 4,
 "nbformat_minor": 4
}
