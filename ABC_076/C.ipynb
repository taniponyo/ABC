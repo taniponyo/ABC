{
 "cells": [
  {
   "cell_type": "code",
   "execution_count": null,
   "metadata": {},
   "outputs": [],
   "source": [
    "S = input()\n",
    "T = input()\n",
    "# この処理は後でも大丈夫\n",
    "S2 = S.replace('?','a')\n",
    "ans = []\n",
    "\n",
    "for i in range(len(S)-len(T)+1):\n",
    "    # Tの長さの部分文字列をとってくる\n",
    "    S_sub = S[i:i+len(T)]\n",
    "    # 完全に一致しているかどうかの判断\n",
    "    check = True\n",
    "    for s,t in zip(S_sub,T):\n",
    "        if s != t and s == '?': # ?はスルー\n",
    "            continue\n",
    "        elif s == t:\n",
    "            continue\n",
    "        elif s != t and s != '?': # どっちでもないのはアウト\n",
    "            check = False\n",
    "            break\n",
    "        \n",
    "    if check == True:\n",
    "        tmp = S2[:i] + T + S2[i+len(T):]\n",
    "        # 答えが複数ある可能性がある\n",
    "        ans.append(tmp)\n",
    "\n",
    "if len(ans) != 0:\n",
    "    answer = sorted(ans)[0]\n",
    "else:\n",
    "    answer = 'UNRESTORABLE'\n",
    "    \n",
    "print(answer)"
   ]
  }
 ],
 "metadata": {
  "kernelspec": {
   "display_name": "Python 3",
   "language": "python",
   "name": "python3"
  },
  "language_info": {
   "codemirror_mode": {
    "name": "ipython",
    "version": 3
   },
   "file_extension": ".py",
   "mimetype": "text/x-python",
   "name": "python",
   "nbconvert_exporter": "python",
   "pygments_lexer": "ipython3",
   "version": "3.7.3"
  }
 },
 "nbformat": 4,
 "nbformat_minor": 2
}
