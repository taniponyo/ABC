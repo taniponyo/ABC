{
 "cells": [
  {
   "cell_type": "code",
   "execution_count": 7,
   "metadata": {
    "scrolled": true
   },
   "outputs": [
    {
     "name": "stdout",
     "output_type": "stream",
     "text": [
      "4\n",
      "1 2 3 4\n",
      "0\n"
     ]
    }
   ],
   "source": [
    "N = int(input())\n",
    "H = list(map(int,input().split())) + [10**9+7]\n",
    "\n",
    "count = 0\n",
    "ans = 0\n",
    "\n",
    "for i in range(N):\n",
    "    if H[i] >= H[i+1]:\n",
    "        count += 1\n",
    "    else:\n",
    "        ans = max(ans,count)\n",
    "        count = 0\n",
    "\n",
    "print(ans)"
   ]
  }
 ],
 "metadata": {
  "kernelspec": {
   "display_name": "Python 3",
   "language": "python",
   "name": "python3"
  },
  "language_info": {
   "codemirror_mode": {
    "name": "ipython",
    "version": 3
   },
   "file_extension": ".py",
   "mimetype": "text/x-python",
   "name": "python",
   "nbconvert_exporter": "python",
   "pygments_lexer": "ipython3",
   "version": "3.7.6"
  }
 },
 "nbformat": 4,
 "nbformat_minor": 4
}
