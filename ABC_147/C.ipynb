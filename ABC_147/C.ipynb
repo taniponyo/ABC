{
 "cells": [
  {
   "cell_type": "code",
   "execution_count": 5,
   "metadata": {},
   "outputs": [
    {
     "name": "stdout",
     "output_type": "stream",
     "text": [
      "3\n",
      "1\n",
      "2 1\n",
      "1\n",
      "1 1\n",
      "1\n",
      "2 0\n"
     ]
    }
   ],
   "source": [
    "n = int(input())\n",
    "a_list_sum = []\n",
    "for i in range(n):\n",
    "    a_tmp = int(input())\n",
    "    a_list_tmp = [list(map(int,input().split())) for _ in range(a_tmp)]\n",
    "    a_list_sum_tmp = []\n",
    "    a_list_sum_tmp.append(a_tmp)\n",
    "    a_list_sum_tmp.append(a_list_tmp)\n",
    "    a_list_sum.append(a_list_sum_tmp)"
   ]
  },
  {
   "cell_type": "code",
   "execution_count": 8,
   "metadata": {},
   "outputs": [
    {
     "name": "stdout",
     "output_type": "stream",
     "text": [
      "[(0, 0, 0), (0, 0, 1), (0, 1, 0), (0, 1, 1), (1, 0, 0), (1, 0, 1), (1, 1, 0), (1, 1, 1)]\n",
      "2\n"
     ]
    }
   ],
   "source": [
    "import itertools\n",
    "L = [0, 1] #生成する数字\n",
    "bit_list = list(itertools.product([0, 1], repeat=n))\n",
    "\n",
    "#bit全探索\n",
    "for i in range(len(bit_list)):\n",
    "    count = 0\n",
    "    #証言者\n",
    "    for j in range(len(a_list_sum)):\n",
    "        #正直者について\n",
    "        if bit_list[i][j] == 1:\n",
    "            #証言数\n",
    "            for k in range(len(a_list_sum[j][1])):\n",
    "                #対象者\n",
    "                person_id = a_list_sum[j][1][k][0] - 1\n",
    "                #審議\n",
    "                is_honest = a_list_sum[j][1][k][1]\n",
    "                #countが増えることが食い違いを生む\n",
    "                if bit_list[i][person_id] != is_honest:\n",
    "                    count += 1\n",
    "    if count == 0:\n",
    "        ans = sum(bit_list[i])\n",
    "print(ans)"
   ]
  }
 ],
 "metadata": {
  "kernelspec": {
   "display_name": "Python 3",
   "language": "python",
   "name": "python3"
  },
  "language_info": {
   "codemirror_mode": {
    "name": "ipython",
    "version": 3
   },
   "file_extension": ".py",
   "mimetype": "text/x-python",
   "name": "python",
   "nbconvert_exporter": "python",
   "pygments_lexer": "ipython3",
   "version": "3.7.3"
  }
 },
 "nbformat": 4,
 "nbformat_minor": 2
}
