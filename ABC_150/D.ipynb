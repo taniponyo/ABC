{
 "cells": [
  {
   "cell_type": "code",
   "execution_count": 5,
   "metadata": {},
   "outputs": [
    {
     "name": "stdout",
     "output_type": "stream",
     "text": [
      "5 1000000000\n",
      "6 6 2 6 2\n"
     ]
    }
   ],
   "source": [
    "N,M = list(map(int,input().split()))\n",
    "a = list(map(int,input().split()))"
   ]
  },
  {
   "cell_type": "code",
   "execution_count": 6,
   "metadata": {},
   "outputs": [
    {
     "name": "stdout",
     "output_type": "stream",
     "text": [
      "[1, 1, 1, 1, 1]\n",
      "166666667\n"
     ]
    },
    {
     "name": "stderr",
     "output_type": "stream",
     "text": [
      "C:\\Users\\admin\\Anaconda3\\lib\\site-packages\\ipykernel_launcher.py:7: DeprecationWarning: fractions.gcd() is deprecated. Use math.gcd() instead.\n",
      "  import sys\n"
     ]
    }
   ],
   "source": [
    "import fractions\n",
    "import sys\n",
    "\n",
    "lcm = a[0]//2\n",
    "\n",
    "for i in range(1, N):\n",
    "    lcm = lcm * (a[i]//2) // fractions.gcd(lcm, a[i]//2)\n",
    "\n",
    "    \n",
    "count_list = []\n",
    "count = 0\n",
    "for i in range(N):\n",
    "    while a[i] % 2 == 0:\n",
    "        count += 1\n",
    "        a[i] = a[i] // 2\n",
    "    count_list.append(count)\n",
    "    count = 0\n",
    "    \n",
    "for i in range(N):\n",
    "    if count_list[i] != sum(count_list)/N:\n",
    "        print(0)\n",
    "        sys.exit()\n",
    "    \n",
    "\n",
    "print(-(-(M//lcm) // 2))"
   ]
  }
 ],
 "metadata": {
  "kernelspec": {
   "display_name": "Python 3",
   "language": "python",
   "name": "python3"
  },
  "language_info": {
   "codemirror_mode": {
    "name": "ipython",
    "version": 3
   },
   "file_extension": ".py",
   "mimetype": "text/x-python",
   "name": "python",
   "nbconvert_exporter": "python",
   "pygments_lexer": "ipython3",
   "version": "3.7.4"
  }
 },
 "nbformat": 4,
 "nbformat_minor": 2
}
