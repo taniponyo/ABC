{
 "cells": [
  {
   "cell_type": "code",
   "execution_count": 5,
   "metadata": {
    "scrolled": true
   },
   "outputs": [
    {
     "name": "stdout",
     "output_type": "stream",
     "text": [
      "314 15\n",
      "9 26 5 35 8 9 79 3 23 8 46 2 6 43 3\n",
      "9\n"
     ]
    }
   ],
   "source": [
    "N,M = map(int,input().split())\n",
    "A = list(map(int,input().split()))\n",
    "\n",
    "if sum(A) > N:\n",
    "    print(-1)\n",
    "else:\n",
    "    print(N-sum(A))"
   ]
  }
 ],
 "metadata": {
  "kernelspec": {
   "display_name": "Python 3",
   "language": "python",
   "name": "python3"
  },
  "language_info": {
   "codemirror_mode": {
    "name": "ipython",
    "version": 3
   },
   "file_extension": ".py",
   "mimetype": "text/x-python",
   "name": "python",
   "nbconvert_exporter": "python",
   "pygments_lexer": "ipython3",
   "version": "3.7.3"
  }
 },
 "nbformat": 4,
 "nbformat_minor": 2
}
