{
 "cells": [
  {
   "cell_type": "code",
   "execution_count": 1,
   "metadata": {},
   "outputs": [
    {
     "name": "stdout",
     "output_type": "stream",
     "text": [
      "4 4\n",
      "##.#\n",
      "....\n",
      "##.#\n",
      ".#.#\n"
     ]
    }
   ],
   "source": [
    "H,W = map(int,input().split())\n",
    "a = [input() for i in range(H)]"
   ]
  },
  {
   "cell_type": "code",
   "execution_count": 4,
   "metadata": {},
   "outputs": [
    {
     "name": "stdout",
     "output_type": "stream",
     "text": [
      "['##.#', '....', '##.#', '.#.#']\n"
     ]
    }
   ],
   "source": [
    "print(a)"
   ]
  },
  {
   "cell_type": "code",
   "execution_count": 9,
   "metadata": {},
   "outputs": [
    {
     "name": "stdout",
     "output_type": "stream",
     "text": [
      "#\n",
      "#\n",
      ".\n",
      "#\n",
      ".\n",
      ".\n",
      ".\n",
      ".\n",
      "#\n",
      "#\n",
      ".\n",
      "#\n",
      ".\n",
      "#\n",
      ".\n",
      "#\n",
      "[True, True, False, True]\n",
      "[True, False, True, True]\n",
      "###\n",
      "###\n",
      ".##\n"
     ]
    }
   ],
   "source": [
    "y = [False]*H\n",
    "x = [False]*W\n",
    "\n",
    "for i in range(H):\n",
    "    for j in range(W):\n",
    "        if a[i][j] == \"#\":\n",
    "            y[i] = True\n",
    "            x[j] = True\n",
    "            \n",
    "for i in range(H):\n",
    "    if y[i] == True:\n",
    "        for j in range(W):\n",
    "            if x[j] == True:\n",
    "                print(a[i][j],end=\"\")\n",
    "        print()"
   ]
  }
 ],
 "metadata": {
  "kernelspec": {
   "display_name": "Python 3",
   "language": "python",
   "name": "python3"
  },
  "language_info": {
   "codemirror_mode": {
    "name": "ipython",
    "version": 3
   },
   "file_extension": ".py",
   "mimetype": "text/x-python",
   "name": "python",
   "nbconvert_exporter": "python",
   "pygments_lexer": "ipython3",
   "version": "3.7.3"
  }
 },
 "nbformat": 4,
 "nbformat_minor": 2
}
