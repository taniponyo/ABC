{
 "cells": [
  {
   "cell_type": "code",
   "execution_count": null,
   "metadata": {},
   "outputs": [],
   "source": [
    "N = int(input())\n",
    "a = [int(input()) for _ in range(N)]\n",
    "\n",
    "bottom = 1\n",
    "answer = 0\n",
    "\n",
    "while bottom != 2:\n",
    "    bottom = a[bottom-1]\n",
    "    answer += 1\n",
    "    if answer >= 10**5+9:\n",
    "        print(-1)\n",
    "        exit()\n",
    "    \n",
    "print(answer)"
   ]
  }
 ],
 "metadata": {
  "kernelspec": {
   "display_name": "Python 3",
   "language": "python",
   "name": "python3"
  },
  "language_info": {
   "codemirror_mode": {
    "name": "ipython",
    "version": 3
   },
   "file_extension": ".py",
   "mimetype": "text/x-python",
   "name": "python",
   "nbconvert_exporter": "python",
   "pygments_lexer": "ipython3",
   "version": "3.7.3"
  }
 },
 "nbformat": 4,
 "nbformat_minor": 2
}
