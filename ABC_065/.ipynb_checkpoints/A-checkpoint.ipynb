{
 "cells": [
  {
   "cell_type": "code",
   "execution_count": 5,
   "metadata": {
    "scrolled": true
   },
   "outputs": [
    {
     "name": "stdout",
     "output_type": "stream",
     "text": [
      " 3 7 12\n",
      "dangerous\n"
     ]
    }
   ],
   "source": [
    "x,a,b = map(int,input().split())\n",
    "\n",
    "if -a + b <= 0:\n",
    "    print('delicious')\n",
    "elif 0 < -a + b and -a + b <= x:\n",
    "    print('safe')\n",
    "else:\n",
    "    print('dangerous')"
   ]
  }
 ],
 "metadata": {
  "kernelspec": {
   "display_name": "Python 3",
   "language": "python",
   "name": "python3"
  },
  "language_info": {
   "codemirror_mode": {
    "name": "ipython",
    "version": 3
   },
   "file_extension": ".py",
   "mimetype": "text/x-python",
   "name": "python",
   "nbconvert_exporter": "python",
   "pygments_lexer": "ipython3",
   "version": "3.7.3"
  }
 },
 "nbformat": 4,
 "nbformat_minor": 2
}
