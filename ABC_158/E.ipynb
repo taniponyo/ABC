{
 "cells": [
  {
   "cell_type": "code",
   "execution_count": 6,
   "metadata": {
    "scrolled": true
   },
   "outputs": [
    {
     "name": "stdout",
     "output_type": "stream",
     "text": [
      "299 2\n",
      "11891226624024378168680971460373973668152856311530445824188351158671145353766024123622041748066009918933884322363241779816589053800863753656995887997831337161850467519274594790594614788078415272731167063702270992704271510417706147733873220695716366181538585015220685038730783564751708724228202921859\n"
     ]
    },
    {
     "data": {
      "text/plain": [
       "21708"
      ]
     },
     "execution_count": 6,
     "metadata": {},
     "output_type": "execute_result"
    }
   ],
   "source": [
    "N,P = map(int,input().split())\n",
    "S = input()\n",
    "\n",
    "def solve(S,N,P):\n",
    "    if P == 2:\n",
    "        ans = 0\n",
    "        for i in range(N):\n",
    "            if int(S[i])%P == 0:\n",
    "                ans += i+1\n",
    "        return ans\n",
    "    if P == 5:\n",
    "        ans = 0\n",
    "        for i in range(N):\n",
    "            if int(S[i])%P == 0:\n",
    "                ans += i+1\n",
    "        return ans\n",
    "    \n",
    "    S = S[::-1]\n",
    "    mod_list = [0]*P\n",
    "    mod_list[0] = 1\n",
    "\n",
    "    mod = P\n",
    "    tmp = 0\n",
    "\n",
    "    for i in range(N):\n",
    "        tmp = (tmp + int(S[i])*pow(10,i,mod))%mod\n",
    "        mod_list[tmp] += 1\n",
    "    \n",
    "    ans = 0\n",
    "    for i in mod_list:\n",
    "        ans += i*(i-1)//2\n",
    "        \n",
    "    return ans\n",
    "\n",
    "print(solve(S,N,P))"
   ]
  }
 ],
 "metadata": {
  "kernelspec": {
   "display_name": "Python 3",
   "language": "python",
   "name": "python3"
  },
  "language_info": {
   "codemirror_mode": {
    "name": "ipython",
    "version": 3
   },
   "file_extension": ".py",
   "mimetype": "text/x-python",
   "name": "python",
   "nbconvert_exporter": "python",
   "pygments_lexer": "ipython3",
   "version": "3.7.3"
  }
 },
 "nbformat": 4,
 "nbformat_minor": 2
}
