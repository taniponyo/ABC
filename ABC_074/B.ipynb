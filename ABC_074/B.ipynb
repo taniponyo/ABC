{
 "cells": [
  {
   "cell_type": "code",
   "execution_count": 8,
   "metadata": {
    "scrolled": true
   },
   "outputs": [
    {
     "name": "stdout",
     "output_type": "stream",
     "text": [
      "2\n",
      "9\n",
      "3 6\n",
      "12\n"
     ]
    }
   ],
   "source": [
    "N = int(input())\n",
    "K = int(input())\n",
    "x = list(map(int,input().split()))\n",
    "\n",
    "ans = 0\n",
    "\n",
    "p1 = 0\n",
    "p2 = K\n",
    "\n",
    "for i in range(N):\n",
    "    if abs(x[i] - p1) < abs(x[i] - p2):\n",
    "        ans += abs(x[i] - p1)*2\n",
    "        p1 = x[i]\n",
    "    else:\n",
    "        ans += abs(x[i] - p2)*2\n",
    "        p2 = x[i]\n",
    "\n",
    "print(ans)"
   ]
  }
 ],
 "metadata": {
  "kernelspec": {
   "display_name": "Python 3",
   "language": "python",
   "name": "python3"
  },
  "language_info": {
   "codemirror_mode": {
    "name": "ipython",
    "version": 3
   },
   "file_extension": ".py",
   "mimetype": "text/x-python",
   "name": "python",
   "nbconvert_exporter": "python",
   "pygments_lexer": "ipython3",
   "version": "3.7.3"
  }
 },
 "nbformat": 4,
 "nbformat_minor": 2
}
