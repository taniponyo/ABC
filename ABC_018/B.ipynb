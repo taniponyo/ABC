{
 "cells": [
  {
   "cell_type": "code",
   "execution_count": 3,
   "metadata": {},
   "outputs": [
    {
     "name": "stdout",
     "output_type": "stream",
     "text": [
      "abcdef\n",
      "2\n",
      "3 5\n",
      "1 4\n",
      "debacf\n"
     ]
    }
   ],
   "source": [
    "S = input()\n",
    "tmp = []\n",
    "for i in range(len(S)):\n",
    "    tmp.append(S[i])\n",
    "N = int(input())\n",
    "for i in range(N):\n",
    "    L,R = map(int,input().split())\n",
    "    tmp[L-1:R] = tmp[L-1:R][::-1]\n",
    "\n",
    "print(''.join(tmp))"
   ]
  }
 ],
 "metadata": {
  "kernelspec": {
   "display_name": "Python 3",
   "language": "python",
   "name": "python3"
  },
  "language_info": {
   "codemirror_mode": {
    "name": "ipython",
    "version": 3
   },
   "file_extension": ".py",
   "mimetype": "text/x-python",
   "name": "python",
   "nbconvert_exporter": "python",
   "pygments_lexer": "ipython3",
   "version": "3.7.6"
  }
 },
 "nbformat": 4,
 "nbformat_minor": 4
}
