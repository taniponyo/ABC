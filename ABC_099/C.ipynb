{
 "cells": [
  {
   "cell_type": "code",
   "execution_count": 39,
   "metadata": {},
   "outputs": [
    {
     "name": "stdout",
     "output_type": "stream",
     "text": [
      "127\n",
      "[1, 6, 9, 36, 81, 216, 729, 1296, 6561, 7776, 46656, 59049]\n"
     ]
    }
   ],
   "source": [
    "N = int(input())\n",
    "\n",
    "moneylist = [1]\n",
    "\n",
    "money = 6\n",
    "\n",
    "while money < 100000:\n",
    "    moneylist.append(money)\n",
    "    money = money*6\n",
    "\n",
    "money = 9    \n",
    "\n",
    "while money < 100000:\n",
    "    moneylist.append(money)\n",
    "    money = money*9\n",
    "moneylist.sort()\n",
    "\n",
    "dp = [10**6]*(N+1)\n",
    "dp[0] = 0"
   ]
  },
  {
   "cell_type": "code",
   "execution_count": 40,
   "metadata": {},
   "outputs": [
    {
     "name": "stdout",
     "output_type": "stream",
     "text": [
      "4\n"
     ]
    }
   ],
   "source": [
    "for i in range(1,N+1): #お金\n",
    "    for j in moneylist: #使えるお金\n",
    "        if j <= i:\n",
    "            dp[i] = min(dp[i],dp[i-j] + 1)\n",
    "        \n",
    "print(dp[-1])"
   ]
  }
 ],
 "metadata": {
  "kernelspec": {
   "display_name": "Python 3",
   "language": "python",
   "name": "python3"
  },
  "language_info": {
   "codemirror_mode": {
    "name": "ipython",
    "version": 3
   },
   "file_extension": ".py",
   "mimetype": "text/x-python",
   "name": "python",
   "nbconvert_exporter": "python",
   "pygments_lexer": "ipython3",
   "version": "3.7.3"
  }
 },
 "nbformat": 4,
 "nbformat_minor": 2
}
