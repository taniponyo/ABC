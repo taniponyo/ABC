{
 "cells": [
  {
   "cell_type": "code",
   "execution_count": 16,
   "metadata": {},
   "outputs": [
    {
     "name": "stdout",
     "output_type": "stream",
     "text": [
      "3 4\n",
      "4 3\n",
      "4 1\n",
      "2 2\n"
     ]
    }
   ],
   "source": [
    "from heapq import heappush, heappop\n",
    " \n",
    "N,M = map(int,input().split())\n",
    "A = [0]*N\n",
    "B = [0]*N\n",
    "for i in range(N):\n",
    "    A[i],B[i] = map(int,input().split())\n",
    "AB = [[] for _ in range(M+1)] # A に対する B\n",
    "for a,b in zip(A,B):\n",
    "    if a <= M:\n",
    "        AB[a].append(b)"
   ]
  },
  {
   "cell_type": "code",
   "execution_count": 17,
   "metadata": {},
   "outputs": [
    {
     "name": "stdout",
     "output_type": "stream",
     "text": [
      "[[], [], [2], [], [3, 1]]\n"
     ]
    }
   ],
   "source": [
    "print(AB)"
   ]
  },
  {
   "cell_type": "code",
   "execution_count": 18,
   "metadata": {},
   "outputs": [
    {
     "name": "stdout",
     "output_type": "stream",
     "text": [
      "5\n"
     ]
    }
   ],
   "source": [
    "q = []\n",
    "answer = 0\n",
    "\n",
    "for day in AB:\n",
    "    # 制限より短いものからも選べるように全文pushして一番良いものだけpopする\n",
    "    for pay in day:\n",
    "        heappush(q,-pay)\n",
    "    if len(q) > 0:\n",
    "        answer += -heappop(q)\n",
    "        \n",
    "print(answer)"
   ]
  }
 ],
 "metadata": {
  "kernelspec": {
   "display_name": "Python 3",
   "language": "python",
   "name": "python3"
  },
  "language_info": {
   "codemirror_mode": {
    "name": "ipython",
    "version": 3
   },
   "file_extension": ".py",
   "mimetype": "text/x-python",
   "name": "python",
   "nbconvert_exporter": "python",
   "pygments_lexer": "ipython3",
   "version": "3.7.3"
  }
 },
 "nbformat": 4,
 "nbformat_minor": 2
}
