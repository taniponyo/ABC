{
 "cells": [
  {
   "cell_type": "code",
   "execution_count": null,
   "metadata": {},
   "outputs": [],
   "source": [
    "N = int(input())\n",
    "s = [''.join(sorted(input())) for i in range(N)]\n",
    " \n",
    "from collections import Counter\n",
    " \n",
    "c = Counter(s)\n",
    "keys, values = zip(*c.most_common())\n",
    "#print(keys)\n",
    "#print(values)\n",
    "ans = 0\n",
    "n = 0\n",
    "for i in range(len(values)):\n",
    "    if values[i] > 1:\n",
    "        n = values[i]\n",
    "        ans += n*(n-1)//2\n",
    "        \n",
    "print(ans)"
   ]
  }
 ],
 "metadata": {
  "kernelspec": {
   "display_name": "Python 3",
   "language": "python",
   "name": "python3"
  },
  "language_info": {
   "codemirror_mode": {
    "name": "ipython",
    "version": 3
   },
   "file_extension": ".py",
   "mimetype": "text/x-python",
   "name": "python",
   "nbconvert_exporter": "python",
   "pygments_lexer": "ipython3",
   "version": "3.7.3"
  }
 },
 "nbformat": 4,
 "nbformat_minor": 2
}
