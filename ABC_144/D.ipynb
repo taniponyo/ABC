{
 "cells": [
  {
   "cell_type": "code",
   "execution_count": 6,
   "metadata": {},
   "outputs": [
    {
     "name": "stdout",
     "output_type": "stream",
     "text": [
      "3 1 8\n"
     ]
    }
   ],
   "source": [
    "a,b,x = list(map(int,input().split()))"
   ]
  },
  {
   "cell_type": "code",
   "execution_count": 7,
   "metadata": {},
   "outputs": [
    {
     "name": "stdout",
     "output_type": "stream",
     "text": [
      "4.236394799058843\n"
     ]
    }
   ],
   "source": [
    "import math\n",
    "\n",
    "if a*b/2 > x/a:\n",
    "    h = 2*x/a/b\n",
    "    print(math.degrees(math.atan(b/h)))\n",
    "else:\n",
    "    h = 2*(a*b-x/a)/a\n",
    "    print(math.degrees(math.atan(h/a)))"
   ]
  }
 ],
 "metadata": {
  "kernelspec": {
   "display_name": "Python 3",
   "language": "python",
   "name": "python3"
  },
  "language_info": {
   "codemirror_mode": {
    "name": "ipython",
    "version": 3
   },
   "file_extension": ".py",
   "mimetype": "text/x-python",
   "name": "python",
   "nbconvert_exporter": "python",
   "pygments_lexer": "ipython3",
   "version": "3.7.3"
  }
 },
 "nbformat": 4,
 "nbformat_minor": 2
}
