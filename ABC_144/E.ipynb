{
 "cells": [
  {
   "cell_type": "code",
   "execution_count": 1,
   "metadata": {},
   "outputs": [
    {
     "name": "stdout",
     "output_type": "stream",
     "text": [
      "3 5\n",
      "4 2 1\n",
      "2 3 1\n"
     ]
    }
   ],
   "source": [
    "N, K = list(map(int,input().split()))\n",
    "A = list(map(int,input().split()))\n",
    "F = list(map(int,input().split()))"
   ]
  },
  {
   "cell_type": "code",
   "execution_count": 2,
   "metadata": {},
   "outputs": [
    {
     "name": "stdout",
     "output_type": "stream",
     "text": [
      "[1, 2, 4]\n",
      "[3, 2, 1]\n",
      "[3, 4, 4]\n"
     ]
    }
   ],
   "source": [
    "Alist = sorted(A)\n",
    "Flist = sorted(F, reverse=True)\n",
    "\n",
    "print(Alist)\n",
    "print(Flist)\n",
    "\n",
    "l = [Alist[i]*Flist[i] for i in range(N)]\n",
    "print(l)"
   ]
  },
  {
   "cell_type": "code",
   "execution_count": 3,
   "metadata": {},
   "outputs": [
    {
     "name": "stdout",
     "output_type": "stream",
     "text": [
      "2\n"
     ]
    }
   ],
   "source": [
    "left = 0\n",
    "right = max(l)\n",
    "\n",
    "while right-left >= 1:\n",
    "    mid = left + (right-left)/2\n",
    "    SUM = 0\n",
    "    for i in range(N):\n",
    "        SUM += max(Alist[i] - mid//Flist[i], 0)\n",
    "    if SUM <= K:\n",
    "        right = mid\n",
    "    else:\n",
    "        left = mid\n",
    "    \n",
    "print(int(right))"
   ]
  }
 ],
 "metadata": {
  "kernelspec": {
   "display_name": "Python 3",
   "language": "python",
   "name": "python3"
  },
  "language_info": {
   "codemirror_mode": {
    "name": "ipython",
    "version": 3
   },
   "file_extension": ".py",
   "mimetype": "text/x-python",
   "name": "python",
   "nbconvert_exporter": "python",
   "pygments_lexer": "ipython3",
   "version": "3.7.3"
  }
 },
 "nbformat": 4,
 "nbformat_minor": 4
}
