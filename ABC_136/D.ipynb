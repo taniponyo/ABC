{
 "cells": [
  {
   "cell_type": "code",
   "execution_count": 1,
   "metadata": {},
   "outputs": [
    {
     "name": "stdout",
     "output_type": "stream",
     "text": [
      "RRLLLLRLRRLL\n"
     ]
    }
   ],
   "source": [
    "S = input()"
   ]
  },
  {
   "cell_type": "code",
   "execution_count": 5,
   "metadata": {},
   "outputs": [],
   "source": [
    "child_af = [1 for i in range(len(S))]\n",
    "child_be = [1 for i in range(len(S))]\n",
    "N = len(S)"
   ]
  },
  {
   "cell_type": "code",
   "execution_count": 15,
   "metadata": {},
   "outputs": [
    {
     "name": "stdout",
     "output_type": "stream",
     "text": [
      "0 3 3 0 0 0 1 1 0 2 2 0 "
     ]
    }
   ],
   "source": [
    "for i in range(10**5//2):\n",
    "    for j in range(N):\n",
    "        if j == 0:\n",
    "            if S[j+1] == 'L':\n",
    "                child_af[j] = child_be[j+1]\n",
    "            else:\n",
    "                child_af[j] = 0\n",
    "        elif j == N-1:\n",
    "            if S[j-1] == 'R':\n",
    "                child_af[j] = child_be[j-1]\n",
    "            else:\n",
    "                child_af[j] = 0\n",
    "        else:\n",
    "            if S[j-1] == 'R' and S[j+1] == 'L':\n",
    "                child_af[j] = child_be[j-1] + child_be[j+1]\n",
    "            elif S[j-1] == 'L' and S[j+1] == 'L':\n",
    "                child_af[j] = child_be[j+1]\n",
    "            elif S[j-1] == 'R' and S[j+1] == 'R':\n",
    "                child_af[j] = child_be[j-1]\n",
    "            else:\n",
    "                child_af[j] = 0\n",
    "    \n",
    "    for j in range(N):\n",
    "        child_be[j] = child_af[j]\n",
    "        \n",
    "for s in child_af:\n",
    "    print(s, end =\" \")\n",
    "        \n",
    "            "
   ]
  }
 ],
 "metadata": {
  "kernelspec": {
   "display_name": "Python 3",
   "language": "python",
   "name": "python3"
  },
  "language_info": {
   "codemirror_mode": {
    "name": "ipython",
    "version": 3
   },
   "file_extension": ".py",
   "mimetype": "text/x-python",
   "name": "python",
   "nbconvert_exporter": "python",
   "pygments_lexer": "ipython3",
   "version": "3.7.4"
  }
 },
 "nbformat": 4,
 "nbformat_minor": 2
}
