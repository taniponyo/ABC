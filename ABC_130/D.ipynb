{
 "cells": [
  {
   "cell_type": "code",
   "execution_count": 1,
   "metadata": {
    "scrolled": false
   },
   "outputs": [
    {
     "name": "stdout",
     "output_type": "stream",
     "text": [
      "4 10\n",
      "6 1 2 7\n"
     ]
    }
   ],
   "source": [
    "N,K = map(int,input().split())\n",
    "a = list(map(int,input().split()))\n",
    "\n",
    "ans = 0\n",
    "tmp = 0\n",
    "r = 0\n",
    "\n",
    "for l in range(N):\n",
    "    while tmp < K and r < N:\n",
    "        tmp += a[r]\n",
    "        r += 1\n",
    "    if tmp < K:\n",
    "        break\n",
    "    ans += N - r + 1\n",
    "    if r == l:\n",
    "        r += 1\n",
    "    else:\n",
    "        tmp -= a[l]\n",
    "        \n",
    "print(ans)"
   ]
  }
 ],
 "metadata": {
  "kernelspec": {
   "display_name": "Python 3",
   "language": "python",
   "name": "python3"
  },
  "language_info": {
   "codemirror_mode": {
    "name": "ipython",
    "version": 3
   },
   "file_extension": ".py",
   "mimetype": "text/x-python",
   "name": "python",
   "nbconvert_exporter": "python",
   "pygments_lexer": "ipython3",
   "version": "3.7.7"
  }
 },
 "nbformat": 4,
 "nbformat_minor": 2
}
