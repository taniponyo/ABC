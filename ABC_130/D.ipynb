{
 "cells": [
  {
   "cell_type": "code",
   "execution_count": 19,
   "metadata": {
    "scrolled": true
   },
   "outputs": [
    {
     "name": "stdout",
     "output_type": "stream",
     "text": [
      "3 5 \n",
      "3 3 3\n",
      "3\n"
     ]
    }
   ],
   "source": [
    "N,K = map(int,input().split())\n",
    "A = list(map(int,input().split()))\n",
    "\n",
    "ans = 0\n",
    "tmp = 0\n",
    "right = 0\n",
    "\n",
    "for left in range(N):\n",
    "    while right < N and tmp < K:\n",
    "        tmp += A[right]\n",
    "        right += 1\n",
    "        \n",
    "    if tmp < K:\n",
    "        break\n",
    "        \n",
    "    ans += N - right + 1\n",
    "        \n",
    "    if right == left:\n",
    "        right += 1\n",
    "    else:\n",
    "        tmp -= A[left]\n",
    "        \n",
    "print(ans)"
   ]
  },
  {
   "cell_type": "code",
   "execution_count": null,
   "metadata": {},
   "outputs": [],
   "source": []
  }
 ],
 "metadata": {
  "kernelspec": {
   "display_name": "Python 3",
   "language": "python",
   "name": "python3"
  },
  "language_info": {
   "codemirror_mode": {
    "name": "ipython",
    "version": 3
   },
   "file_extension": ".py",
   "mimetype": "text/x-python",
   "name": "python",
   "nbconvert_exporter": "python",
   "pygments_lexer": "ipython3",
   "version": "3.7.3"
  }
 },
 "nbformat": 4,
 "nbformat_minor": 2
}
