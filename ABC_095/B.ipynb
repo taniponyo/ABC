{
 "cells": [
  {
   "cell_type": "code",
   "execution_count": 7,
   "metadata": {},
   "outputs": [
    {
     "name": "stdout",
     "output_type": "stream",
     "text": [
      "5 3000\n",
      "150\n",
      "130\n",
      "150\n",
      "130\n",
      "11\n",
      "225\n"
     ]
    }
   ],
   "source": [
    "N,X = map(int,input().split())\n",
    "m = [0]*N\n",
    "for i in range(N):\n",
    "    m[i] = int(input())\n",
    "\n",
    "res = X - sum(m)\n",
    "ans = N + res//min(m)\n",
    "print(ans)"
   ]
  }
 ],
 "metadata": {
  "kernelspec": {
   "display_name": "Python 3",
   "language": "python",
   "name": "python3"
  },
  "language_info": {
   "codemirror_mode": {
    "name": "ipython",
    "version": 3
   },
   "file_extension": ".py",
   "mimetype": "text/x-python",
   "name": "python",
   "nbconvert_exporter": "python",
   "pygments_lexer": "ipython3",
   "version": "3.7.3"
  }
 },
 "nbformat": 4,
 "nbformat_minor": 2
}
