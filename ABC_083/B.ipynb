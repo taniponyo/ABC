{
 "cells": [
  {
   "cell_type": "code",
   "execution_count": null,
   "metadata": {
    "scrolled": true
   },
   "outputs": [],
   "source": [
    "N,A,B = map(int,input().split())\n",
    "\n",
    "ans = 0\n",
    "\n",
    "for i in range(1,N+1):\n",
    "    tmp = str(i)\n",
    "    wa = 0\n",
    "    for j in tmp:\n",
    "        wa += int(j)\n",
    "    if A <= wa and wa <= B:\n",
    "        ans += i\n",
    "        \n",
    "print(ans)"
   ]
  }
 ],
 "metadata": {
  "kernelspec": {
   "display_name": "Python 3",
   "language": "python",
   "name": "python3"
  },
  "language_info": {
   "codemirror_mode": {
    "name": "ipython",
    "version": 3
   },
   "file_extension": ".py",
   "mimetype": "text/x-python",
   "name": "python",
   "nbconvert_exporter": "python",
   "pygments_lexer": "ipython3",
   "version": "3.7.3"
  }
 },
 "nbformat": 4,
 "nbformat_minor": 2
}
