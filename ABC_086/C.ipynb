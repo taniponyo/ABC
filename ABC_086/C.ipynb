{
 "cells": [
  {
   "cell_type": "code",
   "execution_count": 1,
   "metadata": {},
   "outputs": [
    {
     "name": "stdout",
     "output_type": "stream",
     "text": [
      "2\n",
      "3 1 2\n",
      "6 1 1\n",
      "No\n",
      "Yes\n"
     ]
    }
   ],
   "source": [
    "n = int(input())\n",
    "nt,nx,ny = 0,0,0\n",
    " \n",
    "for i in range(n):\n",
    "    t,x,y = map(int,input().split())\n",
    "    if (abs(nx-x)+abs(ny-y)) > t-nt:\n",
    "        print(\"No\")\n",
    "        exit()\n",
    "    else:\n",
    "        t2 = t-nt-abs(nx-x)\n",
    "        if abs(ny-y)%2 == 0 and t2%2 == 0:\n",
    "            nt,nx,ny = t,x,y\n",
    "        elif abs(ny-y)%2 == 1 and t2%2 == 1:\n",
    "            nt,nx,ny = t,x,y\n",
    "        else:\n",
    "            print(\"No\")\n",
    "            exit()\n",
    " \n",
    "print(\"Yes\")"
   ]
  }
 ],
 "metadata": {
  "kernelspec": {
   "display_name": "Python 3",
   "language": "python",
   "name": "python3"
  },
  "language_info": {
   "codemirror_mode": {
    "name": "ipython",
    "version": 3
   },
   "file_extension": ".py",
   "mimetype": "text/x-python",
   "name": "python",
   "nbconvert_exporter": "python",
   "pygments_lexer": "ipython3",
   "version": "3.7.3"
  }
 },
 "nbformat": 4,
 "nbformat_minor": 2
}
