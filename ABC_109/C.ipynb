{
 "cells": [
  {
   "cell_type": "markdown",
   "metadata": {},
   "source": [
    "C - Skip"
   ]
  },
  {
   "cell_type": "code",
   "execution_count": null,
   "metadata": {},
   "outputs": [],
   "source": [
    "N,X = list(map(int,input().split()))\n",
    "x = list(map(int,input().split()))\n",
    " \n",
    "number = []\n",
    " \n",
    "for i in range(N):\n",
    "    number.append(abs(x[i]-X))\n",
    " \n",
    "import fractions \n",
    " \n",
    "ans = number[0]\n",
    "for i in range(1, N):\n",
    "    ans = fractions.gcd(ans, number[i])\n",
    "    \n",
    "print(ans)"
   ]
  }
 ],
 "metadata": {
  "kernelspec": {
   "display_name": "Python 3",
   "language": "python",
   "name": "python3"
  },
  "language_info": {
   "codemirror_mode": {
    "name": "ipython",
    "version": 3
   },
   "file_extension": ".py",
   "mimetype": "text/x-python",
   "name": "python",
   "nbconvert_exporter": "python",
   "pygments_lexer": "ipython3",
   "version": "3.7.3"
  }
 },
 "nbformat": 4,
 "nbformat_minor": 2
}
