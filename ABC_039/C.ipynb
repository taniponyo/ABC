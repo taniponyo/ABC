{
 "cells": [
  {
   "cell_type": "code",
   "execution_count": null,
   "metadata": {},
   "outputs": [],
   "source": [
    "x = input().lower()\n",
    "d = \"wbwbwwbwbwbww\"\n",
    "r = \"wbwwbwbwbwwbw\"\n",
    "m = \"wwbwbwbwwbwbw\"\n",
    "f = \"wbwbwbwwbwbww\"\n",
    "s = \"wbwbwwbwbwwbw\"\n",
    "l = \"wbwwbwbwwbwbw\"\n",
    "si = \"wwbwbwwbwbwbw\"\n",
    "ans = [\"Do\",\"Re\",\"Mi\",\"Fa\",\"So\",\"La\",\"Si\"]\n",
    "q = [d,r,m,f,s,l,si]\n",
    "\n",
    "for i in range(7):\n",
    "    if q[i] == x[:13]:\n",
    "        print(ans[i])"
   ]
  }
 ],
 "metadata": {
  "kernelspec": {
   "display_name": "Python 3",
   "language": "python",
   "name": "python3"
  },
  "language_info": {
   "codemirror_mode": {
    "name": "ipython",
    "version": 3
   },
   "file_extension": ".py",
   "mimetype": "text/x-python",
   "name": "python",
   "nbconvert_exporter": "python",
   "pygments_lexer": "ipython3",
   "version": "3.7.4"
  }
 },
 "nbformat": 4,
 "nbformat_minor": 2
}
