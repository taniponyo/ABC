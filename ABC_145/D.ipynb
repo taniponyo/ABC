{
 "cells": [
  {
   "cell_type": "code",
   "execution_count": 20,
   "metadata": {},
   "outputs": [
    {
     "name": "stdout",
     "output_type": "stream",
     "text": [
      "999999 999999\n",
      "151840682\n"
     ]
    }
   ],
   "source": [
    "X,Y = list(map(int,input().split()))\n",
    "\n",
    "n = (-X+2*Y)//3\n",
    "m = (2*X-Y)//3\n",
    "    \n",
    "def comb(n,r):\n",
    "    MOD = 10**9+7\n",
    "    r = min(r,n-r)\n",
    "    \n",
    "    numer = 1\n",
    "    denom = 1\n",
    "    \n",
    "    for i in range(1,r+1):\n",
    "        numer = numer*(n+1-i)%MOD\n",
    "        denom = denom*(i)%MOD\n",
    "    \n",
    "    return numer * pow(denom,MOD-2,MOD) % MOD\n",
    "  \n",
    "import sys\n",
    "\n",
    "if n < 0 or m < 0:\n",
    "    print(0)\n",
    "    sys.exit()\n",
    "if (X+Y)%3 != 0:\n",
    "    print(0)\n",
    "    sys.exit()\n",
    "    \n",
    "print(comb(n+m,n))"
   ]
  },
  {
   "cell_type": "code",
   "execution_count": 16,
   "metadata": {},
   "outputs": [],
   "source": [
    "def comb(n,r):\n",
    "    MOD = 10**9+7\n",
    "    r = min(r,n-r)\n",
    "    \n",
    "    numer = 1\n",
    "    denom = 1\n",
    "    \n",
    "    for i in range(1,r+1):\n",
    "        numer = numer*(n+1-i)%MOD\n",
    "        denom = denom*(i)%MOD\n",
    "    \n",
    "    return numer * pow(denom,MOD-2,MOD) % MOD"
   ]
  },
  {
   "cell_type": "code",
   "execution_count": 17,
   "metadata": {},
   "outputs": [
    {
     "name": "stdout",
     "output_type": "stream",
     "text": [
      "15\n"
     ]
    }
   ],
   "source": [
    "print(comb(6,2))"
   ]
  }
 ],
 "metadata": {
  "kernelspec": {
   "display_name": "Python 3",
   "language": "python",
   "name": "python3"
  },
  "language_info": {
   "codemirror_mode": {
    "name": "ipython",
    "version": 3
   },
   "file_extension": ".py",
   "mimetype": "text/x-python",
   "name": "python",
   "nbconvert_exporter": "python",
   "pygments_lexer": "ipython3",
   "version": "3.7.3"
  }
 },
 "nbformat": 4,
 "nbformat_minor": 2
}
