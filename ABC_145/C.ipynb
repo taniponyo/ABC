{
 "cells": [
  {
   "cell_type": "code",
   "execution_count": 2,
   "metadata": {},
   "outputs": [
    {
     "name": "stdout",
     "output_type": "stream",
     "text": [
      "3\n",
      "0 0\n",
      "1 0\n",
      "0 1\n"
     ]
    }
   ],
   "source": [
    "N = int(input())\n",
    "xy = [tuple(map(int,input().split())) for i in range(N)]"
   ]
  },
  {
   "cell_type": "code",
   "execution_count": 6,
   "metadata": {},
   "outputs": [],
   "source": [
    "import itertools\n",
    "\n",
    "len_list = list(itertools.combinations(xy,2))"
   ]
  },
  {
   "cell_type": "code",
   "execution_count": 12,
   "metadata": {},
   "outputs": [
    {
     "name": "stdout",
     "output_type": "stream",
     "text": [
      "2.2761423749153966\n"
     ]
    }
   ],
   "source": [
    "length = 0\n",
    "\n",
    "for i in range(len(len_list)):\n",
    "    x = len_list[i][0][0] - len_list[i][1][0]\n",
    "    y = len_list[i][0][1] - len_list[i][1][1]\n",
    "    length += (x**2+y**2)**0.5\n",
    "    \n",
    "print(length/N*2)"
   ]
  }
 ],
 "metadata": {
  "kernelspec": {
   "display_name": "Python 3",
   "language": "python",
   "name": "python3"
  },
  "language_info": {
   "codemirror_mode": {
    "name": "ipython",
    "version": 3
   },
   "file_extension": ".py",
   "mimetype": "text/x-python",
   "name": "python",
   "nbconvert_exporter": "python",
   "pygments_lexer": "ipython3",
   "version": "3.7.3"
  }
 },
 "nbformat": 4,
 "nbformat_minor": 2
}
