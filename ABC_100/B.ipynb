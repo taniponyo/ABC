{
 "cells": [
  {
   "cell_type": "code",
   "execution_count": 6,
   "metadata": {},
   "outputs": [
    {
     "name": "stdout",
     "output_type": "stream",
     "text": [
      "2 85\n",
      "850000\n"
     ]
    }
   ],
   "source": [
    "d,n = map(int, input().split())\n",
    " \n",
    "if d == 0:\n",
    "    if n < 100:\n",
    "        print(n)\n",
    "    else:\n",
    "        print(101)    \n",
    "elif d == 1:\n",
    "    if n < 100:\n",
    "        print(n*100)\n",
    "    else:\n",
    "        print(10100)\n",
    "elif d == 2:\n",
    "    if n < 100:\n",
    "        print(n*10000)\n",
    "    else:\n",
    "        print(n*10000+10000)"
   ]
  }
 ],
 "metadata": {
  "kernelspec": {
   "display_name": "Python 3",
   "language": "python",
   "name": "python3"
  },
  "language_info": {
   "codemirror_mode": {
    "name": "ipython",
    "version": 3
   },
   "file_extension": ".py",
   "mimetype": "text/x-python",
   "name": "python",
   "nbconvert_exporter": "python",
   "pygments_lexer": "ipython3",
   "version": "3.7.3"
  }
 },
 "nbformat": 4,
 "nbformat_minor": 2
}
