{
 "cells": [
  {
   "cell_type": "code",
   "execution_count": 1,
   "metadata": {},
   "outputs": [
    {
     "name": "stdout",
     "output_type": "stream",
     "text": [
      "5\n",
      "3 2 2 4 1\n",
      "1 2 2 2 1\n"
     ]
    }
   ],
   "source": [
    "N = int(input())\n",
    "A1 = list(map(int,input().split()))\n",
    "A2 = list(map(int,input().split()))"
   ]
  },
  {
   "cell_type": "code",
   "execution_count": 11,
   "metadata": {},
   "outputs": [
    {
     "name": "stdout",
     "output_type": "stream",
     "text": [
      "14\n"
     ]
    }
   ],
   "source": [
    "wa1 = [0]*N\n",
    "wa2 = [0]*N\n",
    "wa1[0] = A1[0]\n",
    "wa2[0] = A2[0]\n",
    "ans = 0\n",
    "\n",
    "for i in range(1,N):\n",
    "    wa1[i] = wa1[i-1]+A1[i]\n",
    "    wa2[i] = wa2[i-1]+A2[i]\n",
    "    \n",
    "for i in range(N):\n",
    "    if i == 0:\n",
    "        tmp = wa1[i] + wa2[-1]\n",
    "    else:\n",
    "        tmp  = wa1[i] + (wa2[-1]-wa2[i-1]) \n",
    "    ans = max(ans,tmp)\n",
    "    \n",
    "print(ans)"
   ]
  }
 ],
 "metadata": {
  "kernelspec": {
   "display_name": "Python 3",
   "language": "python",
   "name": "python3"
  },
  "language_info": {
   "codemirror_mode": {
    "name": "ipython",
    "version": 3
   },
   "file_extension": ".py",
   "mimetype": "text/x-python",
   "name": "python",
   "nbconvert_exporter": "python",
   "pygments_lexer": "ipython3",
   "version": "3.7.3"
  }
 },
 "nbformat": 4,
 "nbformat_minor": 2
}
