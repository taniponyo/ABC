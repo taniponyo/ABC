{
 "cells": [
  {
   "cell_type": "code",
   "execution_count": 2,
   "metadata": {},
   "outputs": [
    {
     "name": "stdout",
     "output_type": "stream",
     "text": [
      "250\n"
     ]
    }
   ],
   "source": [
    "n = int(input())"
   ]
  },
  {
   "cell_type": "code",
   "execution_count": 5,
   "metadata": {},
   "outputs": [
    {
     "name": "stdout",
     "output_type": "stream",
     "text": [
      "125 5 25\n",
      "125 25 5\n",
      "125 125 1\n",
      "31\n"
     ]
    }
   ],
   "source": [
    "count = 0\n",
    "j = 0\n",
    "i = 1\n",
    "\n",
    "if n%2 == 1:\n",
    "    print(0)\n",
    "else:\n",
    "    while (n//2)//(5**i) > 0:\n",
    "        count = count + (n//2)//(5**i)\n",
    "        i += 1\n",
    "        \n",
    "print(count)"
   ]
  }
 ],
 "metadata": {
  "kernelspec": {
   "display_name": "Python 3",
   "language": "python",
   "name": "python3"
  }
 },
 "nbformat": 4,
 "nbformat_minor": 2
}
