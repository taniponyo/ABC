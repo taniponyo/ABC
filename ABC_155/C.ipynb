{
 "cells": [
  {
   "cell_type": "code",
   "execution_count": 6,
   "metadata": {},
   "outputs": [
    {
     "name": "stdout",
     "output_type": "stream",
     "text": [
      "7\n",
      "beat\n",
      "vet\n",
      "beet\n",
      "bed\n",
      "vet\n",
      "bet\n",
      "beet\n"
     ]
    }
   ],
   "source": [
    "N = int(input())\n",
    "S = []\n",
    "for i in range(N):\n",
    "    S.append(input())"
   ]
  },
  {
   "cell_type": "code",
   "execution_count": 16,
   "metadata": {},
   "outputs": [
    {
     "name": "stdout",
     "output_type": "stream",
     "text": [
      "beet\n",
      "vet\n"
     ]
    }
   ],
   "source": [
    "from collections import Counter\n",
    "\n",
    "c = Counter(S)\n",
    "keys, values = zip(*c.most_common())\n",
    "\n",
    "name = []\n",
    "k = values[0]\n",
    "\n",
    "for i in range(len(keys)):\n",
    "    if values[i] == k:\n",
    "        name.append(keys[i])\n",
    "\n",
    "name.sort()\n",
    "\n",
    "for i in range(len(name)):\n",
    "    print(name[i])\n",
    "    "
   ]
  }
 ],
 "metadata": {
  "kernelspec": {
   "display_name": "Python 3",
   "language": "python",
   "name": "python3"
  },
  "language_info": {
   "codemirror_mode": {
    "name": "ipython",
    "version": 3
   },
   "file_extension": ".py",
   "mimetype": "text/x-python",
   "name": "python",
   "nbconvert_exporter": "python",
   "pygments_lexer": "ipython3",
   "version": "3.7.4"
  }
 },
 "nbformat": 4,
 "nbformat_minor": 2
}
