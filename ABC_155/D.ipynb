{
 "cells": [
  {
   "cell_type": "code",
   "execution_count": 1,
   "metadata": {},
   "outputs": [
    {
     "name": "stdout",
     "output_type": "stream",
     "text": [
      "30 413\n",
      "-170202098 -268409015 537203564 983211703 21608710 -443999067 -937727165 -97596546 -372334013 398994917 -972141167 798607104 -949068442 -959948616 37909651 0 886627544 -20098238 0 -948955241 0 -214720580 277222296 -18897162 834475626 0 -425610555 110117526 663621752 0\n",
      "448283280358331064\n"
     ]
    }
   ],
   "source": [
    "N,K = map(int,input().split())\n",
    "A = list(map(int,input().split()))\n",
    "\n",
    "A.sort()\n",
    "left = -10**18\n",
    "right = 10**18\n",
    "\n",
    "while right - left > 1:\n",
    "    x = (right + left) // 2\n",
    "    S = 0\n",
    "    T = 0\n",
    "    for i in range(N):\n",
    "        if A[i] > 0:\n",
    "            l2 = -1\n",
    "            r2 = N\n",
    "            while r2 - l2 > 1:\n",
    "                m = (r2 + l2) // 2\n",
    "                if A[i] * A[m] <= x:\n",
    "                    l2 = m\n",
    "                else:\n",
    "                    r2 = m\n",
    "            S += r2\n",
    "        elif A[i] < 0:\n",
    "            l2 = -1\n",
    "            r2 = N\n",
    "            while r2 - l2 > 1:\n",
    "                m = (r2 + l2) // 2\n",
    "                if A[i] * A[m] <= x:\n",
    "                    r2 = m\n",
    "                else:\n",
    "                    l2 = m\n",
    "            S += N - r2\n",
    "        elif x >= 0:\n",
    "            S += N\n",
    "            \n",
    "        if A[i]**2 <= x:\n",
    "            T += 1\n",
    "    num = (S - T) // 2\n",
    "    if num >= K:\n",
    "        right = x\n",
    "    else:\n",
    "        left = x\n",
    "        \n",
    "print(right)     "
   ]
  },
  {
   "cell_type": "code",
   "execution_count": null,
   "metadata": {},
   "outputs": [],
   "source": []
  }
 ],
 "metadata": {
  "kernelspec": {
   "display_name": "Python 3",
   "language": "python",
   "name": "python3"
  },
  "language_info": {
   "codemirror_mode": {
    "name": "ipython",
    "version": 3
   },
   "file_extension": ".py",
   "mimetype": "text/x-python",
   "name": "python",
   "nbconvert_exporter": "python",
   "pygments_lexer": "ipython3",
   "version": "3.7.7"
  }
 },
 "nbformat": 4,
 "nbformat_minor": 2
}
