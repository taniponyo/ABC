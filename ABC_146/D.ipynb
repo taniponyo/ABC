{
 "cells": [
  {
   "cell_type": "code",
   "execution_count": 10,
   "metadata": {},
   "outputs": [
    {
     "name": "stdout",
     "output_type": "stream",
     "text": [
      "8\n",
      "1 2\n",
      "2 3\n",
      "2 4\n",
      "2 5\n",
      "4 7\n",
      "5 6\n",
      "6 8\n",
      "4\n",
      "1\n",
      "2\n",
      "3\n",
      "4\n",
      "1\n",
      "1\n",
      "2\n"
     ]
    }
   ],
   "source": [
    "N = int(input())\n",
    "ab = [list(map(int,input().split())) for i in range(N-1)]\n",
    "\n",
    "graph = [[] for _ in range(N+1)]\n",
    "for a,b in ab:\n",
    "    graph[a].append(b)\n",
    "    graph[b].append(a)\n",
    "\n",
    "from collections import deque\n",
    "todo = deque([1])\n",
    "seen = deque([])\n",
    "parent = [0] * (N+1)\n",
    "\n",
    "# 親と子の関係を作る\n",
    "while todo:\n",
    "    x = todo.popleft()\n",
    "    seen.append(x)\n",
    "    for y in graph[x]:\n",
    "        if y == parent[x]:\n",
    "            continue\n",
    "        parent[y] = x\n",
    "        todo.append(y)\n",
    "        \n",
    "# 根以外の頂点は、唯一の親を持つことから、\n",
    "# vの親がpであるとき → color[v] に辺 pvの色を持たせると定めて色を管理\n",
    "color = [-1] * (N+1)\n",
    "for x in seen:\n",
    "    ng = color[x]\n",
    "    c = 1\n",
    "    for y in graph[x]:\n",
    "        if y == parent[x]:\n",
    "            continue\n",
    "        if c == ng:\n",
    "            c += 1\n",
    "        color[y] = c\n",
    "        c += 1\n",
    "\n",
    "ans = []\n",
    "for a,b in ab:\n",
    "    ans.append(color[b])\n",
    "\n",
    "print(max(ans))\n",
    "for i in ans:\n",
    "    print(i)\n"
   ]
  },
  {
   "cell_type": "code",
   "execution_count": 15,
   "metadata": {},
   "outputs": [
    {
     "name": "stdout",
     "output_type": "stream",
     "text": [
      "[-1, -1, 1, 2, 3, 4, 1, 1, 2]\n"
     ]
    }
   ],
   "source": [
    "print(color)"
   ]
  }
 ],
 "metadata": {
  "kernelspec": {
   "display_name": "Python 3",
   "language": "python",
   "name": "python3"
  },
  "language_info": {
   "codemirror_mode": {
    "name": "ipython",
    "version": 3
   },
   "file_extension": ".py",
   "mimetype": "text/x-python",
   "name": "python",
   "nbconvert_exporter": "python",
   "pygments_lexer": "ipython3",
   "version": "3.7.6"
  }
 },
 "nbformat": 4,
 "nbformat_minor": 2
}
