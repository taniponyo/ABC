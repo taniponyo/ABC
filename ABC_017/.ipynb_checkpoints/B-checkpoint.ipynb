{
 "cells": [
  {
   "cell_type": "code",
   "execution_count": 5,
   "metadata": {},
   "outputs": [
    {
     "name": "stdout",
     "output_type": "stream",
     "text": [
      "kuccho\n",
      "NO\n"
     ]
    }
   ],
   "source": [
    "X = input()\n",
    "\n",
    "if len(X) == 0:\n",
    "    print('YES')\n",
    "    exit()\n",
    "\n",
    "X = X.replace('ch','')\n",
    "X = X.replace('o','')\n",
    "X = X.replace('k','')\n",
    "X = X.replace('u','')\n",
    "\n",
    "if len(X) == 0:\n",
    "    print('YES')\n",
    "else:\n",
    "    print('NO')"
   ]
  }
 ],
 "metadata": {
  "kernelspec": {
   "display_name": "Python 3",
   "language": "python",
   "name": "python3"
  },
  "language_info": {
   "codemirror_mode": {
    "name": "ipython",
    "version": 3
   },
   "file_extension": ".py",
   "mimetype": "text/x-python",
   "name": "python",
   "nbconvert_exporter": "python",
   "pygments_lexer": "ipython3",
   "version": "3.7.6"
  }
 },
 "nbformat": 4,
 "nbformat_minor": 4
}
