{
 "cells": [
  {
   "cell_type": "code",
   "execution_count": 26,
   "metadata": {
    "scrolled": false
   },
   "outputs": [
    {
     "name": "stdout",
     "output_type": "stream",
     "text": [
      "5 4 1\n",
      "1000000000 1000000000 1000000000 1000000000 1000000000\n",
      "1000000000 1000000000 1000000000 1000000000\n"
     ]
    }
   ],
   "source": [
    "N,M,K = map(int,input().split())\n",
    "A = list(map(int,input().split()))\n",
    "B = list(map(int,input().split()))\n",
    "\n",
    "tmpA = [0]*(N+1)\n",
    "tmpB = [0]*(M+1)\n",
    "ans = 0\n",
    "\n",
    "import bisect\n",
    "for i in range(1,N+1):\n",
    "    tmpA[i] = tmpA[i-1] + A[i-1]\n",
    "for i in range(1,M+1):\n",
    "    tmpB[i] = tmpB[i-1] + B[i-1] \n",
    "for i in range(N+1):\n",
    "    tmp = tmpA[i]\n",
    "    if tmp > K:\n",
    "        break\n",
    "    index = bisect.bisect_right(tmpB,K-tmp)\n",
    "    ans = max(i+index-1,ans)\n",
    "print(ans)"
   ]
  }
 ],
 "metadata": {
  "kernelspec": {
   "display_name": "Python 3",
   "language": "python",
   "name": "python3"
  },
  "language_info": {
   "codemirror_mode": {
    "name": "ipython",
    "version": 3
   },
   "file_extension": ".py",
   "mimetype": "text/x-python",
   "name": "python",
   "nbconvert_exporter": "python",
   "pygments_lexer": "ipython3",
   "version": "3.7.7"
  }
 },
 "nbformat": 4,
 "nbformat_minor": 4
}
