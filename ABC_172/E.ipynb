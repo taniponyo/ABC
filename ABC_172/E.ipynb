{
 "cells": [
  {
   "cell_type": "code",
   "execution_count": 46,
   "metadata": {
    "scrolled": true
   },
   "outputs": [
    {
     "name": "stdout",
     "output_type": "stream",
     "text": [
      "2 3\n",
      "36\n",
      "12\n"
     ]
    }
   ],
   "source": [
    "N,M = map(int,input().split())\n",
    "\n",
    "MOD=10**9+7\n",
    "def comb(n,k):\n",
    "    if n < k:\n",
    "        return 0\n",
    "    if n < 0 or k < 0:\n",
    "        return 0\n",
    "    k = min(n-k,k)\n",
    "    ans = 1\n",
    "    inv = [1]*(k+1)\n",
    "    if k >= 1:\n",
    "        ans *= (n-k+1)%MOD\n",
    "    for i in range(2,k+1):\n",
    "        inv[i] = MOD - inv[MOD%i]*(MOD//i)%MOD\n",
    "        ans = ans*(n-k+i)*inv[i]%MOD\n",
    "    return ans\n",
    "\n",
    "tmp = 1\n",
    "tmpM = M\n",
    "for i in range(N):\n",
    "    tmp *= tmpM\n",
    "    tmp %= MOD\n",
    "    tmpM -= 1\n",
    "ans = tmp**2%MOD\n",
    "print(ans)\n",
    "\n",
    "tmp2 = N*(M-1)*tmp%MOD\n",
    "print((ans - tmp2)%MOD)"
   ]
  }
 ],
 "metadata": {
  "kernelspec": {
   "display_name": "Python 3",
   "language": "python",
   "name": "python3"
  },
  "language_info": {
   "codemirror_mode": {
    "name": "ipython",
    "version": 3
   },
   "file_extension": ".py",
   "mimetype": "text/x-python",
   "name": "python",
   "nbconvert_exporter": "python",
   "pygments_lexer": "ipython3",
   "version": "3.7.7"
  }
 },
 "nbformat": 4,
 "nbformat_minor": 4
}
