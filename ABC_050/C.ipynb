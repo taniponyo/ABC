{
 "cells": [
  {
   "cell_type": "code",
   "execution_count": 5,
   "metadata": {},
   "outputs": [
    {
     "name": "stdout",
     "output_type": "stream",
     "text": [
      "8\n",
      "7 5 1 1 7 3 5 3\n",
      "16\n"
     ]
    }
   ],
   "source": [
    "n = int(input())\n",
    "a = list(map(int,input().split()))\n",
    "\n",
    "from collections import Counter\n",
    "MOD = 10**9 + 7\n",
    "c = Counter(a)\n",
    "\n",
    "ans = 0\n",
    "\n",
    "if n % 2 == 1:\n",
    "    for i in range(2, n, 2):\n",
    "        if c[i] != 2:\n",
    "            print(0)\n",
    "            exit()\n",
    "    if c[0] == 1:\n",
    "        ans = pow(2, n // 2, MOD)\n",
    "else:\n",
    "    for i in range(1, n, 2):\n",
    "        if c[i] != 2:\n",
    "            print(0)\n",
    "            exit()\n",
    "    ans = pow(2, n // 2, MOD)\n",
    "print(ans)"
   ]
  }
 ],
 "metadata": {
  "kernelspec": {
   "display_name": "Python 3",
   "language": "python",
   "name": "python3"
  },
  "language_info": {
   "codemirror_mode": {
    "name": "ipython",
    "version": 3
   },
   "file_extension": ".py",
   "mimetype": "text/x-python",
   "name": "python",
   "nbconvert_exporter": "python",
   "pygments_lexer": "ipython3",
   "version": "3.7.3"
  }
 },
 "nbformat": 4,
 "nbformat_minor": 2
}
