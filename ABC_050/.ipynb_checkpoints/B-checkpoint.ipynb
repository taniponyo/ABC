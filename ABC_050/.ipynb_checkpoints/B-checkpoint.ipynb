{
 "cells": [
  {
   "cell_type": "code",
   "execution_count": 3,
   "metadata": {
    "scrolled": true
   },
   "outputs": [
    {
     "name": "stdout",
     "output_type": "stream",
     "text": [
      "3\n",
      "2 1 4\n",
      "2\n",
      "1 1\n",
      "2 3\n",
      "6\n",
      "8\n"
     ]
    }
   ],
   "source": [
    "N = int(input())\n",
    "T = [0] + [int(x) for x in input().split()]\n",
    "M = int(input())\n",
    "s = sum(T)\n",
    " \n",
    "answer = []\n",
    "for _ in range(M):\n",
    "  a,b = map(int,input().split())\n",
    "  answer.append(s+b-T[a])\n",
    " \n",
    "print(*answer,sep='\\n')"
   ]
  },
  {
   "cell_type": "code",
   "execution_count": null,
   "metadata": {},
   "outputs": [],
   "source": []
  }
 ],
 "metadata": {
  "kernelspec": {
   "display_name": "Python 3",
   "language": "python",
   "name": "python3"
  },
  "language_info": {
   "codemirror_mode": {
    "name": "ipython",
    "version": 3
   },
   "file_extension": ".py",
   "mimetype": "text/x-python",
   "name": "python",
   "nbconvert_exporter": "python",
   "pygments_lexer": "ipython3",
   "version": "3.7.3"
  }
 },
 "nbformat": 4,
 "nbformat_minor": 2
}
