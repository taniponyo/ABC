{
 "cells": [
  {
   "cell_type": "code",
   "execution_count": 8,
   "metadata": {},
   "outputs": [
    {
     "name": "stdout",
     "output_type": "stream",
     "text": [
      "10 10 5\n",
      "1 6 1\n",
      "4 1 3\n",
      "6 9 4\n",
      "9 4 2\n",
      "3 1 3\n",
      "64\n"
     ]
    }
   ],
   "source": [
    "W,H,N = map(int,input().split())\n",
    "minx,maxx = 0,W\n",
    "miny,maxy = 0,H\n",
    "\n",
    "for i in range(N):\n",
    "    x,y,a = map(int,input().split())\n",
    "    if a == 1:\n",
    "        minx = max(minx,x)\n",
    "    elif a == 2:\n",
    "        maxx = min(maxx,x)\n",
    "    elif a == 3:\n",
    "        miny = max(miny,y)\n",
    "    elif a == 4:\n",
    "        maxy = min(maxy,y)\n",
    "\n",
    "if minx >= maxx or miny >= maxy:\n",
    "    print(0)\n",
    "else:\n",
    "    print((maxy-miny)*(maxx-minx))"
   ]
  }
 ],
 "metadata": {
  "kernelspec": {
   "display_name": "Python 3",
   "language": "python",
   "name": "python3"
  },
  "language_info": {
   "codemirror_mode": {
    "name": "ipython",
    "version": 3
   },
   "file_extension": ".py",
   "mimetype": "text/x-python",
   "name": "python",
   "nbconvert_exporter": "python",
   "pygments_lexer": "ipython3",
   "version": "3.7.4"
  }
 },
 "nbformat": 4,
 "nbformat_minor": 2
}
