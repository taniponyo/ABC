{
 "cells": [
  {
   "cell_type": "code",
   "execution_count": 1,
   "metadata": {},
   "outputs": [
    {
     "name": "stdout",
     "output_type": "stream",
     "text": [
      "575\n"
     ]
    }
   ],
   "source": [
    "N = int(input())"
   ]
  },
  {
   "cell_type": "code",
   "execution_count": 10,
   "metadata": {},
   "outputs": [
    {
     "name": "stdout",
     "output_type": "stream",
     "text": [
      "0 0\n",
      "0 03\n",
      "0 033\n",
      "0 0333\n",
      "0 0335\n",
      "0 0337\n",
      "0 035\n",
      "0 0353\n",
      "0 0355\n",
      "1 0357\n",
      "0 037\n",
      "0 0373\n",
      "1 0375\n",
      "0 0377\n",
      "0 05\n",
      "0 053\n",
      "0 0533\n",
      "0 0535\n",
      "1 0537\n",
      "0 055\n",
      "0 0553\n",
      "0 0555\n",
      "0 0557\n",
      "0 057\n",
      "1 0573\n",
      "0 0575\n",
      "0 07\n",
      "0 073\n",
      "0 075\n",
      "0 077\n",
      "4\n"
     ]
    }
   ],
   "source": [
    "def dfs(s):\n",
    "    if int(s) > N:\n",
    "        return 0 #探索終了\n",
    "    if all(s.count(c) for c in '357'):　#3,5,7が要素にあるかどうか\n",
    "        ret = 1　#全部あったら後で1加える\n",
    "    else:\n",
    "        ret = 0\n",
    "    print(ret,s)\n",
    "    for c in '357':\n",
    "        ret += dfs(s+c)\n",
    "    return ret\n",
    " \n",
    "print(dfs('0'))\n",
    "    "
   ]
  },
  {
   "cell_type": "raw",
   "metadata": {},
   "source": []
  },
  {
   "cell_type": "code",
   "execution_count": 11,
   "metadata": {},
   "outputs": [
    {
     "name": "stdout",
     "output_type": "stream",
     "text": [
      "4\n"
     ]
    }
   ],
   "source": [
    "def dfs(a):\n",
    "    if int(a) > N:\n",
    "        return 0    \n",
    "    if '7' in a and '5' in a and '3' in a:\n",
    "        ans = 1\n",
    "    else:\n",
    "        ans = 0\n",
    "    ans += dfs(a+'7')\n",
    "    ans += dfs(a+'5')\n",
    "    ans += dfs(a+'3')\n",
    "    return ans\n",
    "\n",
    "print(dfs('0'))\n",
    "\n"
   ]
  }
 ],
 "metadata": {
  "kernelspec": {
   "display_name": "Python 3",
   "language": "python",
   "name": "python3"
  },
  "language_info": {
   "codemirror_mode": {
    "name": "ipython",
    "version": 3
   },
   "file_extension": ".py",
   "mimetype": "text/x-python",
   "name": "python",
   "nbconvert_exporter": "python",
   "pygments_lexer": "ipython3",
   "version": "3.7.3"
  }
 },
 "nbformat": 4,
 "nbformat_minor": 2
}
