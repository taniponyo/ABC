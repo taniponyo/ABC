{
 "cells": [
  {
   "cell_type": "code",
   "execution_count": 14,
   "metadata": {
    "scrolled": true
   },
   "outputs": [
    {
     "name": "stdout",
     "output_type": "stream",
     "text": [
      "4 5\n",
      "1 10 100 1000\n",
      "101\n"
     ]
    }
   ],
   "source": [
    "n,X = map(int,input().split())\n",
    "a = list(map(int,input().split()))\n",
    "\n",
    "bin_X = bin(X)\n",
    "bin_X = bin_X[2:]\n",
    "answer = 0\n",
    "for i in range(len(bin_X)):\n",
    "    if bin_X[-1-i] == '1':\n",
    "        answer += a[i]\n",
    "        \n",
    "print(answer)"
   ]
  }
 ],
 "metadata": {
  "kernelspec": {
   "display_name": "Python 3",
   "language": "python",
   "name": "python3"
  },
  "language_info": {
   "codemirror_mode": {
    "name": "ipython",
    "version": 3
   },
   "file_extension": ".py",
   "mimetype": "text/x-python",
   "name": "python",
   "nbconvert_exporter": "python",
   "pygments_lexer": "ipython3",
   "version": "3.7.3"
  }
 },
 "nbformat": 4,
 "nbformat_minor": 2
}
