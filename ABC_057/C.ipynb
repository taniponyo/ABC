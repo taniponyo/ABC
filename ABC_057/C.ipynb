{
 "cells": [
  {
   "cell_type": "code",
   "execution_count": 1,
   "metadata": {
    "scrolled": true
   },
   "outputs": [
    {
     "name": "stdout",
     "output_type": "stream",
     "text": [
      "10000\n"
     ]
    }
   ],
   "source": [
    "N = int(input())\n",
    "\n",
    "num_list = []\n",
    "\n",
    "for i in range(1,int(N**0.5)+1):\n",
    "    if N % i == 0:\n",
    "        num_list.append([i,N//i])\n",
    "\n",
    "ans = 10**9+7\n",
    "\n",
    "for i in range(len(num_list)):\n",
    "    tmp = max(len(str(num_list[i][0])),len(str(num_list[i][1])))\n",
    "    ans = min(ans,tmp)\n",
    "    \n",
    "print(ans)"
   ]
  }
 ],
 "metadata": {
  "kernelspec": {
   "display_name": "Python 3",
   "language": "python",
   "name": "python3"
  },
  "language_info": {
   "codemirror_mode": {
    "name": "ipython",
    "version": 3
   },
   "file_extension": ".py",
   "mimetype": "text/x-python",
   "name": "python",
   "nbconvert_exporter": "python",
   "pygments_lexer": "ipython3",
   "version": "3.7.3"
  }
 },
 "nbformat": 4,
 "nbformat_minor": 2
}
