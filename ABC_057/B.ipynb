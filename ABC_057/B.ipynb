{
 "cells": [
  {
   "cell_type": "code",
   "execution_count": 2,
   "metadata": {
    "scrolled": true
   },
   "outputs": [
    {
     "name": "stdout",
     "output_type": "stream",
     "text": [
      "2 2\n",
      "2 0\n",
      "0 0\n",
      "-1 0\n",
      "1 0\n"
     ]
    }
   ],
   "source": [
    "N,M = map(int,input().split())\n",
    " \n",
    "def dist(ab,cd):\n",
    "  return abs(ab[0]-cd[0]) + abs(ab[1]-cd[1])\n",
    " \n",
    "AB = [[int(x) for x in input().split()] for _ in range(N)]\n",
    "CD = [[int(x) for x in input().split()] for _ in range(M)]\n",
    " \n",
    "answer = []\n",
    "for ab in AB:\n",
    "  min_dist = 10**15\n",
    "  target = 0\n",
    "  for j,cd in enumerate(CD,1):\n",
    "    x = dist(ab,cd)\n",
    "    if min_dist > x:\n",
    "      min_dist = x\n",
    "      target = j\n",
    "  answer.append(target)\n",
    " \n",
    "print(*answer, sep='\\n')"
   ]
  }
 ],
 "metadata": {
  "kernelspec": {
   "display_name": "Python 3",
   "language": "python",
   "name": "python3"
  },
  "language_info": {
   "codemirror_mode": {
    "name": "ipython",
    "version": 3
   },
   "file_extension": ".py",
   "mimetype": "text/x-python",
   "name": "python",
   "nbconvert_exporter": "python",
   "pygments_lexer": "ipython3",
   "version": "3.7.3"
  }
 },
 "nbformat": 4,
 "nbformat_minor": 2
}
