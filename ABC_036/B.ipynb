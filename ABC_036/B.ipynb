{
 "cells": [
  {
   "cell_type": "code",
   "execution_count": 1,
   "metadata": {
    "scrolled": true
   },
   "outputs": [
    {
     "name": "stdout",
     "output_type": "stream",
     "text": [
      "4\n",
      "..##\n",
      "#..#\n",
      "####\n",
      "####\n"
     ]
    }
   ],
   "source": [
    "N = int(input())\n",
    "s = [input() for _ in range(N)]\n",
    "\n",
    "tmp = [[] for i in range(N)]\n",
    "\n",
    "for i in range(N):\n",
    "    for j in range(N):\n",
    "        tmp[i].append(s[N-1-j][i])\n",
    "\n",
    "\n",
    "for i in range(N):\n",
    "    print(''.join(tmp[i]))"
   ]
  }
 ],
 "metadata": {
  "kernelspec": {
   "display_name": "Python 3",
   "language": "python",
   "name": "python3"
  },
  "language_info": {
   "codemirror_mode": {
    "name": "ipython",
    "version": 3
   },
   "file_extension": ".py",
   "mimetype": "text/x-python",
   "name": "python",
   "nbconvert_exporter": "python",
   "pygments_lexer": "ipython3",
   "version": "3.7.6"
  }
 },
 "nbformat": 4,
 "nbformat_minor": 4
}
