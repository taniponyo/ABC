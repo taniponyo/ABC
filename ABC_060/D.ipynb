{
 "cells": [
  {
   "cell_type": "code",
   "execution_count": 11,
   "metadata": {},
   "outputs": [
    {
     "name": "stdout",
     "output_type": "stream",
     "text": [
      "4 6\n",
      "2 1\n",
      "3 7\n",
      "4 10\n",
      "3 6\n",
      "13\n"
     ]
    }
   ],
   "source": [
    "n, W = map(int, input().split())\n",
    "w1, w2, w3, w4 = [], [], [], []\n",
    "w, v = map(int, input().split())\n",
    "w1.append(v)\n",
    "\n",
    "# 4パターンしかない\n",
    "for _ in range(n-1):\n",
    "    a, b = map(int, input().split())\n",
    "    if a == w:\n",
    "        w1.append(b)\n",
    "    if a == w+1:\n",
    "        w2.append(b)\n",
    "    if a == w+2:\n",
    "        w3.append(b)\n",
    "    if a == w+3:\n",
    "        w4.append(b)\n",
    "        \n",
    "# 降順にする\n",
    "for w_ in [w1, w2, w3, w4]:\n",
    "    w_.sort(reverse= True)\n",
    "    \n",
    "ans = 0\n",
    "for i in range(0, len(w1)+1):\n",
    "    for j in range(0, len(w2)+1):\n",
    "        for k in range(0, len(w3)+1):\n",
    "            # w4を詰める前にチェック\n",
    "            res = W - (i * w + j * (w+1) + k * (w+2))\n",
    "            if res < 0:\n",
    "                continue\n",
    "            # w4は詰めれるだけ詰める\n",
    "            tmp = sum(w1[:i])+sum(w2[:j])+sum(w3[:k])+sum(w4[:res//(w+3)])\n",
    "            ans = max(tmp, ans)\n",
    "            \n",
    "print(ans)"
   ]
  },
  {
   "cell_type": "code",
   "execution_count": null,
   "metadata": {},
   "outputs": [],
   "source": []
  }
 ],
 "metadata": {
  "kernelspec": {
   "display_name": "Python 3",
   "language": "python",
   "name": "python3"
  },
  "language_info": {
   "codemirror_mode": {
    "name": "ipython",
    "version": 3
   },
   "file_extension": ".py",
   "mimetype": "text/x-python",
   "name": "python",
   "nbconvert_exporter": "python",
   "pygments_lexer": "ipython3",
   "version": "3.7.3"
  }
 },
 "nbformat": 4,
 "nbformat_minor": 2
}
