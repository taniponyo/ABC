{
 "cells": [
  {
   "cell_type": "code",
   "execution_count": 10,
   "metadata": {},
   "outputs": [
    {
     "name": "stdout",
     "output_type": "stream",
     "text": [
      "9 10\n",
      "0 3 5 7 100 110 200 300 311\n",
      "67\n"
     ]
    }
   ],
   "source": [
    "N,T = map(int,input().split())\n",
    "t = list(map(int,input().split()))\n",
    "\n",
    "time = T\n",
    "ans = 0\n",
    "\n",
    "for i in range(1,N):\n",
    "    if time >= t[i]:\n",
    "        ans += t[i] - t[i-1]\n",
    "        time = t[i] + T\n",
    "    else:\n",
    "        ans += T\n",
    "        time = t[i] + T\n",
    "        \n",
    "print(ans+T)"
   ]
  }
 ],
 "metadata": {
  "kernelspec": {
   "display_name": "Python 3",
   "language": "python",
   "name": "python3"
  },
  "language_info": {
   "codemirror_mode": {
    "name": "ipython",
    "version": 3
   },
   "file_extension": ".py",
   "mimetype": "text/x-python",
   "name": "python",
   "nbconvert_exporter": "python",
   "pygments_lexer": "ipython3",
   "version": "3.7.3"
  }
 },
 "nbformat": 4,
 "nbformat_minor": 2
}
