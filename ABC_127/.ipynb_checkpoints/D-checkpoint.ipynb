{
 "cells": [
  {
   "cell_type": "code",
   "execution_count": 22,
   "metadata": {},
   "outputs": [
    {
     "name": "stdout",
     "output_type": "stream",
     "text": [
      "10 3\n",
      "1 8 5 7 100 4 52 33 13 5\n",
      "3 10\n",
      "4 30\n",
      "1 4\n"
     ]
    }
   ],
   "source": [
    "N,M = list(map(int,input().split()))\n",
    "A = list(map(int,input().split()))\n",
    "BC = [list(map(int,input().split())) for i in range(M)]"
   ]
  },
  {
   "cell_type": "code",
   "execution_count": 23,
   "metadata": {},
   "outputs": [
    {
     "name": "stdout",
     "output_type": "stream",
     "text": [
      "[3, 4, 1] [10, 30, 4]\n"
     ]
    }
   ],
   "source": [
    "B = []\n",
    "C = []\n",
    "\n",
    "for i in range(M):\n",
    "    B.append(BC[i][0])\n",
    "    C.append(BC[i][1])"
   ]
  },
  {
   "cell_type": "code",
   "execution_count": 24,
   "metadata": {},
   "outputs": [
    {
     "name": "stdout",
     "output_type": "stream",
     "text": [
      "[1, 4, 5, 5, 7, 8, 13, 33, 52, 100]\n",
      "[1, 4, 5, 5, 7, 8, 13, 33, 52, 100]\n",
      "[5, 7, 8, 10, 10, 10, 13, 33, 52, 100]\n",
      "[10, 10, 13, 30, 30, 30, 30, 33, 52, 100]\n"
     ]
    }
   ],
   "source": [
    "for i in range(M):\n",
    "    A.sort()\n",
    "    card = 0\n",
    "    for j in range(N):\n",
    "        if A[j] < C[i]:\n",
    "            A[j] = C[i]\n",
    "            card += 1\n",
    "        if card == B[i]:\n",
    "            break\n",
    "            \n",
    "print(sum(A))"
   ]
  }
 ],
 "metadata": {
  "kernelspec": {
   "display_name": "Python 3",
   "language": "python",
   "name": "python3"
  },
  "language_info": {
   "codemirror_mode": {
    "name": "ipython",
    "version": 3
   },
   "file_extension": ".py",
   "mimetype": "text/x-python",
   "name": "python",
   "nbconvert_exporter": "python",
   "pygments_lexer": "ipython3",
   "version": "3.7.3"
  }
 },
 "nbformat": 4,
 "nbformat_minor": 2
}
