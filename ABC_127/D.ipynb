{
 "cells": [
  {
   "cell_type": "code",
   "execution_count": 1,
   "metadata": {},
   "outputs": [
    {
     "name": "stdout",
     "output_type": "stream",
     "text": [
      "3 2\n",
      "5 1 4\n",
      "2 3\n",
      "1 5\n",
      "[5, 3, 3]\n",
      "14\n"
     ]
    }
   ],
   "source": [
    "N,M = list(map(int,input().split()))\n",
    "A = list(map(int,input().split()))\n",
    "BC = [list(map(int,input().split())) for i in range(M)]\n",
    "\n",
    "BC.sort(key=lambda x:-x[1])\n",
    "temp = []\n",
    "for i in range(M):\n",
    "    temp += [BC[i][1]]*BC[i][0]\n",
    "    if len(temp) > N:\n",
    "        break\n",
    "    \n",
    "A += temp\n",
    "\n",
    "A.sort(reverse = True)\n",
    "\n",
    "print(sum(A[:N]))"
   ]
  }
 ],
 "metadata": {
  "kernelspec": {
   "display_name": "Python 3",
   "language": "python",
   "name": "python3"
  },
  "language_info": {
   "codemirror_mode": {
    "name": "ipython",
    "version": 3
   },
   "file_extension": ".py",
   "mimetype": "text/x-python",
   "name": "python",
   "nbconvert_exporter": "python",
   "pygments_lexer": "ipython3",
   "version": "3.7.7"
  }
 },
 "nbformat": 4,
 "nbformat_minor": 2
}
