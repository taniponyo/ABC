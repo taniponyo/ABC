{
 "cells": [
  {
   "cell_type": "code",
   "execution_count": 6,
   "metadata": {},
   "outputs": [
    {
     "name": "stdout",
     "output_type": "stream",
     "text": [
      "3 7\n",
      "-10 -3 0 9 -100 2 17\n"
     ]
    }
   ],
   "source": [
    "N,M = map(int,input().split())\n",
    "X = list(map(int,input().split()))"
   ]
  },
  {
   "cell_type": "code",
   "execution_count": 8,
   "metadata": {},
   "outputs": [
    {
     "name": "stdout",
     "output_type": "stream",
     "text": [
      "[2, 3, 7, 7, 8, 90]\n",
      "19\n"
     ]
    }
   ],
   "source": [
    "X.sort()\n",
    "Y = []\n",
    "# それぞれの区間の長さ\n",
    "for i in range(M - 1):\n",
    "    Y += [X[i + 1] - X[i]]\n",
    "Y.sort()\n",
    "# 担当する区間の個数の和\n",
    "print(sum(Y[:max(0, M - N)]))"
   ]
  }
 ],
 "metadata": {
  "kernelspec": {
   "display_name": "Python 3",
   "language": "python",
   "name": "python3"
  },
  "language_info": {
   "codemirror_mode": {
    "name": "ipython",
    "version": 3
   },
   "file_extension": ".py",
   "mimetype": "text/x-python",
   "name": "python",
   "nbconvert_exporter": "python",
   "pygments_lexer": "ipython3",
   "version": "3.7.3"
  }
 },
 "nbformat": 4,
 "nbformat_minor": 2
}
