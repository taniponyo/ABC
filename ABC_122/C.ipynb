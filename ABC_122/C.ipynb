{
 "cells": [
  {
   "cell_type": "code",
   "execution_count": 2,
   "metadata": {},
   "outputs": [
    {
     "name": "stdout",
     "output_type": "stream",
     "text": [
      "8 3\n",
      "ACACTACG\n"
     ]
    }
   ],
   "source": [
    "N,Q = map(int,input().split())\n",
    "S = input()"
   ]
  },
  {
   "cell_type": "code",
   "execution_count": null,
   "metadata": {},
   "outputs": [
    {
     "name": "stdout",
     "output_type": "stream",
     "text": [
      "[0, 0, 1, 1, 2, 2, 2, 3, 3]\n"
     ]
    }
   ],
   "source": [
    "csum = [0,0]\n",
    "#i文字目までにACがナ\n",
    "for i in range(1, N):\n",
    "    if S[i-1] + S[i] == 'AC':\n",
    "        csum.append(csum[i-1] + 1)\n",
    "    else:\n",
    "        csum.append(csum[i])\n",
    "        \n",
    "#文字番号に合わせた形になっている\n",
    "for i in range(Q):\n",
    "    l, r = map(int, input().split())\n",
    "    print(csum[r]-csum[l])"
   ]
  }
 ],
 "metadata": {
  "kernelspec": {
   "display_name": "Python 3",
   "language": "python",
   "name": "python3"
  },
  "language_info": {
   "codemirror_mode": {
    "name": "ipython",
    "version": 3
   },
   "file_extension": ".py",
   "mimetype": "text/x-python",
   "name": "python",
   "nbconvert_exporter": "python",
   "pygments_lexer": "ipython3",
   "version": "3.7.3"
  }
 },
 "nbformat": 4,
 "nbformat_minor": 2
}
