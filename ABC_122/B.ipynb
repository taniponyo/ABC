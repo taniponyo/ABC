{
 "cells": [
  {
   "cell_type": "code",
   "execution_count": null,
   "metadata": {},
   "outputs": [],
   "source": [
    "S = input()\n",
    " \n",
    "N = len(S)\n",
    "ans = 0\n",
    " \n",
    "for i in range(N):\n",
    "    for j in range(i, N):\n",
    "        #cは調べる文字列の一部分\n",
    "        #ACGTの中にその文字があるかどうか調べる\n",
    "        #すべてあればそれはACGT文字\n",
    "        if all('ACGT'.count(c) == 1 for c in S[i : j + 1]):\n",
    "            #j-i+1はその文字列の長さ\n",
    "            ans = max(ans, j - i + 1)\n",
    "print(ans)"
   ]
  }
 ],
 "metadata": {
  "kernelspec": {
   "display_name": "Python 3",
   "language": "python",
   "name": "python3"
  },
  "language_info": {
   "codemirror_mode": {
    "name": "ipython",
    "version": 3
   },
   "file_extension": ".py",
   "mimetype": "text/x-python",
   "name": "python",
   "nbconvert_exporter": "python",
   "pygments_lexer": "ipython3",
   "version": "3.7.3"
  }
 },
 "nbformat": 4,
 "nbformat_minor": 2
}
