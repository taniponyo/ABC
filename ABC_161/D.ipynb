{
 "cells": [
  {
   "cell_type": "code",
   "execution_count": 3,
   "metadata": {},
   "outputs": [
    {
     "name": "stdout",
     "output_type": "stream",
     "text": [
      "100000\n"
     ]
    }
   ],
   "source": [
    "K = int(input())"
   ]
  },
  {
   "cell_type": "code",
   "execution_count": 6,
   "metadata": {},
   "outputs": [
    {
     "name": "stdout",
     "output_type": "stream",
     "text": [
      "3234566667\n"
     ]
    }
   ],
   "source": [
    "from collections import deque\n",
    "\n",
    "nlist = deque([1,2,3,4,5,6,7,8,9])\n",
    "\n",
    "for i in range(K):\n",
    "    sample = nlist.popleft()\n",
    "        \n",
    "    if sample%10 != 0: # 下一桁が0の場合は加えない操作(例:10のとき99)\n",
    "        nlist.append(sample*10 - 1 + sample%10)\n",
    "            \n",
    "    nlist.append(sample*10 + sample%10)\n",
    "        \n",
    "    if sample%10 != 9: # 下一桁が9の場合は加えない操作(例:9のとき90)\n",
    "        nlist.append(sample*10 + 1 + sample%10)\n",
    "    \n",
    "print(sample)"
   ]
  }
 ],
 "metadata": {
  "kernelspec": {
   "display_name": "Python 3",
   "language": "python",
   "name": "python3"
  },
  "language_info": {
   "codemirror_mode": {
    "name": "ipython",
    "version": 3
   },
   "file_extension": ".py",
   "mimetype": "text/x-python",
   "name": "python",
   "nbconvert_exporter": "python",
   "pygments_lexer": "ipython3",
   "version": "3.7.3"
  }
 },
 "nbformat": 4,
 "nbformat_minor": 2
}
