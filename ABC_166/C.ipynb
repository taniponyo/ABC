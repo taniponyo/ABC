{
 "cells": [
  {
   "cell_type": "code",
   "execution_count": 1,
   "metadata": {},
   "outputs": [
    {
     "name": "stdout",
     "output_type": "stream",
     "text": [
      "4 3\n",
      "1 2 3 4\n",
      "1 3\n",
      "2 3\n",
      "2 4\n"
     ]
    }
   ],
   "source": [
    "N,M = map(int,input().split())\n",
    "H = list(map(int,input().split()))\n",
    "\n",
    "bridge = [[] for i in range(N+1)]\n",
    "\n",
    "for i in range(M):\n",
    "    A,B = map(int,input().split())\n",
    "    bridge[A].append(B)\n",
    "    bridge[B].append(A)\n",
    "\n",
    "ans = 0"
   ]
  },
  {
   "cell_type": "code",
   "execution_count": 2,
   "metadata": {},
   "outputs": [
    {
     "name": "stdout",
     "output_type": "stream",
     "text": [
      "2\n"
     ]
    }
   ],
   "source": [
    "for i in range(1,N+1):\n",
    "    tmp = bridge[i]\n",
    "    tmp = list(set(tmp))\n",
    "    flag = True\n",
    "    \n",
    "    if len(tmp) == 0:\n",
    "        ans +=1\n",
    "        continue\n",
    "    for j in range(len(tmp)):\n",
    "        if H[i-1] <= H[tmp[j]-1]:\n",
    "            flag = False\n",
    "    if flag == False:\n",
    "        continue\n",
    "    elif flag == True:\n",
    "        ans += 1\n",
    "\n",
    "print(ans)"
   ]
  }
 ],
 "metadata": {
  "kernelspec": {
   "display_name": "Python 3",
   "language": "python",
   "name": "python3"
  },
  "language_info": {
   "codemirror_mode": {
    "name": "ipython",
    "version": 3
   },
   "file_extension": ".py",
   "mimetype": "text/x-python",
   "name": "python",
   "nbconvert_exporter": "python",
   "pygments_lexer": "ipython3",
   "version": "3.7.3"
  }
 },
 "nbformat": 4,
 "nbformat_minor": 2
}
