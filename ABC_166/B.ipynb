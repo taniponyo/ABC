{
 "cells": [
  {
   "cell_type": "code",
   "execution_count": 19,
   "metadata": {
    "scrolled": true
   },
   "outputs": [
    {
     "ename": "SyntaxError",
     "evalue": "invalid syntax (<ipython-input-19-7836ce8335e7>, line 12)",
     "output_type": "error",
     "traceback": [
      "\u001b[1;36m  File \u001b[1;32m\"<ipython-input-19-7836ce8335e7>\"\u001b[1;36m, line \u001b[1;32m12\u001b[0m\n\u001b[1;33m    tmp_A[i] == 0:\u001b[0m\n\u001b[1;37m                  ^\u001b[0m\n\u001b[1;31mSyntaxError\u001b[0m\u001b[1;31m:\u001b[0m invalid syntax\n"
     ]
    }
   ],
   "source": [
    "N,K = map(int,input().split())\n",
    "tmp_A = [0]*N\n",
    "ans = 0\n",
    "\n",
    "for i in range(K):\n",
    "    d = int(input())\n",
    "    A = list(map(int,input().split()))\n",
    "    for j in range(d):\n",
    "        tmp_A[A[j]-1] += 1\n",
    "        \n",
    "for i in range(N):\n",
    "    if tmp_A[i] == 0:\n",
    "        ans += 1\n",
    "        \n",
    "print(ans)"
   ]
  }
 ],
 "metadata": {
  "kernelspec": {
   "display_name": "Python 3",
   "language": "python",
   "name": "python3"
  },
  "language_info": {
   "codemirror_mode": {
    "name": "ipython",
    "version": 3
   },
   "file_extension": ".py",
   "mimetype": "text/x-python",
   "name": "python",
   "nbconvert_exporter": "python",
   "pygments_lexer": "ipython3",
   "version": "3.7.3"
  }
 },
 "nbformat": 4,
 "nbformat_minor": 2
}
