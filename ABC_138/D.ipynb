{
 "cells": [
  {
   "cell_type": "code",
   "execution_count": 2,
   "metadata": {
    "scrolled": true
   },
   "outputs": [
    {
     "name": "stdout",
     "output_type": "stream",
     "text": [
      "4 3\n",
      "1 2\n",
      "2 3\n",
      "2 4\n"
     ]
    }
   ],
   "source": [
    "N,Q = map(int,input().split())\n",
    "tree = [[] for i in range(N+1)]\n",
    "for i in range(N-1):\n",
    "    a,b = map(int,input().split())\n",
    "    tree[a].append(b)\n",
    "    tree[b].append(a)\n",
    "\n",
    "value = [0]*(N+1)\n",
    "for i in range(1,Q+1):\n",
    "    p,x = map(int,input().split())\n",
    "    value[p] += x\n",
    "\n",
    "from collections import deque\n",
    "todo = deque([(1,0)])\n",
    "\n",
    "while len(todo) > 0:\n",
    "    child,parent = todo.pop()\n",
    "    value[child] += value[parent]\n",
    "    for next in tree[child]:\n",
    "        if next == parent:\n",
    "            continue\n",
    "        else:\n",
    "            todo.append((next,child))\n",
    "\n",
    "print(' '.join(map(str,value[1:])))"
   ]
  }
 ],
 "metadata": {
  "kernelspec": {
   "display_name": "Python 3",
   "language": "python",
   "name": "python3"
  },
  "language_info": {
   "codemirror_mode": {
    "name": "ipython",
    "version": 3
   },
   "file_extension": ".py",
   "mimetype": "text/x-python",
   "name": "python",
   "nbconvert_exporter": "python",
   "pygments_lexer": "ipython3",
   "version": "3.7.6"
  }
 },
 "nbformat": 4,
 "nbformat_minor": 4
}
