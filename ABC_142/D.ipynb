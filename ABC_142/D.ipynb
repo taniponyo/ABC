{
 "cells": [
  {
   "cell_type": "markdown",
   "metadata": {},
   "source": [
    "# AtCoder Beginner Contest 142"
   ]
  },
  {
   "cell_type": "code",
   "execution_count": 4,
   "metadata": {},
   "outputs": [],
   "source": [
    "from fractions import gcd\n",
    "\n",
    "# 約数の候補のリスト化\n",
    "def make_divisors(n):\n",
    "    divisors = []\n",
    "    for i in range(1, int(n**0.5)+1):\n",
    "        if n % i == 0:\n",
    "            divisors.append(i)\n",
    "            # 以下の処理は約数iに対して対になる約数を追加（対も同じ場合は除く）\n",
    "            if i != n // i:\n",
    "                divisors.append(n//i)\n",
    "    return divisors\n",
    "\n",
    "# 素数判定\n",
    "def isPrime(n):\n",
    "    \n",
    "    for p in range(2, int(n**0.5)+1):\n",
    "        if n % p == 0:\n",
    "            # nまでの数で割り切れたら素数ではない\n",
    "            return False\n",
    "        # nまでの数で割り切れなかったら素数\n",
    "    return True"
   ]
  },
  {
   "cell_type": "code",
   "execution_count": 2,
   "metadata": {
    "scrolled": true
   },
   "outputs": [
    {
     "name": "stdout",
     "output_type": "stream",
     "text": [
      "12 18\n"
     ]
    }
   ],
   "source": [
    "A,B = list(map(int,input().split()))\n",
    "\n",
    "gcd_list= []\n",
    "gcd_list = make_divisors(gcd(A,B)) #約数のリスト\n",
    " \n",
    "count = 0\n",
    "for i in range(len(gcd_list)):\n",
    "    if isPrime(gcd_list[i]) == True: #素数判定\n",
    "        count += 1 \n",
    "print(count+1)"
   ]
  },
  {
   "cell_type": "markdown",
   "metadata": {},
   "source": [
    "# 素数について"
   ]
  },
  {
   "cell_type": "code",
   "execution_count": 6,
   "metadata": {},
   "outputs": [],
   "source": [
    "# 素数判定関数\n",
    "def isPrime(n):\n",
    "    \n",
    "    for p in range(2, int(n**0.5)+1):\n",
    "        if n % p == 0:\n",
    "            # nまでの数で割り切れたら素数ではない\n",
    "            return False\n",
    "    return True"
   ]
  },
  {
   "cell_type": "code",
   "execution_count": 12,
   "metadata": {},
   "outputs": [
    {
     "name": "stdout",
     "output_type": "stream",
     "text": [
      "[2, 3, 5, 7, 11, 13, 17, 19, 23, 29, 31, 37, 41, 43, 47, 53, 59, 61, 67, 71, 73, 79, 83, 89, 97]\n"
     ]
    }
   ],
   "source": [
    "import math\n",
    "\n",
    "# 素数のリスト化関数\n",
    "def sieve_of_eratosthenes(target):\n",
    "    dest = int(math.sqrt(target))\n",
    "    target_list = list(range(2, target + 1))\n",
    "    prime_list = []\n",
    "     \n",
    "    while True:\n",
    "        num_min = min(target_list)\n",
    "        \n",
    "        # 終了条件\n",
    "        if num_min >= dest:\n",
    "            # 残りの候補をリストに追加\n",
    "            prime_list.extend(target_list)\n",
    "            break\n",
    "        prime_list.append(num_min)\n",
    "        \n",
    "        i = 0\n",
    "         \n",
    "        while True:\n",
    "            # num_minの倍数をpop\n",
    "            if i >= len(target_list):\n",
    "                break\n",
    "            elif target_list[i] % num_min == 0:\n",
    "                target_list.pop(i)\n",
    "            i += 1\n",
    "            \n",
    "    return prime_list\n",
    "\n",
    "print(sieve_of_eratosthenes(100))"
   ]
  },
  {
   "cell_type": "markdown",
   "metadata": {},
   "source": [
    "# 約数について"
   ]
  },
  {
   "cell_type": "code",
   "execution_count": null,
   "metadata": {},
   "outputs": [],
   "source": [
    "# 約数の候補のリスト化\n",
    "def make_divisors(n):\n",
    "    divisors = []\n",
    "    for i in range(1, int(n**0.5)+1):\n",
    "        if n % i == 0:\n",
    "            divisors.append(i)\n",
    "            # 以下の処理は約数iに対して対になる約数を追加（対も同じ場合は除く）\n",
    "            if i != n // i:\n",
    "                divisors.append(n//i)\n",
    "    return divisors"
   ]
  },
  {
   "cell_type": "markdown",
   "metadata": {},
   "source": [
    "# 素因数分解について"
   ]
  },
  {
   "cell_type": "code",
   "execution_count": 13,
   "metadata": {},
   "outputs": [],
   "source": [
    "def factorize(n):\n",
    "    b = 2\n",
    "    num_list = []\n",
    "    \n",
    "    while b <= int(n**0.5)+1:\n",
    "        while n % b == 0:\n",
    "            n = n // b\n",
    "            num_list.append(b)\n",
    "        b = b + 1\n",
    "        \n",
    "    if n > 1:\n",
    "        num_list.append(n)\n",
    "        \n",
    "    return num_list"
   ]
  }
 ],
 "metadata": {
  "kernelspec": {
   "display_name": "Python 3",
   "language": "python",
   "name": "python3"
  },
  "language_info": {
   "codemirror_mode": {
    "name": "ipython",
    "version": 3
   },
   "file_extension": ".py",
   "mimetype": "text/x-python",
   "name": "python",
   "nbconvert_exporter": "python",
   "pygments_lexer": "ipython3",
   "version": "3.7.3"
  }
 },
 "nbformat": 4,
 "nbformat_minor": 2
}
