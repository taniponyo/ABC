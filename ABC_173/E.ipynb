{
 "cells": [
  {
   "cell_type": "code",
   "execution_count": 14,
   "metadata": {
    "scrolled": true
   },
   "outputs": [
    {
     "name": "stdout",
     "output_type": "stream",
     "text": [
      "10 10\n",
      "1000000000 100000000 10000000 1000000 100000 10000 1000 100 10 1\n"
     ]
    }
   ],
   "source": [
    "N,K = map(int,input().split())\n",
    "A = list(map(int,input().split()))\n",
    "\n",
    "MOD = 10**9+7\n",
    "\n",
    "from collections import deque\n",
    "m_count = 0\n",
    "ans = 1\n",
    "tmp = []\n",
    "for a in A:\n",
    "    if a < 0:\n",
    "        m_count += 1\n",
    "        \n",
    "if m_count == N:\n",
    "    count = 0\n",
    "    if K % 2 == 0:\n",
    "        A.sort()\n",
    "        for a in A:\n",
    "            ans *= a\n",
    "            ans %= MOD\n",
    "            count += 1\n",
    "            if count >= K:\n",
    "                break\n",
    "    else:\n",
    "        A.sort(reverse = True)\n",
    "        for a in A:\n",
    "            ans *= a\n",
    "            ans %= MOD\n",
    "            count += 1\n",
    "            if count >= K:\n",
    "                break\n",
    "else:\n",
    "    A.sort()\n",
    "    A = deque(A)\n",
    "    k = 0\n",
    "    m_in_count = 0\n",
    "    while k < K:\n",
    "        if abs(A[0]) >= abs(A[-1]):\n",
    "            m_in_count += 1\n",
    "            tmp.append(A[0])\n",
    "            A.popleft()\n",
    "        else:\n",
    "            tmp.append(A[-1])\n",
    "            A.pop()\n",
    "        k += 1\n",
    "    if m_in_count % 2 == 0:\n",
    "        for i in tmp:\n",
    "            ans *= i\n",
    "    else:\n",
    "        if N == K:\n",
    "            for i in tmp:\n",
    "                ans *= i\n",
    "                ans %= MOD\n",
    "        else:\n",
    "            for i in tmp:\n",
    "                ans *= i\n",
    "                ans %= MOD\n",
    "            ans1 = ans*min(A)%MOD\n",
    "            ans2 = ans*max(A)%MOD\n",
    "            ans = 0\n",
    "            for i in tmp:\n",
    "                ans = max(ans,ans1//i,ans2//i)\n",
    "            ans %= MOD\n",
    "            \n",
    "print(ans)      "
   ]
  }
 ],
 "metadata": {
  "kernelspec": {
   "display_name": "Python 3",
   "language": "python",
   "name": "python3"
  },
  "language_info": {
   "codemirror_mode": {
    "name": "ipython",
    "version": 3
   },
   "file_extension": ".py",
   "mimetype": "text/x-python",
   "name": "python",
   "nbconvert_exporter": "python",
   "pygments_lexer": "ipython3",
   "version": "3.7.7"
  }
 },
 "nbformat": 4,
 "nbformat_minor": 4
}
