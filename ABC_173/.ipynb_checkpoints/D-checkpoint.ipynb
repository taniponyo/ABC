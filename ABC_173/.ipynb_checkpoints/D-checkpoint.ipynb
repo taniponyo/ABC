{
 "cells": [
  {
   "cell_type": "code",
   "execution_count": null,
   "metadata": {},
   "outputs": [],
   "source": [
    "N = int(input())\n",
    "A = list(map(int,input().split()))\n",
    "\n",
    "A.sort(reverse = True)\n",
    "ans = 0\n",
    "\n",
    "from collections import deque\n",
    "tmp = deque([A[0]])\n",
    "\n",
    "for x in A[1:]:\n",
    "    ans += tmp.popleft()\n",
    "    tmp.append(x)\n",
    "    tmp.append(x)\n",
    "    \n",
    "print(ans)"
   ]
  },
  {
   "cell_type": "code",
   "execution_count": 4,
   "metadata": {
    "scrolled": true
   },
   "outputs": [
    {
     "name": "stdout",
     "output_type": "stream",
     "text": [
      "4\n",
      "2 2 1 3\n",
      "7\n"
     ]
    }
   ],
   "source": [
    "N = int(input())\n",
    "A = list(map(int,input().split()))\n",
    "\n",
    "A.sort(reverse = True)\n",
    "ans = A[0]\n",
    "count = 1\n",
    "flg = False\n",
    "\n",
    "if N == 2:\n",
    "    print(ans)\n",
    "    exit()\n",
    "    \n",
    "for i in range(1,N):\n",
    "    for j in range(2):\n",
    "        ans += A[i]\n",
    "        count += 1\n",
    "        if count >= N-1:\n",
    "            flg = True\n",
    "            break\n",
    "    if flg == True:\n",
    "            break\n",
    "        \n",
    "print(ans)"
   ]
  }
 ],
 "metadata": {
  "kernelspec": {
   "display_name": "Python 3",
   "language": "python",
   "name": "python3"
  },
  "language_info": {
   "codemirror_mode": {
    "name": "ipython",
    "version": 3
   },
   "file_extension": ".py",
   "mimetype": "text/x-python",
   "name": "python",
   "nbconvert_exporter": "python",
   "pygments_lexer": "ipython3",
   "version": "3.7.7"
  }
 },
 "nbformat": 4,
 "nbformat_minor": 4
}
