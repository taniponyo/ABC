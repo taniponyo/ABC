{
 "cells": [
  {
   "cell_type": "code",
   "execution_count": null,
   "metadata": {},
   "outputs": [],
   "source": [
    "N = int(input())\n",
    "tmp = [0]*4\n",
    "for i in range(N):\n",
    "    S = input()\n",
    "    if S == 'AC':\n",
    "        tmp[0] += 1\n",
    "    elif S == 'WA':\n",
    "        tmp[1] += 1\n",
    "    elif S == 'TLE':\n",
    "        tmp[2] += 1\n",
    "    elif S == 'RE':\n",
    "        tmp[3] += 1\n",
    "        \n",
    "print('AC'+' x',tmp[0])\n",
    "print('WA'+' x',tmp[1])\n",
    "print('TLE'+' x',tmp[2])\n",
    "print('RE'+' x',tmp[3])"
   ]
  }
 ],
 "metadata": {
  "kernelspec": {
   "display_name": "Python 3",
   "language": "python",
   "name": "python3"
  },
  "language_info": {
   "codemirror_mode": {
    "name": "ipython",
    "version": 3
   },
   "file_extension": ".py",
   "mimetype": "text/x-python",
   "name": "python",
   "nbconvert_exporter": "python",
   "pygments_lexer": "ipython3",
   "version": "3.7.7"
  }
 },
 "nbformat": 4,
 "nbformat_minor": 4
}
