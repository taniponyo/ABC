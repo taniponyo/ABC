{
 "cells": [
  {
   "cell_type": "code",
   "execution_count": 1,
   "metadata": {},
   "outputs": [
    {
     "name": "stdout",
     "output_type": "stream",
     "text": [
      "2\n",
      "1 4\n"
     ]
    }
   ],
   "source": [
    "n = int(input())\n",
    "x = list(map(int,input().split()))"
   ]
  },
  {
   "cell_type": "code",
   "execution_count": 4,
   "metadata": {},
   "outputs": [
    {
     "name": "stdout",
     "output_type": "stream",
     "text": [
      "0\n"
     ]
    }
   ],
   "source": [
    "x.sort()\n",
    "ans = 0\n",
    "min_ans = 0\n",
    "\n",
    "for i in range(x[0],x[-1]+1):\n",
    "    for j in range(len(x)):\n",
    "        ans += (x[j]-i)**2\n",
    "        \n",
    "    if min_ans > ans:\n",
    "        min_ans = ans\n",
    "    \n",
    "    ans = 0\n",
    "\n",
    "print(min_ans)"
   ]
  }
 ],
 "metadata": {
  "kernelspec": {
   "display_name": "Python 3",
   "language": "python",
   "name": "python3"
  },
  "language_info": {
   "codemirror_mode": {
    "name": "ipython",
    "version": 3
   },
   "file_extension": ".py",
   "mimetype": "text/x-python",
   "name": "python",
   "nbconvert_exporter": "python",
   "pygments_lexer": "ipython3",
   "version": "3.7.4"
  }
 },
 "nbformat": 4,
 "nbformat_minor": 2
}
