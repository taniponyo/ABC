{
 "cells": [
  {
   "cell_type": "code",
   "execution_count": 1,
   "metadata": {},
   "outputs": [
    {
     "name": "stdout",
     "output_type": "stream",
     "text": [
      "1000000000 141421 173205\n"
     ]
    }
   ],
   "source": [
    "n,a,b = list(map(int,input().split()))"
   ]
  },
  {
   "cell_type": "code",
   "execution_count": 3,
   "metadata": {},
   "outputs": [
    {
     "name": "stdout",
     "output_type": "stream",
     "text": [
      "516595147 589953354\n"
     ]
    }
   ],
   "source": [
    "MOD = 10**9+7\n",
    "\n",
    "def comb(n,r,MOD):\n",
    "    x = n+1\n",
    "    #計算量が少ないほうを計算する\n",
    "    y = min(r,n-r)\n",
    "    \n",
    "    numer = 1\n",
    "    denom = 1\n",
    "    #組み合わせの分子分母計算\n",
    "    for i in range(1,r+1):\n",
    "        numer = numer*(x-i)%MOD\n",
    "        denom = denom*(i)%MOD\n",
    "    \n",
    "    return numer * pow(denom,MOD-2,MOD) % MOD\n",
    "\n",
    "nCa = comb(n,a,MOD)\n",
    "nCb = comb(n,b,MOD)"
   ]
  },
  {
   "cell_type": "code",
   "execution_count": 7,
   "metadata": {},
   "outputs": [
    {
     "name": "stdout",
     "output_type": "stream",
     "text": [
      "34076506\n"
     ]
    }
   ],
   "source": [
    "ans = pow(2,n,MOD)-1 - nCa - nCb\n",
    "\n",
    "if ans < 0:\n",
    "    print((ans+MOD)%MOD)\n",
    "else:\n",
    "    print(ans%MOD)"
   ]
  }
 ],
 "metadata": {
  "kernelspec": {
   "display_name": "Python 3",
   "language": "python",
   "name": "python3"
  },
  "language_info": {
   "codemirror_mode": {
    "name": "ipython",
    "version": 3
   },
   "file_extension": ".py",
   "mimetype": "text/x-python",
   "name": "python",
   "nbconvert_exporter": "python",
   "pygments_lexer": "ipython3",
   "version": "3.7.4"
  }
 },
 "nbformat": 4,
 "nbformat_minor": 2
}
