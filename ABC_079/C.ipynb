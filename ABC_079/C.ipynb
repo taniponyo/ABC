{
 "cells": [
  {
   "cell_type": "code",
   "execution_count": 2,
   "metadata": {},
   "outputs": [
    {
     "name": "stdout",
     "output_type": "stream",
     "text": [
      "1222\n"
     ]
    }
   ],
   "source": [
    "A = input()"
   ]
  },
  {
   "cell_type": "code",
   "execution_count": 30,
   "metadata": {},
   "outputs": [
    {
     "name": "stdout",
     "output_type": "stream",
     "text": [
      "1+2+2+2=7\n"
     ]
    }
   ],
   "source": [
    "num = [int(A[0])]\n",
    "hugou = ['']*3\n",
    "ans = [0]*4\n",
    "ans[0] = int(A[0])\n",
    "\n",
    "for i in range(1,len(A)):\n",
    "    num.append(A[i])\n",
    "\n",
    "for i in range(2**3):\n",
    "    tmp = format(i,'03b')\n",
    "    for j in range(len(tmp)):\n",
    "        if tmp[j] == \"0\":\n",
    "            ans[j+1] = -int(num[j+1])\n",
    "            hugou[j] = '-'\n",
    "        else:\n",
    "            ans[j+1] = int(num[j+1])\n",
    "            hugou[j] = '+'\n",
    "    if sum(ans) == 7:\n",
    "        print(str(ans[0]) + hugou[0] \\\n",
    "              + str(abs(ans[1])) + hugou[1] \\\n",
    "              + str(abs(ans[2])) + hugou[2] \\\n",
    "              + str(abs(ans[3]))+\"=7\")\n",
    "        exit()\n",
    "    "
   ]
  },
  {
   "cell_type": "code",
   "execution_count": null,
   "metadata": {},
   "outputs": [],
   "source": []
  }
 ],
 "metadata": {
  "kernelspec": {
   "display_name": "Python 3",
   "language": "python",
   "name": "python3"
  },
  "language_info": {
   "codemirror_mode": {
    "name": "ipython",
    "version": 3
   },
   "file_extension": ".py",
   "mimetype": "text/x-python",
   "name": "python",
   "nbconvert_exporter": "python",
   "pygments_lexer": "ipython3",
   "version": "3.7.3"
  }
 },
 "nbformat": 4,
 "nbformat_minor": 2
}
