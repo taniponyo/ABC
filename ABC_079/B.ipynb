{
 "cells": [
  {
   "cell_type": "code",
   "execution_count": null,
   "metadata": {
    "scrolled": false
   },
   "outputs": [],
   "source": [
    "N = int(input())\n",
    "\n",
    "def lucas(i):\n",
    "    \n",
    "    if i == 0:\n",
    "        return 2\n",
    "    elif i == 1:\n",
    "        return 1\n",
    "    \n",
    "    tmp = lucas(i-1) + lucas(i-2)\n",
    "    \n",
    "    return tmp\n",
    "\n",
    "print(lucas(N))"
   ]
  },
  {
   "cell_type": "code",
   "execution_count": 4,
   "metadata": {},
   "outputs": [
    {
     "name": "stdout",
     "output_type": "stream",
     "text": [
      "86\n",
      "939587134549734843\n"
     ]
    }
   ],
   "source": [
    "N = int(input())\n",
    "\n",
    "L = [0]*100\n",
    "\n",
    "L[0] = 2\n",
    "L[1] = 1\n",
    "\n",
    "for i in range(2,87):\n",
    "    L[i] = L[i-1] + L[i-2]\n",
    "                      \n",
    "print(L[N])"
   ]
  }
 ],
 "metadata": {
  "kernelspec": {
   "display_name": "Python 3",
   "language": "python",
   "name": "python3"
  },
  "language_info": {
   "codemirror_mode": {
    "name": "ipython",
    "version": 3
   },
   "file_extension": ".py",
   "mimetype": "text/x-python",
   "name": "python",
   "nbconvert_exporter": "python",
   "pygments_lexer": "ipython3",
   "version": "3.7.3"
  }
 },
 "nbformat": 4,
 "nbformat_minor": 2
}
