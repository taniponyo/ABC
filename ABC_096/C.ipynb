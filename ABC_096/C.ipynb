{
 "cells": [
  {
   "cell_type": "code",
   "execution_count": null,
   "metadata": {},
   "outputs": [],
   "source": [
    "h,w = map(int,input().split())\n",
    "s = [list(input()) for _ in range(h)]"
   ]
  },
  {
   "cell_type": "code",
   "execution_count": null,
   "metadata": {},
   "outputs": [],
   "source": [
    "# 一番外側を見る必要はない（内側を確認する際に見るから）\n",
    "\n",
    "for i in range(1,h-1):\n",
    "    for j in range(1,w-1):\n",
    "        if s[i][j]==\"#\" and s[i-1][j]==s[i+1][j]==s[i][j-1]==s[i][j+1]==\".\":\n",
    "            print(\"No\") \n",
    "            exit()\n",
    "print(\"Yes\")"
   ]
  }
 ],
 "metadata": {
  "kernelspec": {
   "display_name": "Python 3",
   "language": "python",
   "name": "python3"
  },
  "language_info": {
   "codemirror_mode": {
    "name": "ipython",
    "version": 3
   },
   "file_extension": ".py",
   "mimetype": "text/x-python",
   "name": "python",
   "nbconvert_exporter": "python",
   "pygments_lexer": "ipython3",
   "version": "3.7.3"
  }
 },
 "nbformat": 4,
 "nbformat_minor": 2
}
