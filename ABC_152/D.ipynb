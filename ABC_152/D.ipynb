{
 "cells": [
  {
   "cell_type": "code",
   "execution_count": 4,
   "metadata": {},
   "outputs": [
    {
     "name": "stdout",
     "output_type": "stream",
     "text": [
      "25\n"
     ]
    }
   ],
   "source": [
    "import sys\n",
    "read = sys.stdin.buffer.read\n",
    "readline = sys.stdin.buffer.readline\n",
    "readlines = sys.stdin.buffer.readlines\n",
    " \n",
    "from collections import defaultdict\n",
    " \n",
    "N = int(input())\n",
    " \n",
    "counter = defaultdict(int)\n",
    " \n",
    "for x in map(str,range(1,N+1)):\n",
    "    head = x[0]\n",
    "    tail = x[-1]\n",
    "    counter[(head, tail)] += 1\n",
    " \n",
    "answer = 0\n",
    "items = list(counter.items())"
   ]
  },
  {
   "cell_type": "code",
   "execution_count": 6,
   "metadata": {},
   "outputs": [
    {
     "name": "stdout",
     "output_type": "stream",
     "text": [
      "[(('1', '1'), 2), (('2', '2'), 2), (('3', '3'), 1), (('4', '4'), 1), (('5', '5'), 1), (('6', '6'), 1), (('7', '7'), 1), (('8', '8'), 1), (('9', '9'), 1), (('1', '0'), 1), (('1', '2'), 1), (('1', '3'), 1), (('1', '4'), 1), (('1', '5'), 1), (('1', '6'), 1), (('1', '7'), 1), (('1', '8'), 1), (('1', '9'), 1), (('2', '0'), 1), (('2', '1'), 1), (('2', '3'), 1), (('2', '4'), 1), (('2', '5'), 1)]\n",
      "defaultdict(<class 'int'>, {('1', '1'): 2, ('2', '2'): 2, ('3', '3'): 1, ('4', '4'): 1, ('5', '5'): 1, ('6', '6'): 1, ('7', '7'): 1, ('8', '8'): 1, ('9', '9'): 1, ('1', '0'): 1, ('1', '2'): 1, ('1', '3'): 1, ('1', '4'): 1, ('1', '5'): 1, ('1', '6'): 1, ('1', '7'): 1, ('1', '8'): 1, ('1', '9'): 1, ('2', '0'): 1, ('2', '1'): 1, ('2', '3'): 1, ('2', '4'): 1, ('2', '5'): 1, ('0', '1'): 0, ('3', '1'): 0, ('4', '1'): 0, ('5', '1'): 0, ('6', '1'): 0, ('7', '1'): 0, ('8', '1'): 0, ('9', '1'): 0, ('0', '2'): 0, ('3', '2'): 0, ('4', '2'): 0, ('5', '2'): 0})\n",
      "34\n"
     ]
    }
   ],
   "source": [
    "print(items)\n",
    "print(counter)\n",
    "for (head, tail), cnt in items:\n",
    "    answer += cnt * counter[(tail, head)]\n",
    " \n",
    "print(answer)"
   ]
  }
 ],
 "metadata": {
  "kernelspec": {
   "display_name": "Python 3",
   "language": "python",
   "name": "python3"
  },
  "language_info": {
   "codemirror_mode": {
    "name": "ipython",
    "version": 3
   },
   "file_extension": ".py",
   "mimetype": "text/x-python",
   "name": "python",
   "nbconvert_exporter": "python",
   "pygments_lexer": "ipython3",
   "version": "3.7.3"
  }
 },
 "nbformat": 4,
 "nbformat_minor": 2
}
