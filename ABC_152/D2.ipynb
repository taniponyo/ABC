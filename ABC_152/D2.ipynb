{
 "cells": [
  {
   "cell_type": "code",
   "execution_count": 11,
   "metadata": {},
   "outputs": [
    {
     "name": "stdout",
     "output_type": "stream",
     "text": [
      "200000\n",
      "400000008\n"
     ]
    }
   ],
   "source": [
    "N = int(input())\n",
    "\n",
    "counter = [[0]*10 for _ in range(10)]\n",
    "\n",
    "# 先頭末尾の組み合わせを数える\n",
    "for i in range(1,N+1):\n",
    "    x = str(i)\n",
    "    counter[int(x[0])][int(x[-1])] += 1\n",
    "\n",
    "ans = 0\n",
    "\n",
    "# (先頭末尾)と(末尾先頭)のｋ\n",
    "for i in range(10):\n",
    "    for j in range(10):\n",
    "        ans += counter[i][j] * counter[j][i]\n",
    "        \n",
    "print(ans)"
   ]
  }
 ],
 "metadata": {
  "kernelspec": {
   "display_name": "Python 3",
   "language": "python",
   "name": "python3"
  },
  "language_info": {
   "codemirror_mode": {
    "name": "ipython",
    "version": 3
   },
   "file_extension": ".py",
   "mimetype": "text/x-python",
   "name": "python",
   "nbconvert_exporter": "python",
   "pygments_lexer": "ipython3",
   "version": "3.7.3"
  }
 },
 "nbformat": 4,
 "nbformat_minor": 2
}
