{
 "cells": [
  {
   "cell_type": "code",
   "execution_count": 5,
   "metadata": {},
   "outputs": [
    {
     "name": "stdout",
     "output_type": "stream",
     "text": [
      "3 5 10\n",
      "East 7\n",
      "West 3\n",
      "West 11\n",
      "West 8\n",
      "-8\n"
     ]
    }
   ],
   "source": [
    "N,A,B = map(int,input().split())\n",
    "place = 0\n",
    "for i in range(N):\n",
    "    s,d = map(str,input().split())\n",
    "    d = int(d)\n",
    "    \n",
    "    if s == 'East':\n",
    "        if d < A:\n",
    "            place += A\n",
    "        elif A <= d <= B:\n",
    "            place += d\n",
    "        elif d > B:\n",
    "            place += B\n",
    "    else:\n",
    "        if d < A:\n",
    "            place -= A\n",
    "        elif A <= d <= B:\n",
    "            place -= d\n",
    "        elif d > B:\n",
    "            place -= B\n",
    "if place < 0:\n",
    "    print('West',-place)\n",
    "elif place > 0:\n",
    "    print('East',place)\n",
    "else:\n",
    "    print(place)"
   ]
  }
 ],
 "metadata": {
  "kernelspec": {
   "display_name": "Python 3",
   "language": "python",
   "name": "python3"
  },
  "language_info": {
   "codemirror_mode": {
    "name": "ipython",
    "version": 3
   },
   "file_extension": ".py",
   "mimetype": "text/x-python",
   "name": "python",
   "nbconvert_exporter": "python",
   "pygments_lexer": "ipython3",
   "version": "3.7.6"
  }
 },
 "nbformat": 4,
 "nbformat_minor": 4
}
