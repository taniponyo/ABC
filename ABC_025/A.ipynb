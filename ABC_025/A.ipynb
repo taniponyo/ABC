{
 "cells": [
  {
   "cell_type": "code",
   "execution_count": 2,
   "metadata": {},
   "outputs": [
    {
     "name": "stdout",
     "output_type": "stream",
     "text": [
      "abced\n",
      "8\n",
      "bc\n"
     ]
    }
   ],
   "source": [
    "S = input()\n",
    "N = int(input())\n",
    "\n",
    "name = []\n",
    "\n",
    "for i in range(len(S)):\n",
    "    for j in range(len(S)):\n",
    "        name.append(S[i]+S[j])\n",
    "        \n",
    "name.sort()\n",
    "\n",
    "print(name[N-1])"
   ]
  }
 ],
 "metadata": {
  "kernelspec": {
   "display_name": "Python 3",
   "language": "python",
   "name": "python3"
  },
  "language_info": {
   "codemirror_mode": {
    "name": "ipython",
    "version": 3
   },
   "file_extension": ".py",
   "mimetype": "text/x-python",
   "name": "python",
   "nbconvert_exporter": "python",
   "pygments_lexer": "ipython3",
   "version": "3.7.3"
  }
 },
 "nbformat": 4,
 "nbformat_minor": 2
}
