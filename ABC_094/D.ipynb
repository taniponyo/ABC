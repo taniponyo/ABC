{
 "cells": [
  {
   "cell_type": "code",
   "execution_count": 7,
   "metadata": {
    "scrolled": false
   },
   "outputs": [
    {
     "name": "stdout",
     "output_type": "stream",
     "text": [
      "5\n",
      "6 9 4 2 11\n",
      "11 6\n"
     ]
    }
   ],
   "source": [
    "n = int(input())\n",
    "a = list(map(int,input().split()))\n",
    "\n",
    "import bisect\n",
    "a.sort()\n",
    "\n",
    "center = a[-1]//2\n",
    "\n",
    "index = bisect.bisect_left(a,center)\n",
    "\n",
    "if a[index] != center:\n",
    "    if index > 0 and center - a[index-1] < a[index] - center:\n",
    "        index -= 1\n",
    "        \n",
    "if index == n-1:\n",
    "    index -= 1\n",
    "    \n",
    "print(a[-1],a[index])"
   ]
  }
 ],
 "metadata": {
  "kernelspec": {
   "display_name": "Python 3",
   "language": "python",
   "name": "python3"
  },
  "language_info": {
   "codemirror_mode": {
    "name": "ipython",
    "version": 3
   },
   "file_extension": ".py",
   "mimetype": "text/x-python",
   "name": "python",
   "nbconvert_exporter": "python",
   "pygments_lexer": "ipython3",
   "version": "3.7.3"
  }
 },
 "nbformat": 4,
 "nbformat_minor": 2
}
