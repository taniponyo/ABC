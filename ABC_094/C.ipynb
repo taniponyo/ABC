{
 "cells": [
  {
   "cell_type": "code",
   "execution_count": null,
   "metadata": {},
   "outputs": [],
   "source": [
    "N = int(input())\n",
    "X = list(map(int,input().split()))\n",
    " \n",
    "X_sort = sorted(X)\n",
    " \n",
    "mid_r = X_sort[N//2]\n",
    "mid_l = X_sort[N//2-1]\n",
    " \n",
    "for i in range(N):\n",
    "    if X[i] <= mid_l:\n",
    "        print(mid_r)\n",
    "    else:\n",
    "        print(mid_l)"
   ]
  }
 ],
 "metadata": {
  "kernelspec": {
   "display_name": "Python 3",
   "language": "python",
   "name": "python3"
  },
  "language_info": {
   "codemirror_mode": {
    "name": "ipython",
    "version": 3
   },
   "file_extension": ".py",
   "mimetype": "text/x-python",
   "name": "python",
   "nbconvert_exporter": "python",
   "pygments_lexer": "ipython3",
   "version": "3.7.3"
  }
 },
 "nbformat": 4,
 "nbformat_minor": 2
}
