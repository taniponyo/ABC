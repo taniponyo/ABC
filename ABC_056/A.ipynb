{
 "cells": [
  {
   "cell_type": "code",
   "execution_count": 1,
   "metadata": {
    "scrolled": true
   },
   "outputs": [
    {
     "name": "stdout",
     "output_type": "stream",
     "text": [
      "D H\n"
     ]
    }
   ],
   "source": [
    "a,b = map(str,input().split())\n",
    "\n",
    "if a == 'H' and b == 'H':\n",
    "    print('H')\n",
    "elif a == 'D' and b == 'H':\n",
    "    print('D')\n",
    "elif a == 'D' and b == 'D':\n",
    "    print('H')\n",
    "elif a == 'H' and b == 'D':\n",
    "    print('D')"
   ]
  }
 ],
 "metadata": {
  "kernelspec": {
   "display_name": "Python 3",
   "language": "python",
   "name": "python3"
  },
  "language_info": {
   "codemirror_mode": {
    "name": "ipython",
    "version": 3
   },
   "file_extension": ".py",
   "mimetype": "text/x-python",
   "name": "python",
   "nbconvert_exporter": "python",
   "pygments_lexer": "ipython3",
   "version": "3.7.3"
  }
 },
 "nbformat": 4,
 "nbformat_minor": 2
}
