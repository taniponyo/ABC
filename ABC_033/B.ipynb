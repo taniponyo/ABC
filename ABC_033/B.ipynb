{
 "cells": [
  {
   "cell_type": "code",
   "execution_count": 4,
   "metadata": {
    "scrolled": false
   },
   "outputs": [
    {
     "name": "stdout",
     "output_type": "stream",
     "text": [
      "5\n",
      "a 10\n",
      "b 20\n",
      "c 30\n",
      "d 40\n",
      "e 100\n",
      "e\n"
     ]
    },
    {
     "ename": "SystemExit",
     "evalue": "",
     "output_type": "error",
     "traceback": [
      "An exception has occurred, use %tb to see the full traceback.\n",
      "\u001b[1;31mSystemExit\u001b[0m\n"
     ]
    }
   ],
   "source": [
    "N = int(input())\n",
    "S = []\n",
    "P = []\n",
    "for i in range(N):\n",
    "    s,p = map(str,input().split())\n",
    "    S.append(s)\n",
    "    P.append(int(p))\n",
    "\n",
    "import sys\n",
    "\n",
    "tmp_sum = sum(P)//2\n",
    "for i in range(N):\n",
    "    if tmp_sum < P[i]:\n",
    "        print(S[i])\n",
    "        sys.exit()\n",
    "print('atcoder')"
   ]
  }
 ],
 "metadata": {
  "kernelspec": {
   "display_name": "Python 3",
   "language": "python",
   "name": "python3"
  },
  "language_info": {
   "codemirror_mode": {
    "name": "ipython",
    "version": 3
   },
   "file_extension": ".py",
   "mimetype": "text/x-python",
   "name": "python",
   "nbconvert_exporter": "python",
   "pygments_lexer": "ipython3",
   "version": "3.7.6"
  }
 },
 "nbformat": 4,
 "nbformat_minor": 4
}
