{
 "cells": [
  {
   "cell_type": "code",
   "execution_count": 2,
   "metadata": {},
   "outputs": [
    {
     "name": "stdout",
     "output_type": "stream",
     "text": [
      "5\n",
      "2 0 0 0 3\n",
      "3\n"
     ]
    }
   ],
   "source": [
    "N = int(input())\n",
    "a = list(map(int,input().split()))\n",
    "\n",
    "average = sum(a)/N\n",
    "if sum(a)%N != 0:\n",
    "    print(-1)\n",
    "else:\n",
    "    island = 0\n",
    "    bridge = 0\n",
    "    total = 0\n",
    "    for i in range(N):\n",
    "        island += 1\n",
    "        total += a[i]\n",
    "        if total / island == average:\n",
    "            island = 0\n",
    "            total = 0\n",
    "        else:\n",
    "            bridge += 1\n",
    "    print(bridge)"
   ]
  }
 ],
 "metadata": {
  "kernelspec": {
   "display_name": "Python 3",
   "language": "python",
   "name": "python3"
  },
  "language_info": {
   "codemirror_mode": {
    "name": "ipython",
    "version": 3
   },
   "file_extension": ".py",
   "mimetype": "text/x-python",
   "name": "python",
   "nbconvert_exporter": "python",
   "pygments_lexer": "ipython3",
   "version": "3.7.7"
  }
 },
 "nbformat": 4,
 "nbformat_minor": 4
}
