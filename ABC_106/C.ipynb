{
 "cells": [
  {
   "cell_type": "code",
   "execution_count": null,
   "metadata": {},
   "outputs": [],
   "source": [
    "s = input()\n",
    "k = int(input())\n",
    "flag = False\n",
    " \n",
    "for i in range(min(len(s), k)):\n",
    "    if s[i] != '1':\n",
    "        ans = int(s[i])\n",
    "        flag = True\n",
    "        break\n",
    "\n",
    "if flag == True:\n",
    "    print(ans)\n",
    "else:\n",
    "    print(1)"
   ]
  }
 ],
 "metadata": {
  "kernelspec": {
   "display_name": "Python 3",
   "language": "python",
   "name": "python3"
  },
  "language_info": {
   "codemirror_mode": {
    "name": "ipython",
    "version": 3
   },
   "file_extension": ".py",
   "mimetype": "text/x-python",
   "name": "python",
   "nbconvert_exporter": "python",
   "pygments_lexer": "ipython3",
   "version": "3.7.3"
  }
 },
 "nbformat": 4,
 "nbformat_minor": 2
}
