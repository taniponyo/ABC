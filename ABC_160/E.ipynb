{
 "cells": [
  {
   "cell_type": "code",
   "execution_count": 25,
   "metadata": {},
   "outputs": [
    {
     "name": "stdout",
     "output_type": "stream",
     "text": [
      "2 2 4 4 4\n",
      "11 12 13 14\n",
      "21 22 23 24\n",
      "1 2 3 4\n"
     ]
    }
   ],
   "source": [
    "X,Y,A,B,C = map(int,input().split())\n",
    "p = list(map(int,input().split()))\n",
    "q = list(map(int,input().split()))\n",
    "r = list(map(int,input().split()))"
   ]
  },
  {
   "cell_type": "code",
   "execution_count": 32,
   "metadata": {},
   "outputs": [
    {
     "name": "stdout",
     "output_type": "stream",
     "text": [
      "74\n"
     ]
    }
   ],
   "source": [
    "p.sort(reverse=True)\n",
    "q.sort(reverse=True)\n",
    "r.sort(reverse=True)\n",
    "\n",
    "alist = []\n",
    "ans = 0\n",
    "\n",
    "for i in range(X):\n",
    "    alist.append(p[i])\n",
    "    \n",
    "for j in range(Y):\n",
    "    alist.append(q[j])\n",
    "    \n",
    "for k in range(C):\n",
    "    alist.append(r[k])\n",
    "    \n",
    "alist.sort(reverse=True)\n",
    "    \n",
    "for k in range(X+Y):\n",
    "    ans += alist[k]\n",
    "\n",
    "print(ans)"
   ]
  }
 ],
 "metadata": {
  "kernelspec": {
   "display_name": "Python 3",
   "language": "python",
   "name": "python3"
  },
  "language_info": {
   "codemirror_mode": {
    "name": "ipython",
    "version": 3
   },
   "file_extension": ".py",
   "mimetype": "text/x-python",
   "name": "python",
   "nbconvert_exporter": "python",
   "pygments_lexer": "ipython3",
   "version": "3.7.3"
  }
 },
 "nbformat": 4,
 "nbformat_minor": 2
}
