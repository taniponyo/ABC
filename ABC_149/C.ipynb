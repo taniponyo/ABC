{
 "cells": [
  {
   "cell_type": "code",
   "execution_count": 8,
   "metadata": {},
   "outputs": [
    {
     "name": "stdout",
     "output_type": "stream",
     "text": [
      "99992\n"
     ]
    }
   ],
   "source": [
    "X = int(input())"
   ]
  },
  {
   "cell_type": "code",
   "execution_count": 2,
   "metadata": {},
   "outputs": [],
   "source": [
    "import math\n",
    "#----エラトステネスの篩--------\n",
    "def get_primenumber(number):\n",
    "    prime_list = []\n",
    "    #2からnumberまでの数字をsearch_listに入れる\n",
    "    search_list = list(range(2,number+1))\n",
    "    while True:\n",
    "      #search_listの先頭の値が√nの値を超えたら処理終了\n",
    "      if search_list[0] > math.sqrt(number):\n",
    "        #prime_listにsearch_listを結合\n",
    "        prime_list.extend(search_list)\n",
    "        break\n",
    "      else:\n",
    "        #search_listの先頭をprime_listに入れる\n",
    "        head_num = search_list[0]\n",
    "        prime_list.append(head_num)\n",
    "        #search_listの先頭をpopする\n",
    "        search_list.pop(0)\n",
    "        #head_numの倍数を取り除く\n",
    "        search_list = [num for num in search_list if num % head_num != 0]\n",
    "    return prime_list"
   ]
  },
  {
   "cell_type": "code",
   "execution_count": 3,
   "metadata": {},
   "outputs": [],
   "source": [
    "num_list = get_primenumber(10**5+1)"
   ]
  },
  {
   "cell_type": "code",
   "execution_count": 9,
   "metadata": {},
   "outputs": [],
   "source": [
    "import sys\n",
    "\n",
    "for i in range(len(num_list)):\n",
    "    if X <= num_list[i]:\n",
    "        print(num_list[i])\n",
    "        sys.exit()"
   ]
  },
  {
   "cell_type": "code",
   "execution_count": 10,
   "metadata": {},
   "outputs": [
    {
     "name": "stdout",
     "output_type": "stream",
     "text": [
      "100003\n"
     ]
    },
    {
     "ename": "SystemExit",
     "evalue": "",
     "output_type": "error",
     "traceback": [
      "An exception has occurred, use %tb to see the full traceback.\n",
      "\u001b[1;31mSystemExit\u001b[0m\n"
     ]
    }
   ],
   "source": [
    "import math\n",
    "\n",
    "def is_prime(n):\n",
    "    if n == 1: return False\n",
    "\n",
    "    for k in range(2, int(math.sqrt(n)) + 1):\n",
    "        if n % k == 0:\n",
    "            return False\n",
    "\n",
    "    return True\n",
    "\n",
    "while True:\n",
    "    if is_prime(X) == True:\n",
    "        print(X)\n",
    "        sys.exit()\n",
    "    X+=1"
   ]
  }
 ],
 "metadata": {
  "kernelspec": {
   "display_name": "Python 3",
   "language": "python",
   "name": "python3"
  },
  "language_info": {
   "codemirror_mode": {
    "name": "ipython",
    "version": 3
   },
   "file_extension": ".py",
   "mimetype": "text/x-python",
   "name": "python",
   "nbconvert_exporter": "python",
   "pygments_lexer": "ipython3",
   "version": "3.7.4"
  }
 },
 "nbformat": 4,
 "nbformat_minor": 2
}
