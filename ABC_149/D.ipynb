{
 "cells": [
  {
   "cell_type": "code",
   "execution_count": 3,
   "metadata": {},
   "outputs": [
    {
     "name": "stdout",
     "output_type": "stream",
     "text": [
      "5 2\n",
      "8 7 6\n",
      "rsrpr\n"
     ]
    }
   ],
   "source": [
    "N,K = map(int,input().split())\n",
    "R,S,P = map(int,input().split())\n",
    "T = input()\n",
    " \n",
    "k_to_word = [[] for _ in range(K)]\n",
    "# K回ごとに何を出したか保存\n",
    "for i,x in enumerate(T):\n",
    "    k = i % K\n",
    "    k_to_word[k].append(x)"
   ]
  },
  {
   "cell_type": "code",
   "execution_count": 4,
   "metadata": {},
   "outputs": [
    {
     "name": "stdout",
     "output_type": "stream",
     "text": [
      "[['r', 'r', 'r'], ['s', 'p']]\n"
     ]
    }
   ],
   "source": [
    "print(k_to_word)"
   ]
  },
  {
   "cell_type": "code",
   "execution_count": 6,
   "metadata": {
    "scrolled": true
   },
   "outputs": [
    {
     "name": "stdout",
     "output_type": "stream",
     "text": [
      "0 0 6\n",
      "6 6 6\n",
      "6 6 12\n",
      "8 0 0\n",
      "0 15 8\n",
      "27\n"
     ]
    }
   ],
   "source": [
    "def solve(A):\n",
    "    # 直前と同じ手は出せない、というルール\n",
    "    r,s,p = 0,0,0 # 直前に出した手 -> 最大スコア\n",
    "    for x in A:\n",
    "        # 例 x == r : 相手がrを出したとき\n",
    "        if x == 'r':\n",
    "            # 左から順にr,s,pを出すときの点数変化\n",
    "            # max(s,p)とかだと前回にs,pのどちらかを出している\n",
    "            r,s,p = max(s,p),max(r,p),max(r,s)+P\n",
    "        elif x == 's':\n",
    "            r,s,p = max(s,p)+R,max(r,p),max(r,s)\n",
    "        elif x == 'p':\n",
    "            r,s,p = max(s,p),max(r,p)+S,max(r,s)   \n",
    "    \n",
    "    return max(r,s,p)\n",
    " \n",
    "answer = sum(solve(A) for A in k_to_word)\n",
    "print(answer)"
   ]
  }
 ],
 "metadata": {
  "kernelspec": {
   "display_name": "Python 3",
   "language": "python",
   "name": "python3"
  },
  "language_info": {
   "codemirror_mode": {
    "name": "ipython",
    "version": 3
   },
   "file_extension": ".py",
   "mimetype": "text/x-python",
   "name": "python",
   "nbconvert_exporter": "python",
   "pygments_lexer": "ipython3",
   "version": "3.7.7"
  }
 },
 "nbformat": 4,
 "nbformat_minor": 2
}
