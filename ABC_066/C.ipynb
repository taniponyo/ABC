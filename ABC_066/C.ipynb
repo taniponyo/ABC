{
 "cells": [
  {
   "cell_type": "code",
   "execution_count": 7,
   "metadata": {},
   "outputs": [
    {
     "name": "stdout",
     "output_type": "stream",
     "text": [
      "3\n",
      "1 2 3\n"
     ]
    }
   ],
   "source": [
    "N = int(input())\n",
    "a = list(map(int,input().split()))"
   ]
  },
  {
   "cell_type": "code",
   "execution_count": 8,
   "metadata": {},
   "outputs": [
    {
     "name": "stdout",
     "output_type": "stream",
     "text": [
      "3 1 2 "
     ]
    }
   ],
   "source": [
    "from collections import deque\n",
    "\n",
    "ans = deque()\n",
    "\n",
    "if N%2 == 0:\n",
    "    for i in range(N):\n",
    "        if i%2 == 0:\n",
    "            ans.append(a[i])\n",
    "        else:\n",
    "            ans.inser(a[i])\n",
    "else:\n",
    "    for i in range(N):\n",
    "        if i%2 == 0:\n",
    "            ans.insert(0,a[i])\n",
    "        else:\n",
    "            ans.append(a[i])\n",
    "\n",
    "for i in range(N):\n",
    "    print(ans[i],end=\" \")"
   ]
  }
 ],
 "metadata": {
  "kernelspec": {
   "display_name": "Python 3",
   "language": "python",
   "name": "python3"
  },
  "language_info": {
   "codemirror_mode": {
    "name": "ipython",
    "version": 3
   },
   "file_extension": ".py",
   "mimetype": "text/x-python",
   "name": "python",
   "nbconvert_exporter": "python",
   "pygments_lexer": "ipython3",
   "version": "3.7.4"
  }
 },
 "nbformat": 4,
 "nbformat_minor": 2
}
