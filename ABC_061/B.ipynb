{
 "cells": [
  {
   "cell_type": "code",
   "execution_count": 6,
   "metadata": {},
   "outputs": [
    {
     "name": "stdout",
     "output_type": "stream",
     "text": [
      "4 3\n",
      "[[], [], [], []]\n"
     ]
    }
   ],
   "source": [
    "N,M = map(int,input().split())\n",
    " \n",
    "deg = [0] * (N+1)\n",
    " \n",
    "for _ in range(M):\n",
    "  a,b = map(int,input().split())\n",
    "  deg[a] += 1\n",
    "  deg[b] += 1\n",
    " \n",
    "print(*deg[1:],sep='\\n')"
   ]
  }
 ],
 "metadata": {
  "kernelspec": {
   "display_name": "Python 3",
   "language": "python",
   "name": "python3"
  },
  "language_info": {
   "codemirror_mode": {
    "name": "ipython",
    "version": 3
   },
   "file_extension": ".py",
   "mimetype": "text/x-python",
   "name": "python",
   "nbconvert_exporter": "python",
   "pygments_lexer": "ipython3",
   "version": "3.7.3"
  }
 },
 "nbformat": 4,
 "nbformat_minor": 2
}
