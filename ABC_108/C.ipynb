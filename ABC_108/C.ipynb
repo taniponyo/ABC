{
 "cells": [
  {
   "cell_type": "code",
   "execution_count": 6,
   "metadata": {},
   "outputs": [
    {
     "name": "stdout",
     "output_type": "stream",
     "text": [
      "35897 932\n"
     ]
    }
   ],
   "source": [
    "N,K = map(int,input().split())"
   ]
  },
  {
   "cell_type": "code",
   "execution_count": 7,
   "metadata": {},
   "outputs": [
    {
     "name": "stdout",
     "output_type": "stream",
     "text": [
      "114191\n"
     ]
    }
   ],
   "source": [
    "ans1 = 0\n",
    "ans2 = 0\n",
    "if K%2 == 1:\n",
    "    for i in range(1,N+1):\n",
    "        if i%K == 0:\n",
    "            ans1 += 1\n",
    "            \n",
    "        ans = ans1**3\n",
    "else:\n",
    "    for i in range(1,N+1):\n",
    "        if i%K == 0:\n",
    "            ans1 += 1\n",
    "        if i%K == K//2:\n",
    "            ans2 += 1\n",
    "        ans = ans1**3 + ans2**3\n",
    "            \n",
    "print(ans)"
   ]
  }
 ],
 "metadata": {
  "kernelspec": {
   "display_name": "Python 3",
   "language": "python",
   "name": "python3"
  },
  "language_info": {
   "codemirror_mode": {
    "name": "ipython",
    "version": 3
   },
   "file_extension": ".py",
   "mimetype": "text/x-python",
   "name": "python",
   "nbconvert_exporter": "python",
   "pygments_lexer": "ipython3",
   "version": "3.7.3"
  }
 },
 "nbformat": 4,
 "nbformat_minor": 2
}
