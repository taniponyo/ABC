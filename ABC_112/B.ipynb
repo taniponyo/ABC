{
 "cells": [
  {
   "cell_type": "code",
   "execution_count": 1,
   "metadata": {},
   "outputs": [
    {
     "name": "stdout",
     "output_type": "stream",
     "text": [
      "4 3\n",
      "1 1000\n",
      "2 4\n",
      "3 1000\n",
      "4 500\n",
      "1010\n"
     ]
    }
   ],
   "source": [
    "N,T = map(int,input().split())\n",
    "ans = 1010\n",
    "TLE = 1010\n",
    "for i in range(N):\n",
    "    c,t = map(int,input().split())\n",
    "    if t <= T:\n",
    "        ans = min(ans,c)\n",
    "if ans == TLE:\n",
    "    print(\"TLE\")\n",
    "else:\n",
    "    print(ans)"
   ]
  }
 ],
 "metadata": {
  "kernelspec": {
   "display_name": "Python 3",
   "language": "python",
   "name": "python3"
  },
  "language_info": {
   "codemirror_mode": {
    "name": "ipython",
    "version": 3
   },
   "file_extension": ".py",
   "mimetype": "text/x-python",
   "name": "python",
   "nbconvert_exporter": "python",
   "pygments_lexer": "ipython3",
   "version": "3.7.3"
  }
 },
 "nbformat": 4,
 "nbformat_minor": 2
}
