{
 "cells": [
  {
   "cell_type": "code",
   "execution_count": 5,
   "metadata": {},
   "outputs": [
    {
     "name": "stdout",
     "output_type": "stream",
     "text": [
      "3\n",
      "99 1 191\n",
      "100 1 192\n",
      "99 0 192\n"
     ]
    }
   ],
   "source": [
    "N = int(input())\n",
    "x = [0]*N\n",
    "y = [0]*N\n",
    "h = [0]*N\n",
    "for i in range(N):\n",
    "    x[i],y[i],h[i] = map(int,input().split())"
   ]
  },
  {
   "cell_type": "code",
   "execution_count": 9,
   "metadata": {},
   "outputs": [
    {
     "name": "stdout",
     "output_type": "stream",
     "text": [
      "100 0 193\n"
     ]
    },
    {
     "ename": "SystemExit",
     "evalue": "",
     "output_type": "error",
     "traceback": [
      "An exception has occurred, use %tb to see the full traceback.\n",
      "\u001b[1;31mSystemExit\u001b[0m\n"
     ]
    }
   ],
   "source": [
    "import sys\n",
    "\n",
    "for cx in range(0,101):\n",
    "    for cy in range(0,101):\n",
    "        H = [0]*N\n",
    "        for i in range(N):\n",
    "            H[i] = h[i] + abs(x[i]-cx) + abs(y[i]-cy)\n",
    "        for i in range(N):\n",
    "            if h[i] == 0:\n",
    "                H[i] = min(H)\n",
    "        if max(H) == min(H):\n",
    "            print(cx,cy,max(H))\n",
    "            sys.exit()"
   ]
  }
 ],
 "metadata": {
  "kernelspec": {
   "display_name": "Python 3",
   "language": "python",
   "name": "python3"
  },
  "language_info": {
   "codemirror_mode": {
    "name": "ipython",
    "version": 3
   },
   "file_extension": ".py",
   "mimetype": "text/x-python",
   "name": "python",
   "nbconvert_exporter": "python",
   "pygments_lexer": "ipython3",
   "version": "3.7.3"
  }
 },
 "nbformat": 4,
 "nbformat_minor": 2
}
