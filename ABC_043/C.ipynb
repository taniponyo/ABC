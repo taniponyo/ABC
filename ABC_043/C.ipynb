{
 "cells": [
  {
   "cell_type": "code",
   "execution_count": 1,
   "metadata": {},
   "outputs": [
    {
     "name": "stdout",
     "output_type": "stream",
     "text": [
      "3\n",
      "4 2 5\n"
     ]
    }
   ],
   "source": [
    "N = int(input())\n",
    "a = list(map(int,input().split()))"
   ]
  },
  {
   "cell_type": "code",
   "execution_count": 2,
   "metadata": {},
   "outputs": [
    {
     "name": "stdout",
     "output_type": "stream",
     "text": [
      "5\n"
     ]
    }
   ],
   "source": [
    "high = max(a)\n",
    "low = min(a)\n",
    "cost = 0\n",
    "ans = 10**9\n",
    "\n",
    "for i in range(low,high+1):\n",
    "    for j in a:\n",
    "        cost += pow(j-i,2)\n",
    "        \n",
    "    if cost < ans:\n",
    "        ans = cost\n",
    "        cost = 0\n",
    "    else:\n",
    "        cost = 0\n",
    "        \n",
    "print(ans)"
   ]
  }
 ],
 "metadata": {
  "kernelspec": {
   "display_name": "Python 3",
   "language": "python",
   "name": "python3"
  },
  "language_info": {
   "codemirror_mode": {
    "name": "ipython",
    "version": 3
   },
   "file_extension": ".py",
   "mimetype": "text/x-python",
   "name": "python",
   "nbconvert_exporter": "python",
   "pygments_lexer": "ipython3",
   "version": "3.7.4"
  }
 },
 "nbformat": 4,
 "nbformat_minor": 2
}
