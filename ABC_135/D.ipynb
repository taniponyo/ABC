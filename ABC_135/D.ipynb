{
 "cells": [
  {
   "cell_type": "code",
   "execution_count": 9,
   "metadata": {},
   "outputs": [
    {
     "name": "stdout",
     "output_type": "stream",
     "text": [
      "??2??5\n",
      "[[1, 0, 0, 0, 0, 0, 0, 0, 0, 0, 0, 0, 0, 0], [1, 1, 1, 1, 1, 1, 1, 1, 1, 1, 0, 0, 0, 0], [8, 8, 8, 8, 8, 8, 8, 8, 8, 7, 7, 7, 7, 0], [8, 7, 8, 8, 8, 7, 8, 8, 7, 8, 8, 7, 8, 0], [77, 77, 76, 77, 77, 77, 76, 77, 78, 78, 77, 76, 77, 0], [768, 768, 769, 770, 771, 772, 771, 770, 769, 768, 768, 768, 768, 0], [771, 768, 768, 772, 768, 768, 771, 769, 768, 770, 770, 768, 769, 0]]\n"
     ]
    }
   ],
   "source": [
    "S = input()\n",
    "N = len(S)\n",
    "MOD = 10**9+7\n",
    "dp = [[0]*(14) for i in range(N+1)]\n",
    "dp[0][0] = 1\n",
    "\n",
    "for i in range(N):\n",
    "    if S[i] == '?':\n",
    "        c = -1\n",
    "    else:\n",
    "        c = int(S[i])\n",
    "        \n",
    "    for j in range(10):\n",
    "        if c != -1 and c != j:\n",
    "            continue\n",
    "        else:\n",
    "            for k in range(13):\n",
    "                dp[i+1][(k*10+j)%13] += dp[i][k]\n",
    "        \n",
    "    for j in range(13):\n",
    "        dp[i+1][j] %= MOD\n",
    "        \n",
    "print(dp)"
   ]
  }
 ],
 "metadata": {
  "kernelspec": {
   "display_name": "Python 3",
   "language": "python",
   "name": "python3"
  },
  "language_info": {
   "codemirror_mode": {
    "name": "ipython",
    "version": 3
   },
   "file_extension": ".py",
   "mimetype": "text/x-python",
   "name": "python",
   "nbconvert_exporter": "python",
   "pygments_lexer": "ipython3",
   "version": "3.7.7"
  }
 },
 "nbformat": 4,
 "nbformat_minor": 4
}
