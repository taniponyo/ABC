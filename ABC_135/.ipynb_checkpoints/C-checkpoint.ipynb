{
 "cells": [
  {
   "cell_type": "code",
   "execution_count": 4,
   "metadata": {},
   "outputs": [
    {
     "name": "stdout",
     "output_type": "stream",
     "text": [
      "2\n",
      "100 1 1 \n",
      "1 100\n",
      "3\n"
     ]
    }
   ],
   "source": [
    "N = int(input())\n",
    "A = list(map(int,input().split()))\n",
    "B = list(map(int,input().split()))\n",
    "\n",
    "ans = 0\n",
    "\n",
    "for  i in range(N):\n",
    "    tmp = 0\n",
    "    if A[i] >= B[i]:\n",
    "        A[i] -= B[i]\n",
    "        ans += B[i]\n",
    "    else:\n",
    "        ans += A[i]\n",
    "        tmp = B[i] - A[i]\n",
    "        A[i] = 0\n",
    "        if A[i+1] >= tmp:\n",
    "            A[i+1] -= tmp\n",
    "            ans += tmp\n",
    "        else:\n",
    "            ans += A[i+1]\n",
    "            A[i+1] = 0\n",
    "            \n",
    "print(ans)    "
   ]
  }
 ],
 "metadata": {
  "kernelspec": {
   "display_name": "Python 3",
   "language": "python",
   "name": "python3"
  },
  "language_info": {
   "codemirror_mode": {
    "name": "ipython",
    "version": 3
   },
   "file_extension": ".py",
   "mimetype": "text/x-python",
   "name": "python",
   "nbconvert_exporter": "python",
   "pygments_lexer": "ipython3",
   "version": "3.7.7"
  }
 },
 "nbformat": 4,
 "nbformat_minor": 4
}
