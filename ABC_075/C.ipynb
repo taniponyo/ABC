{
 "cells": [
  {
   "cell_type": "code",
   "execution_count": 1,
   "metadata": {},
   "outputs": [
    {
     "name": "stdout",
     "output_type": "stream",
     "text": [
      "7 7\n",
      "1 3\n",
      "2 7\n",
      "3 4\n",
      "4 5\n",
      "4 6\n",
      "5 6\n",
      "6 7\n"
     ]
    }
   ],
   "source": [
    "# 全部試す\n",
    "# 1つあたりO(M)\n",
    "# O(M^2) = 10^6くらい\n",
    "from scipy.sparse.csgraph import dijkstra\n",
    "N,M = map(int,input().split())\n",
    "edge = [[int(x) for x in input().split()] for _ in range(M)]"
   ]
  },
  {
   "cell_type": "code",
   "execution_count": 2,
   "metadata": {},
   "outputs": [],
   "source": [
    "graph = [[0]*(N+1) for _ in range(N+1)]\n",
    "# 連結している部分は1\n",
    "for a,b in edge:\n",
    "    graph[a][b] = 1"
   ]
  },
  {
   "cell_type": "code",
   "execution_count": 4,
   "metadata": {},
   "outputs": [
    {
     "name": "stdout",
     "output_type": "stream",
     "text": [
      "[[1, 3], [2, 7], [3, 4], [4, 5], [4, 6], [5, 6], [6, 7]]\n",
      "[[0, 0, 0, 0, 0, 0, 0, 0], [0, 0, 0, 1, 0, 0, 0, 0], [0, 0, 0, 0, 0, 0, 0, 1], [0, 0, 0, 0, 1, 0, 0, 0], [0, 0, 0, 0, 0, 1, 1, 0], [0, 0, 0, 0, 0, 0, 1, 0], [0, 0, 0, 0, 0, 0, 0, 1], [0, 0, 0, 0, 0, 0, 0, 0]]\n"
     ]
    }
   ],
   "source": [
    "print(edge)\n",
    "print(graph)"
   ]
  },
  {
   "cell_type": "code",
   "execution_count": 5,
   "metadata": {},
   "outputs": [
    {
     "name": "stdout",
     "output_type": "stream",
     "text": [
      "4\n"
     ]
    }
   ],
   "source": [
    "answer = 0\n",
    "INF = 10 ** 9\n",
    "for a,b in edge:\n",
    "    graph[a][b] = INF\n",
    "    # directed = False : 無向グラフ\n",
    "    # indices = a : 始点\n",
    "    # distはaからスタートしてそれぞれの点にたどり着くまでの最短距離\n",
    "    dist = dijkstra(graph, indices = a, directed = False)\n",
    "    if dist[b] >= INF:\n",
    "        answer += 1\n",
    "    graph[a][b] = 1\n",
    " \n",
    "print(answer)"
   ]
  }
 ],
 "metadata": {
  "kernelspec": {
   "display_name": "Python 3",
   "language": "python",
   "name": "python3"
  },
  "language_info": {
   "codemirror_mode": {
    "name": "ipython",
    "version": 3
   },
   "file_extension": ".py",
   "mimetype": "text/x-python",
   "name": "python",
   "nbconvert_exporter": "python",
   "pygments_lexer": "ipython3",
   "version": "3.7.3"
  }
 },
 "nbformat": 4,
 "nbformat_minor": 2
}
