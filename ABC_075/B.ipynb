{
 "cells": [
  {
   "cell_type": "code",
   "execution_count": 8,
   "metadata": {},
   "outputs": [
    {
     "name": "stdout",
     "output_type": "stream",
     "text": [
      "3 5\n",
      ".....\n",
      ".#.#.\n",
      ".....\n"
     ]
    }
   ],
   "source": [
    "H,W = map(int,input().split())\n",
    "S = [input() for _ in range(H)]"
   ]
  },
  {
   "cell_type": "code",
   "execution_count": 9,
   "metadata": {},
   "outputs": [
    {
     "name": "stdout",
     "output_type": "stream",
     "text": [
      "[[0, 0, 0, 0, 0], [0, '#', 0, '#', 0], [0, 0, 0, 0, 0]]\n",
      "11211\n",
      "1#2#1\n",
      "11211\n"
     ]
    }
   ],
   "source": [
    "answer = [[0 if cell == '.' else '#' for cell in row] for row in S]\n",
    "print(answer)\n",
    "import itertools\n",
    "for i in range(H):\n",
    "    for j in range(W):\n",
    "        if S[i][j] != '#':\n",
    "            continue\n",
    "        for dx,dy in itertools.product([-1,0,1],repeat=2):\n",
    "            x = i+dx\n",
    "            y = j+dy\n",
    "            if x < 0 or x >= H:\n",
    "                continue\n",
    "            if y < 0 or y >= W:\n",
    "                continue\n",
    "            if S[x][y] == '#':\n",
    "                continue\n",
    "            answer[x][y] += 1\n",
    "            \n",
    "for row in answer:\n",
    "    print(*row,sep='')"
   ]
  },
  {
   "cell_type": "code",
   "execution_count": null,
   "metadata": {},
   "outputs": [],
   "source": []
  }
 ],
 "metadata": {
  "kernelspec": {
   "display_name": "Python 3",
   "language": "python",
   "name": "python3"
  },
  "language_info": {
   "codemirror_mode": {
    "name": "ipython",
    "version": 3
   },
   "file_extension": ".py",
   "mimetype": "text/x-python",
   "name": "python",
   "nbconvert_exporter": "python",
   "pygments_lexer": "ipython3",
   "version": "3.7.3"
  }
 },
 "nbformat": 4,
 "nbformat_minor": 2
}
