{
 "cells": [
  {
   "cell_type": "code",
   "execution_count": 2,
   "metadata": {},
   "outputs": [
    {
     "name": "stdout",
     "output_type": "stream",
     "text": [
      "3\n",
      "6 5 1\n",
      "1 10 1\n"
     ]
    }
   ],
   "source": [
    "N = int(input())\n",
    "C,S,F = [0]*(N-1),[0]*(N-1),[0]*(N-1)\n",
    "for i in range(N-1):\n",
    "    C[i],S[i],F[i] = map(int,input().split())"
   ]
  },
  {
   "cell_type": "code",
   "execution_count": 5,
   "metadata": {},
   "outputs": [
    {
     "name": "stdout",
     "output_type": "stream",
     "text": [
      "12\n",
      "11\n",
      "0\n"
     ]
    }
   ],
   "source": [
    "for i in range(N):\n",
    "    t = 0\n",
    "    for j in range(i,N-1):\n",
    "        if t < S[j]:\n",
    "            t = S[j]\n",
    "        elif t%F[j] != 0:\n",
    "            t = t - t%F[j] + F[j] \n",
    "            \n",
    "        t = t + C[j]\n",
    "    print(t)"
   ]
  }
 ],
 "metadata": {
  "kernelspec": {
   "display_name": "Python 3",
   "language": "python",
   "name": "python3"
  },
  "language_info": {
   "codemirror_mode": {
    "name": "ipython",
    "version": 3
   },
   "file_extension": ".py",
   "mimetype": "text/x-python",
   "name": "python",
   "nbconvert_exporter": "python",
   "pygments_lexer": "ipython3",
   "version": "3.7.3"
  }
 },
 "nbformat": 4,
 "nbformat_minor": 2
}
