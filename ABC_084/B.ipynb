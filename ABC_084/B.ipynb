{
 "cells": [
  {
   "cell_type": "code",
   "execution_count": 4,
   "metadata": {
    "scrolled": false
   },
   "outputs": [
    {
     "name": "stdout",
     "output_type": "stream",
     "text": [
      "1 1\n",
      "---\n"
     ]
    }
   ],
   "source": [
    "A,B = map(int,input().split())\n",
    "S = input()\n",
    "\n",
    "if len(S) == A+B+1:\n",
    "    for i in range(len(S)):\n",
    "        if i == A:\n",
    "            if S[i] != '-':\n",
    "                print('No')\n",
    "                exit()\n",
    "        else:\n",
    "            if S[i] == '-':\n",
    "                print('No')\n",
    "                exit()\n",
    "    print('Yes')\n",
    "else:\n",
    "    print('No')"
   ]
  }
 ],
 "metadata": {
  "kernelspec": {
   "display_name": "Python 3",
   "language": "python",
   "name": "python3"
  },
  "language_info": {
   "codemirror_mode": {
    "name": "ipython",
    "version": 3
   },
   "file_extension": ".py",
   "mimetype": "text/x-python",
   "name": "python",
   "nbconvert_exporter": "python",
   "pygments_lexer": "ipython3",
   "version": "3.7.3"
  }
 },
 "nbformat": 4,
 "nbformat_minor": 2
}
