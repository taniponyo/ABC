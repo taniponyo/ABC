{
 "cells": [
  {
   "cell_type": "code",
   "execution_count": 12,
   "metadata": {},
   "outputs": [
    {
     "name": "stdout",
     "output_type": "stream",
     "text": [
      "6 5\n",
      "4 7 10 3 5\n",
      "6\n"
     ]
    },
    {
     "ename": "SystemExit",
     "evalue": "",
     "output_type": "error",
     "traceback": [
      "An exception has occurred, use %tb to see the full traceback.\n",
      "\u001b[1;31mSystemExit\u001b[0m\n"
     ]
    }
   ],
   "source": [
    "X,N = map(int,input().split())\n",
    "import sys\n",
    "p = list(map(int,input().split()))\n",
    "if N == 0:\n",
    "    print(X)\n",
    "    sys.exit()\n",
    "    \n",
    "for i in range(101):  \n",
    "    tmp_r = 10**9+7\n",
    "    tmp_l = 10**9+7\n",
    "    r_flag = 0\n",
    "    l_flag = 0\n",
    "    \n",
    "    if X+i not in p:\n",
    "        tmp_r = X+i\n",
    "        r_flag = 1\n",
    "    if X-i not in p:\n",
    "        tmp_l = X-i\n",
    "        l_flag = 1\n",
    "        \n",
    "    if r_flag == 1 or l_flag == 1:\n",
    "        print(min(tmp_r,tmp_l))\n",
    "        sys.exit()"
   ]
  },
  {
   "cell_type": "code",
   "execution_count": null,
   "metadata": {},
   "outputs": [],
   "source": []
  }
 ],
 "metadata": {
  "kernelspec": {
   "display_name": "Python 3",
   "language": "python",
   "name": "python3"
  },
  "language_info": {
   "codemirror_mode": {
    "name": "ipython",
    "version": 3
   },
   "file_extension": ".py",
   "mimetype": "text/x-python",
   "name": "python",
   "nbconvert_exporter": "python",
   "pygments_lexer": "ipython3",
   "version": "3.7.7"
  }
 },
 "nbformat": 4,
 "nbformat_minor": 4
}
