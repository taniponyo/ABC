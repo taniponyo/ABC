{
 "cells": [
  {
   "cell_type": "code",
   "execution_count": 20,
   "metadata": {},
   "outputs": [
    {
     "name": "stdout",
     "output_type": "stream",
     "text": [
      "5\n",
      "24 11 8 3 16\n",
      "3\n"
     ]
    }
   ],
   "source": [
    "N = int(input())\n",
    "A = list(map(int,input().split()))\n",
    "A.sort()\n",
    "MAX = A[-1]+1\n",
    "num_tmp = [0]*MAX\n",
    "\n",
    "for a in A:\n",
    "    num_tmp[a] += 1\n",
    "    if num_tmp[a] == 1:\n",
    "        for i in range(2*a,MAX,a):\n",
    "            num_tmp[i] = 2\n",
    "\n",
    "print(num_tmp.count(1))"
   ]
  }
 ],
 "metadata": {
  "kernelspec": {
   "display_name": "Python 3",
   "language": "python",
   "name": "python3"
  },
  "language_info": {
   "codemirror_mode": {
    "name": "ipython",
    "version": 3
   },
   "file_extension": ".py",
   "mimetype": "text/x-python",
   "name": "python",
   "nbconvert_exporter": "python",
   "pygments_lexer": "ipython3",
   "version": "3.7.7"
  }
 },
 "nbformat": 4,
 "nbformat_minor": 4
}
