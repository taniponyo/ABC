{
 "cells": [
  {
   "cell_type": "code",
   "execution_count": 4,
   "metadata": {
    "scrolled": true
   },
   "outputs": [
    {
     "name": "stdout",
     "output_type": "stream",
     "text": [
      "0 0 1 2\n",
      "RUULDDDRRUUUULLDDD\n"
     ]
    }
   ],
   "source": [
    "sx,sy,tx,ty = map(int,input().split())\n",
    "\n",
    "ans = []\n",
    "\n",
    "for x in range(tx-sx):\n",
    "    ans.append('R')\n",
    "for y in range(ty-sy):\n",
    "    ans.append('U')\n",
    "for x in range(tx-sx):\n",
    "    ans.append('L')\n",
    "for y in range(ty-sy):\n",
    "    ans.append('D')\n",
    "    \n",
    "ans.append('D')\n",
    "\n",
    "for x in range(tx-sx+1):\n",
    "    ans.append('R')\n",
    "for y in range(ty-sy+1):\n",
    "    ans.append('U')\n",
    "    \n",
    "ans.append('L')\n",
    "ans.append('U')\n",
    "\n",
    "for x in range(tx-sx+1):\n",
    "    ans.append('L')\n",
    "for y in range(ty-sy+1):\n",
    "    ans.append('D')\n",
    "    \n",
    "ans.append('R')\n",
    "    \n",
    "print(''.join(ans))"
   ]
  }
 ],
 "metadata": {
  "kernelspec": {
   "display_name": "Python 3",
   "language": "python",
   "name": "python3"
  },
  "language_info": {
   "codemirror_mode": {
    "name": "ipython",
    "version": 3
   },
   "file_extension": ".py",
   "mimetype": "text/x-python",
   "name": "python",
   "nbconvert_exporter": "python",
   "pygments_lexer": "ipython3",
   "version": "3.7.3"
  }
 },
 "nbformat": 4,
 "nbformat_minor": 2
}
