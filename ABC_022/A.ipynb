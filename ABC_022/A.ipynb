{
 "cells": [
  {
   "cell_type": "code",
   "execution_count": 4,
   "metadata": {},
   "outputs": [
    {
     "name": "stdout",
     "output_type": "stream",
     "text": [
      "5 50 100\n",
      "120\n",
      "-10\n",
      "-20\n",
      "-30\n",
      "70\n",
      "2\n"
     ]
    }
   ],
   "source": [
    "n,s,t = map(int,input().split())\n",
    "w = int(input())\n",
    "a = [int(input()) for i in range(n-1)]\n",
    "\n",
    "if s <= w <= t:\n",
    "    day = 1\n",
    "else:\n",
    "    day = 0\n",
    "\n",
    "for i in range(n-1):\n",
    "    w += a[i]\n",
    "    if s <= w <= t:\n",
    "        day += 1\n",
    "    \n",
    "print(day)"
   ]
  }
 ],
 "metadata": {
  "kernelspec": {
   "display_name": "Python 3",
   "language": "python",
   "name": "python3"
  },
  "language_info": {
   "codemirror_mode": {
    "name": "ipython",
    "version": 3
   },
   "file_extension": ".py",
   "mimetype": "text/x-python",
   "name": "python",
   "nbconvert_exporter": "python",
   "pygments_lexer": "ipython3",
   "version": "3.7.3"
  }
 },
 "nbformat": 4,
 "nbformat_minor": 2
}
