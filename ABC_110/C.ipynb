{
 "cells": [
  {
   "cell_type": "code",
   "execution_count": 2,
   "metadata": {},
   "outputs": [
    {
     "name": "stdout",
     "output_type": "stream",
     "text": [
      "azzel\n",
      "apple\n",
      "[0, 0, 0, 0, 0, 0, 0, 0, 0, 0, 0, 0, 0, 0, 0, 0, 0, 0, 0, 0, 0, 0, 1, 1, 1, 2]\n",
      "[0, 0, 0, 0, 0, 0, 0, 0, 0, 0, 0, 0, 0, 0, 0, 0, 0, 0, 0, 0, 0, 0, 1, 1, 1, 2]\n",
      "Yes\n"
     ]
    }
   ],
   "source": [
    "s = input()\n",
    "t = input()\n",
    " \n",
    "s_c = []\n",
    "t_c = []\n",
    "for c in 'abcdefghijklmnopqrstuvwxyz':\n",
    "    s_c.append(s.count(c))\n",
    "    t_c.append(t.count(c))\n",
    "s_c.sort()\n",
    "t_c.sort()\n",
    "print(s_c)\n",
    "print(t_c)\n",
    "if s_c == t_c:\n",
    "    print('Yes')\n",
    "else:\n",
    "    print('No')"
   ]
  },
  {
   "cell_type": "code",
   "execution_count": 10,
   "metadata": {},
   "outputs": [
    {
     "name": "stdout",
     "output_type": "stream",
     "text": [
      "azzel\n",
      "apple\n"
     ]
    }
   ],
   "source": [
    "s = input()\n",
    "t = input()"
   ]
  },
  {
   "cell_type": "code",
   "execution_count": 17,
   "metadata": {},
   "outputs": [],
   "source": [
    "s_c = []\n",
    "t_c = []\n",
    "for i in range(len(s)):\n",
    "    s_c.append(s[i])\n",
    "    t_c.append(t[i])"
   ]
  },
  {
   "cell_type": "code",
   "execution_count": 19,
   "metadata": {},
   "outputs": [
    {
     "name": "stdout",
     "output_type": "stream",
     "text": [
      "No\n"
     ]
    }
   ],
   "source": [
    "from collections import Counter\n",
    "s_c = Counter(s_c)\n",
    "t_c = Counter(t_c)\n",
    "s_keys, s_values = zip(*s_c.most_common())\n",
    "t_keys, t_values = zip(*t_c.most_common())\n",
    "\n",
    "if  == t_c:\n",
    "    print('Yes')\n",
    "else:\n",
    "    print('No')"
   ]
  }
 ],
 "metadata": {
  "kernelspec": {
   "display_name": "Python 3",
   "language": "python",
   "name": "python3"
  },
  "language_info": {
   "codemirror_mode": {
    "name": "ipython",
    "version": 3
   },
   "file_extension": ".py",
   "mimetype": "text/x-python",
   "name": "python",
   "nbconvert_exporter": "python",
   "pygments_lexer": "ipython3",
   "version": "3.7.3"
  }
 },
 "nbformat": 4,
 "nbformat_minor": 2
}
