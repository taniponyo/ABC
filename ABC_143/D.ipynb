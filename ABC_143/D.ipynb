{
 "cells": [
  {
   "cell_type": "code",
   "execution_count": 1,
   "metadata": {},
   "outputs": [
    {
     "name": "stdout",
     "output_type": "stream",
     "text": [
      "7\n",
      "218 786 704 233 645 728 389\n"
     ]
    }
   ],
   "source": [
    "N = int(input())\n",
    "L = list(map(int,input().split()))"
   ]
  },
  {
   "cell_type": "code",
   "execution_count": 25,
   "metadata": {},
   "outputs": [
    {
     "name": "stdout",
     "output_type": "stream",
     "text": [
      "[218, 233, 389, 645, 704, 728, 786]\n"
     ]
    }
   ],
   "source": [
    "L.sort()\n",
    "print(L)"
   ]
  },
  {
   "cell_type": "code",
   "execution_count": 29,
   "metadata": {},
   "outputs": [
    {
     "name": "stdout",
     "output_type": "stream",
     "text": [
      "3 218 233 451\n",
      "3 218 389 607\n",
      "7 218 645 863\n",
      "7 218 704 922\n",
      "7 218 728 946\n",
      "3 233 389 622\n",
      "7 233 645 878\n",
      "7 233 704 937\n",
      "7 233 728 961\n",
      "7 389 645 1034\n",
      "7 389 704 1093\n",
      "7 389 728 1117\n",
      "7 645 704 1349\n",
      "7 645 728 1373\n",
      "7 704 728 1432\n",
      "23\n"
     ]
    }
   ],
   "source": [
    "import bisect\n",
    "ans = 0\n",
    "\n",
    "for i in range(N-2):\n",
    "    for j in range(i+1,N-1):\n",
    "        a = L[i] #一番短い辺\n",
    "        b = L[j] \n",
    "        \n",
    "        insert_index = bisect.bisect_left(L,a+b)\n",
    "        \n",
    "        if i < insert_index:\n",
    "            ans += insert_index - j - 1\n",
    "        \n",
    "print(ans)"
   ]
  }
 ],
 "metadata": {
  "kernelspec": {
   "display_name": "Python 3",
   "language": "python",
   "name": "python3"
  },
  "language_info": {
   "codemirror_mode": {
    "name": "ipython",
    "version": 3
   },
   "file_extension": ".py",
   "mimetype": "text/x-python",
   "name": "python",
   "nbconvert_exporter": "python",
   "pygments_lexer": "ipython3",
   "version": "3.7.3"
  }
 },
 "nbformat": 4,
 "nbformat_minor": 2
}
