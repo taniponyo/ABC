{
 "cells": [
  {
   "cell_type": "code",
   "execution_count": 1,
   "metadata": {
    "scrolled": true
   },
   "outputs": [
    {
     "name": "stdout",
     "output_type": "stream",
     "text": [
      "4\n",
      "3 4 2 1\n"
     ]
    }
   ],
   "source": [
    "N = int(input())\n",
    "L = list(map(int,input().split()))\n",
    "\n",
    "import bisect\n",
    "ans = 0\n",
    "\n",
    "L.sort()\n",
    "for i in range(0,N-2):\n",
    "    for j in range(i+1,N-1):\n",
    "        a = L[i]\n",
    "        b = L[j]\n",
    "        index = bisect.bisect_left(L,a+b)\n",
    "        if index > j:\n",
    "            ans += index-j-1\n",
    "            \n",
    "print(ans)"
   ]
  },
  {
   "cell_type": "code",
   "execution_count": null,
   "metadata": {},
   "outputs": [],
   "source": []
  }
 ],
 "metadata": {
  "kernelspec": {
   "display_name": "Python 3",
   "language": "python",
   "name": "python3"
  },
  "language_info": {
   "codemirror_mode": {
    "name": "ipython",
    "version": 3
   },
   "file_extension": ".py",
   "mimetype": "text/x-python",
   "name": "python",
   "nbconvert_exporter": "python",
   "pygments_lexer": "ipython3",
   "version": "3.7.7"
  }
 },
 "nbformat": 4,
 "nbformat_minor": 2
}
