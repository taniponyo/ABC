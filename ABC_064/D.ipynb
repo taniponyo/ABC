{
 "cells": [
  {
   "cell_type": "code",
   "execution_count": 2,
   "metadata": {},
   "outputs": [
    {
     "name": "stdout",
     "output_type": "stream",
     "text": [
      "6\n",
      ")))())\n",
      "((((()))()))\n"
     ]
    }
   ],
   "source": [
    "N = int(input())\n",
    "S = input()\n",
    "\n",
    "left = 0\n",
    "right = 0\n",
    "\n",
    "for i in range(N):\n",
    "    if right == 0 and S[i] == ')':\n",
    "        left += 1\n",
    "    elif S[i] == '(':\n",
    "        right += 1\n",
    "    elif right > 0 and S[i] == ')':\n",
    "        right -= 1\n",
    "        \n",
    "print('('*left + S + ')'*right)"
   ]
  }
 ],
 "metadata": {
  "kernelspec": {
   "display_name": "Python 3",
   "language": "python",
   "name": "python3"
  },
  "language_info": {
   "codemirror_mode": {
    "name": "ipython",
    "version": 3
   },
   "file_extension": ".py",
   "mimetype": "text/x-python",
   "name": "python",
   "nbconvert_exporter": "python",
   "pygments_lexer": "ipython3",
   "version": "3.7.3"
  }
 },
 "nbformat": 4,
 "nbformat_minor": 2
}
