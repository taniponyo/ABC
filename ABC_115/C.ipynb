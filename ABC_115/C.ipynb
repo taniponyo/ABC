{
 "cells": [
  {
   "cell_type": "code",
   "execution_count": 1,
   "metadata": {},
   "outputs": [
    {
     "name": "stdout",
     "output_type": "stream",
     "text": [
      "5 3\n",
      "10\n",
      "15\n",
      "11\n",
      "14\n",
      "12\n"
     ]
    }
   ],
   "source": [
    "N,K = map(int,input().split())\n",
    "h = [int(input()) for _ in range(N)]\n",
    "h = list(map(int,input().split()))"
   ]
  },
  {
   "cell_type": "code",
   "execution_count": 3,
   "metadata": {},
   "outputs": [
    {
     "name": "stdout",
     "output_type": "stream",
     "text": [
      "[10, 11, 12, 14, 15]\n",
      "2\n"
     ]
    }
   ],
   "source": [
    "h.sort()\n",
    "\n",
    "ans = 10**9+7\n",
    "\n",
    "for i in range(N-K+1):\n",
    "    ans = min(ans,abs(h[i]-h[i+K-1]))\n",
    "    \n",
    "print(ans)"
   ]
  }
 ],
 "metadata": {
  "kernelspec": {
   "display_name": "Python 3",
   "language": "python",
   "name": "python3"
  },
  "language_info": {
   "codemirror_mode": {
    "name": "ipython",
    "version": 3
   },
   "file_extension": ".py",
   "mimetype": "text/x-python",
   "name": "python",
   "nbconvert_exporter": "python",
   "pygments_lexer": "ipython3",
   "version": "3.7.6"
  }
 },
 "nbformat": 4,
 "nbformat_minor": 2
}
