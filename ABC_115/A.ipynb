{
 "cells": [
  {
   "cell_type": "code",
   "execution_count": null,
   "metadata": {},
   "outputs": [],
   "source": [
    "D = int(input())\n",
    "\n",
    "if D == 25:\n",
    "    print(\"Christmas\")\n",
    "if D == 24:\n",
    "    print(\"Christmas Eve\")\n",
    "if D == 23:\n",
    "    print(\"Christmas Eve Eve\")\n",
    "if D == 22:\n",
    "    print(\"Christmas Eve Eve Eve\")"
   ]
  }
 ],
 "metadata": {
  "kernelspec": {
   "display_name": "Python 3",
   "language": "python",
   "name": "python3"
  },
  "language_info": {
   "codemirror_mode": {
    "name": "ipython",
    "version": 3
   },
   "file_extension": ".py",
   "mimetype": "text/x-python",
   "name": "python",
   "nbconvert_exporter": "python",
   "pygments_lexer": "ipython3",
   "version": "3.7.3"
  }
 },
 "nbformat": 4,
 "nbformat_minor": 2
}
