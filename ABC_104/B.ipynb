{
 "cells": [
  {
   "cell_type": "code",
   "execution_count": 1,
   "metadata": {},
   "outputs": [
    {
     "name": "stdout",
     "output_type": "stream",
     "text": [
      "AtCoder\n"
     ]
    }
   ],
   "source": [
    "S = input()"
   ]
  },
  {
   "cell_type": "code",
   "execution_count": 3,
   "metadata": {},
   "outputs": [
    {
     "name": "stdout",
     "output_type": "stream",
     "text": [
      "AC\n"
     ]
    }
   ],
   "source": [
    "import sys\n",
    "\n",
    "if S[0] != \"A\":\n",
    "    print(\"WA\")\n",
    "    sys.exit()\n",
    "else:\n",
    "    if S[2:len(S)-1].count(\"C\") != 1:\n",
    "        print(\"WA\")\n",
    "        sys.exit()\n",
    "    else:\n",
    "        for i in range(1,len(S)):\n",
    "            if 97 <= ord(S[i]) and ord(S[i]) <= 122:\n",
    "                continue\n",
    "            elif S[i] == \"C\":\n",
    "                continue\n",
    "            else:\n",
    "                print(\"WA\")\n",
    "                sys.exit()\n",
    "    print(\"AC\")\n",
    "        "
   ]
  }
 ],
 "metadata": {
  "kernelspec": {
   "display_name": "Python 3",
   "language": "python",
   "name": "python3"
  },
  "language_info": {
   "codemirror_mode": {
    "name": "ipython",
    "version": 3
   },
   "file_extension": ".py",
   "mimetype": "text/x-python",
   "name": "python",
   "nbconvert_exporter": "python",
   "pygments_lexer": "ipython3",
   "version": "3.7.3"
  }
 },
 "nbformat": 4,
 "nbformat_minor": 2
}
