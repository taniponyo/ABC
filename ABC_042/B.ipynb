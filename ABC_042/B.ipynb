{
 "cells": [
  {
   "cell_type": "code",
   "execution_count": 2,
   "metadata": {
    "scrolled": true
   },
   "outputs": [
    {
     "name": "stdout",
     "output_type": "stream",
     "text": [
      "3 3\n",
      "dxx\n",
      "axx\n",
      "cxx\n"
     ]
    }
   ],
   "source": [
    "N,L = map(int,input().split())\n",
    "S = [input() for i in range(N)]\n",
    "\n",
    "S.sort()\n",
    "ans = []\n",
    "for i in range(N):\n",
    "    ans += S[i]\n",
    "print(''.join(ans))"
   ]
  }
 ],
 "metadata": {
  "kernelspec": {
   "display_name": "Python 3",
   "language": "python",
   "name": "python3"
  },
  "language_info": {
   "codemirror_mode": {
    "name": "ipython",
    "version": 3
   },
   "file_extension": ".py",
   "mimetype": "text/x-python",
   "name": "python",
   "nbconvert_exporter": "python",
   "pygments_lexer": "ipython3",
   "version": "3.7.6"
  }
 },
 "nbformat": 4,
 "nbformat_minor": 4
}
