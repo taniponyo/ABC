{
 "cells": [
  {
   "cell_type": "code",
   "execution_count": 4,
   "metadata": {
    "scrolled": true
   },
   "outputs": [
    {
     "name": "stdout",
     "output_type": "stream",
     "text": [
      "6\n",
      "0 153 10 10 23\n",
      "53\n"
     ]
    }
   ],
   "source": [
    "N = int(input())\n",
    "B = list(map(int,input().split()))\n",
    "\n",
    "A = [0]*N\n",
    "A[0] = B[0]\n",
    "A[-1] = B[-1]\n",
    "\n",
    "for i in range(1,N-1):\n",
    "    A[i] = min(B[i-1],B[i])\n",
    "    \n",
    "print(sum(A))"
   ]
  }
 ],
 "metadata": {
  "kernelspec": {
   "display_name": "Python 3",
   "language": "python",
   "name": "python3"
  },
  "language_info": {
   "codemirror_mode": {
    "name": "ipython",
    "version": 3
   },
   "file_extension": ".py",
   "mimetype": "text/x-python",
   "name": "python",
   "nbconvert_exporter": "python",
   "pygments_lexer": "ipython3",
   "version": "3.7.6"
  }
 },
 "nbformat": 4,
 "nbformat_minor": 4
}
