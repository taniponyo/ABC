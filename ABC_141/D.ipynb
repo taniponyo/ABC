{
 "cells": [
  {
   "cell_type": "code",
   "execution_count": 9,
   "metadata": {
    "scrolled": true
   },
   "outputs": [
    {
     "name": "stdout",
     "output_type": "stream",
     "text": [
      "3 3\n",
      "2 13 8\n",
      "9\n"
     ]
    }
   ],
   "source": [
    "N,M = map(int,input().split())\n",
    "A = list(map(int,input().split()))\n",
    "\n",
    "import heapq\n",
    "for i in range(N):\n",
    "    A[i] = -A[i]\n",
    "    \n",
    "heapq.heapify(A)\n",
    "\n",
    "while M > 0:\n",
    "    tmp = -heapq.heappop(A)\n",
    "    tmp = tmp//2\n",
    "    M -= 1\n",
    "    heapq.heappush(A,-tmp)\n",
    "    \n",
    "print(-sum(A))"
   ]
  }
 ],
 "metadata": {
  "kernelspec": {
   "display_name": "Python 3",
   "language": "python",
   "name": "python3"
  },
  "language_info": {
   "codemirror_mode": {
    "name": "ipython",
    "version": 3
   },
   "file_extension": ".py",
   "mimetype": "text/x-python",
   "name": "python",
   "nbconvert_exporter": "python",
   "pygments_lexer": "ipython3",
   "version": "3.7.6"
  }
 },
 "nbformat": 4,
 "nbformat_minor": 4
}
