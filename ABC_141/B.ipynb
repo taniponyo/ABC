{
 "cells": [
  {
   "cell_type": "code",
   "execution_count": 7,
   "metadata": {
    "scrolled": true
   },
   "outputs": [
    {
     "name": "stdout",
     "output_type": "stream",
     "text": [
      "RDULULDURURLRDULRLR\n",
      "Yes\n"
     ]
    }
   ],
   "source": [
    "s = input()\n",
    "\n",
    "answer = 'Yes'\n",
    "\n",
    "for i in range(len(s)):\n",
    "    if i%2 == 0:\n",
    "        if s[i] == 'L':\n",
    "            answer = 'No'\n",
    "            break  \n",
    "    else:\n",
    "        if s[i] == 'R':\n",
    "            answer = 'No'\n",
    "            break\n",
    "            \n",
    "print(answer)"
   ]
  }
 ],
 "metadata": {
  "kernelspec": {
   "display_name": "Python 3",
   "language": "python",
   "name": "python3"
  },
  "language_info": {
   "codemirror_mode": {
    "name": "ipython",
    "version": 3
   },
   "file_extension": ".py",
   "mimetype": "text/x-python",
   "name": "python",
   "nbconvert_exporter": "python",
   "pygments_lexer": "ipython3",
   "version": "3.7.6"
  }
 },
 "nbformat": 4,
 "nbformat_minor": 4
}
