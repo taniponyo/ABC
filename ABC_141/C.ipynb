{
 "cells": [
  {
   "cell_type": "code",
   "execution_count": 1,
   "metadata": {},
   "outputs": [
    {
     "name": "stdout",
     "output_type": "stream",
     "text": [
      "6 3 4\n",
      "3\n",
      "1\n",
      "3\n",
      "2\n",
      "No\n",
      "No\n",
      "Yes\n",
      "No\n",
      "No\n",
      "No\n"
     ]
    }
   ],
   "source": [
    "N,K,Q = map(int,input().split())\n",
    "point = [0]*N\n",
    "for i in range(Q):\n",
    "    a = int(input())\n",
    "    point[a-1] += 1\n",
    "    \n",
    "for i in range(N):\n",
    "    if K - (Q-point[i]) > 0:\n",
    "        print('Yes')\n",
    "    else:\n",
    "        print('No')"
   ]
  }
 ],
 "metadata": {
  "kernelspec": {
   "display_name": "Python 3",
   "language": "python",
   "name": "python3"
  },
  "language_info": {
   "codemirror_mode": {
    "name": "ipython",
    "version": 3
   },
   "file_extension": ".py",
   "mimetype": "text/x-python",
   "name": "python",
   "nbconvert_exporter": "python",
   "pygments_lexer": "ipython3",
   "version": "3.7.6"
  }
 },
 "nbformat": 4,
 "nbformat_minor": 4
}
