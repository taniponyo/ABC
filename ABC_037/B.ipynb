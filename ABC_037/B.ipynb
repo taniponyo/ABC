{
 "cells": [
  {
   "cell_type": "code",
   "execution_count": 1,
   "metadata": {},
   "outputs": [
    {
     "name": "stdout",
     "output_type": "stream",
     "text": [
      "5 2\n",
      "1 3 10\n",
      "2 4 20\n",
      "10\n",
      "20\n",
      "20\n",
      "20\n",
      "0\n"
     ]
    }
   ],
   "source": [
    "N,Q = map(int,input().split())\n",
    "tmp = [0]*N\n",
    "for i in range(Q):\n",
    "    L,R,T = map(int,input().split())\n",
    "    for j in range(L-1,R):\n",
    "        tmp[j] = T\n",
    "        \n",
    "for i in range(N):\n",
    "    print(tmp[i])"
   ]
  }
 ],
 "metadata": {
  "kernelspec": {
   "display_name": "Python 3",
   "language": "python",
   "name": "python3"
  },
  "language_info": {
   "codemirror_mode": {
    "name": "ipython",
    "version": 3
   },
   "file_extension": ".py",
   "mimetype": "text/x-python",
   "name": "python",
   "nbconvert_exporter": "python",
   "pygments_lexer": "ipython3",
   "version": "3.7.6"
  }
 },
 "nbformat": 4,
 "nbformat_minor": 4
}
