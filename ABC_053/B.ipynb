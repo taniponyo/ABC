{
 "cells": [
  {
   "cell_type": "code",
   "execution_count": 1,
   "metadata": {
    "scrolled": true
   },
   "outputs": [
    {
     "name": "stdout",
     "output_type": "stream",
     "text": [
      "QWERTYASDFZXCV\n"
     ]
    }
   ],
   "source": [
    "s =input()\n",
    "\n",
    "for i in range(len(s)):\n",
    "    if s[i] == 'A':\n",
    "        start = i\n",
    "        break\n",
    "        \n",
    "for i in range(len(s)):\n",
    "    if s[len(s)-i-1] == 'Z':\n",
    "        end = i\n",
    "        break\n",
    "    \n",
    "print(len(s) - start - end)"
   ]
  }
 ],
 "metadata": {
  "kernelspec": {
   "display_name": "Python 3",
   "language": "python",
   "name": "python3"
  },
  "language_info": {
   "codemirror_mode": {
    "name": "ipython",
    "version": 3
   },
   "file_extension": ".py",
   "mimetype": "text/x-python",
   "name": "python",
   "nbconvert_exporter": "python",
   "pygments_lexer": "ipython3",
   "version": "3.7.3"
  }
 },
 "nbformat": 4,
 "nbformat_minor": 2
}
