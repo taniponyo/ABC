{
 "cells": [
  {
   "cell_type": "code",
   "execution_count": 7,
   "metadata": {},
   "outputs": [
    {
     "name": "stdout",
     "output_type": "stream",
     "text": [
      "abcb\n",
      "aacb\n",
      "bccc\n"
     ]
    }
   ],
   "source": [
    "SA = input()\n",
    "SB = input()\n",
    "SC = input()"
   ]
  },
  {
   "cell_type": "code",
   "execution_count": 8,
   "metadata": {},
   "outputs": [
    {
     "name": "stdout",
     "output_type": "stream",
     "text": [
      "C\n"
     ]
    },
    {
     "ename": "SystemExit",
     "evalue": "",
     "output_type": "error",
     "traceback": [
      "An exception has occurred, use %tb to see the full traceback.\n",
      "\u001b[1;31mSystemExit\u001b[0m\n"
     ]
    }
   ],
   "source": [
    "import sys\n",
    "\n",
    "Alist = []\n",
    "Blist = []\n",
    "Clist = [] \n",
    "\n",
    "for i in range(len(SA)):\n",
    "    Alist.append(SA[i])\n",
    "for i in range(len(SB)):\n",
    "    Blist.append(SB[i])\n",
    "for i in range(len(SC)):\n",
    "    Clist.append(SC[i])\n",
    "    \n",
    "card = SA[0]\n",
    "    \n",
    "while len(Alist) >= 0 and len(Blist) >= 0 and len(Clist) >= 0:\n",
    "    if card == 'a':\n",
    "        if len(Alist) == 0:\n",
    "            print('A')\n",
    "            sys.exit()\n",
    "        card = Alist.pop(0)\n",
    "    elif card == 'b':\n",
    "        if len(Blist) == 0:\n",
    "            print('B')\n",
    "            sys.exit()\n",
    "        card = Blist.pop(0)\n",
    "    elif card == 'c':\n",
    "        if len(Clist) == 0:\n",
    "            print('C')\n",
    "            sys.exit()\n",
    "        card = Clist.pop(0)"
   ]
  }
 ],
 "metadata": {
  "kernelspec": {
   "display_name": "Python 3",
   "language": "python",
   "name": "python3"
  },
  "language_info": {
   "codemirror_mode": {
    "name": "ipython",
    "version": 3
   },
   "file_extension": ".py",
   "mimetype": "text/x-python",
   "name": "python",
   "nbconvert_exporter": "python",
   "pygments_lexer": "ipython3",
   "version": "3.7.4"
  }
 },
 "nbformat": 4,
 "nbformat_minor": 2
}
