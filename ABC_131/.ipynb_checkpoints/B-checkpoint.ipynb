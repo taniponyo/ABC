{
 "cells": [
  {
   "cell_type": "code",
   "execution_count": 9,
   "metadata": {},
   "outputs": [
    {
     "name": "stdout",
     "output_type": "stream",
     "text": [
      "43 61\n"
     ]
    }
   ],
   "source": [
    "N,L = list(map(int,input().split()))"
   ]
  },
  {
   "cell_type": "code",
   "execution_count": 10,
   "metadata": {},
   "outputs": [
    {
     "ename": "SyntaxError",
     "evalue": "invalid syntax (<ipython-input-10-536c54ca4b22>, line 2)",
     "output_type": "error",
     "traceback": [
      "\u001b[1;36m  File \u001b[1;32m\"<ipython-input-10-536c54ca4b22>\"\u001b[1;36m, line \u001b[1;32m2\u001b[0m\n\u001b[1;33m    .\u001b[0m\n\u001b[1;37m    ^\u001b[0m\n\u001b[1;31mSyntaxError\u001b[0m\u001b[1;31m:\u001b[0m invalid syntax\n"
     ]
    }
   ],
   "source": [
    "A = [0]*N\n",
    ".\n",
    "for i in range(N):\n",
    "    A[i] = L+i"
   ]
  },
  {
   "cell_type": "code",
   "execution_count": 8,
   "metadata": {},
   "outputs": [
    {
     "name": "stdout",
     "output_type": "stream",
     "text": [
      "-1044\n"
     ]
    }
   ],
   "source": [
    "aji = 0\n",
    "\n",
    "if A[0] > 0:\n",
    "    for i in range(1,N):\n",
    "        aji = aji + A[i]\n",
    "elif A[N-1] < 0:\n",
    "    for i in range(0,N-1):\n",
    "        aji = aji + A[i]\n",
    "else:\n",
    "    for i in range(N):\n",
    "        aji = aji + A[i]\n",
    "        \n",
    "print(aji)"
   ]
  }
 ],
 "metadata": {
  "kernelspec": {
   "display_name": "Python 3",
   "language": "python",
   "name": "python3"
  },
  "language_info": {
   "codemirror_mode": {
    "name": "ipython",
    "version": 3
   },
   "file_extension": ".py",
   "mimetype": "text/x-python",
   "name": "python",
   "nbconvert_exporter": "python",
   "pygments_lexer": "ipython3",
   "version": "3.7.3"
  }
 },
 "nbformat": 4,
 "nbformat_minor": 2
}
