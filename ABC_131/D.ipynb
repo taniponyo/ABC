{
 "cells": [
  {
   "cell_type": "code",
   "execution_count": 16,
   "metadata": {},
   "outputs": [
    {
     "name": "stdout",
     "output_type": "stream",
     "text": [
      "5\n",
      "2 4\n",
      "1 9\n",
      "1 8\n",
      "4 9\n",
      "3 12\n",
      "[[2, 4], [1, 8], [1, 9], [4, 9], [3, 12]]\n",
      "Yes\n"
     ]
    }
   ],
   "source": [
    "N = int(input())\n",
    "AB = [list(map(int,input().split())) for i in range(N)]\n",
    "\n",
    "sort_AB = sorted(AB, key= lambda x: x[1])\n",
    "ans = 'Yes'\n",
    "tmp = 0\n",
    "\n",
    "for i in range(N):\n",
    "    tmp += sort_AB[i][0]\n",
    "    if tmp > sort_AB[i][1]:\n",
    "        ans = 'No'\n",
    "        break\n",
    "        \n",
    "print(ans)"
   ]
  }
 ],
 "metadata": {
  "kernelspec": {
   "display_name": "Python 3",
   "language": "python",
   "name": "python3"
  },
  "language_info": {
   "codemirror_mode": {
    "name": "ipython",
    "version": 3
   },
   "file_extension": ".py",
   "mimetype": "text/x-python",
   "name": "python",
   "nbconvert_exporter": "python",
   "pygments_lexer": "ipython3",
   "version": "3.7.7"
  }
 },
 "nbformat": 4,
 "nbformat_minor": 2
}
