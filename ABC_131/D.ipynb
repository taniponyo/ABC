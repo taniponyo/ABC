{
 "cells": [
  {
   "cell_type": "code",
   "execution_count": 2,
   "metadata": {},
   "outputs": [
    {
     "name": "stdout",
     "output_type": "stream",
     "text": [
      "5\n",
      "2 4\n",
      "1 9\n",
      "1 8\n",
      "4 9\n",
      "3 12\n"
     ]
    }
   ],
   "source": [
    "N = int(input())\n",
    "AB = [list(map(int,input().split())) for i in range(N)]"
   ]
  },
  {
   "cell_type": "code",
   "execution_count": 15,
   "metadata": {},
   "outputs": [
    {
     "name": "stdout",
     "output_type": "stream",
     "text": [
      "Yes\n"
     ]
    }
   ],
   "source": [
    "#締め切りが早い順に並べる\n",
    "sortedAB = sorted(AB, key= lambda x: x[1])\n",
    "\n",
    "import sys\n",
    "work = 0\n",
    "\n",
    "for i in range(N):\n",
    "    work += sortedAB[i][0]\n",
    "    #sum Ai <= Bi ok!\n",
    "    if work > sortedAB[i][1]:\n",
    "        print('No')\n",
    "        sys.exit()\n",
    "        \n",
    "print('Yes')"
   ]
  }
 ],
 "metadata": {
  "kernelspec": {
   "display_name": "Python 3",
   "language": "python",
   "name": "python3"
  },
  "language_info": {
   "codemirror_mode": {
    "name": "ipython",
    "version": 3
   },
   "file_extension": ".py",
   "mimetype": "text/x-python",
   "name": "python",
   "nbconvert_exporter": "python",
   "pygments_lexer": "ipython3",
   "version": "3.7.4"
  }
 },
 "nbformat": 4,
 "nbformat_minor": 2
}
