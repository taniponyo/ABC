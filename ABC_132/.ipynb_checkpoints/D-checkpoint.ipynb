{
 "cells": [
  {
   "cell_type": "code",
   "execution_count": null,
   "metadata": {},
   "outputs": [],
   "source": [
    "n, k = map(int,input().split())\n",
    "\n",
    "\n",
    "MOD=10**9+7\n",
    "def comb(n,k):\n",
    "    if n < k:\n",
    "        return 0\n",
    "    if n < 0 or k < 0:\n",
    "        return 0\n",
    "    k = min(n-k,k)\n",
    "    ans = 1\n",
    "    inv = [1]*(k+1)\n",
    "    if k >= 1:\n",
    "        ans *= (n-k+1)%MOD\n",
    "    for i in range(2,k+1):\n",
    "        inv[i] = MOD - inv[MOD%i]*(MOD//i)%MOD\n",
    "        ans = ans*(n-k+i)*inv[i]%MOD\n",
    "    return ans\n",
    "\n",
    "\n",
    "for i in range(1, k+1):\n",
    "    ans_i = comb(n-k+1, i) * comb(k-1, i-1)\n",
    "    print(ans_i % MOD)\n"
   ]
  }
 ],
 "metadata": {
  "kernelspec": {
   "display_name": "Python 3",
   "language": "python",
   "name": "python3"
  },
  "language_info": {
   "codemirror_mode": {
    "name": "ipython",
    "version": 3
   },
   "file_extension": ".py",
   "mimetype": "text/x-python",
   "name": "python",
   "nbconvert_exporter": "python",
   "pygments_lexer": "ipython3",
   "version": "3.7.7"
  }
 },
 "nbformat": 4,
 "nbformat_minor": 4
}
