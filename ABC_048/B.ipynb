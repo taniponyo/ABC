{
 "cells": [
  {
   "cell_type": "code",
   "execution_count": 7,
   "metadata": {
    "scrolled": true
   },
   "outputs": [
    {
     "name": "stdout",
     "output_type": "stream",
     "text": [
      "1 1000000000000000000 3\n",
      "999999999999999999 3\n",
      "333333333333333333\n"
     ]
    }
   ],
   "source": [
    "a,b,x = map(int,input().split())\n",
    "\n",
    "up = b//x*x\n",
    "if a%x == 0:\n",
    "    down = a\n",
    "else:\n",
    "    down = (a//x+1)*x\n",
    "ans = (up-down)//x+1\n",
    "print(ans)"
   ]
  }
 ],
 "metadata": {
  "kernelspec": {
   "display_name": "Python 3",
   "language": "python",
   "name": "python3"
  },
  "language_info": {
   "codemirror_mode": {
    "name": "ipython",
    "version": 3
   },
   "file_extension": ".py",
   "mimetype": "text/x-python",
   "name": "python",
   "nbconvert_exporter": "python",
   "pygments_lexer": "ipython3",
   "version": "3.7.7"
  }
 },
 "nbformat": 4,
 "nbformat_minor": 4
}
