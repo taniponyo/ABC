{
 "cells": [
  {
   "cell_type": "code",
   "execution_count": 5,
   "metadata": {
    "scrolled": true
   },
   "outputs": [
    {
     "name": "stdout",
     "output_type": "stream",
     "text": [
      "20\n",
      "1 4\n",
      "12 \n",
      "2 3 5 7 8 9 10 11 12 15 13 14\n",
      "YES\n"
     ]
    }
   ],
   "source": [
    "N = int(input())\n",
    "a,b = map(int,input().split())\n",
    "K = int(input())\n",
    "P = list(map(int,input().split()))\n",
    "\n",
    "import sys\n",
    "\n",
    "if a in P or b in P:\n",
    "    print('NO')\n",
    "    sys.exit()\n",
    "    \n",
    "tmp = set(P)\n",
    "\n",
    "if len(tmp) != K:\n",
    "    print('NO')\n",
    "    sys.exit()\n",
    "    \n",
    "print('YES')"
   ]
  }
 ],
 "metadata": {
  "kernelspec": {
   "display_name": "Python 3",
   "language": "python",
   "name": "python3"
  },
  "language_info": {
   "codemirror_mode": {
    "name": "ipython",
    "version": 3
   },
   "file_extension": ".py",
   "mimetype": "text/x-python",
   "name": "python",
   "nbconvert_exporter": "python",
   "pygments_lexer": "ipython3",
   "version": "3.7.6"
  }
 },
 "nbformat": 4,
 "nbformat_minor": 4
}
