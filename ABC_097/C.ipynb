{
 "cells": [
  {
   "cell_type": "code",
   "execution_count": null,
   "metadata": {},
   "outputs": [],
   "source": [
    "s = input()\n",
    "k = int(input())\n",
    "alpha = 'abcdefghijklmnopqrstuvwxyz'\n",
    "n = len(s)\n",
    "lis = set()\n",
    "# 部分文字列の先頭の文字で探す\n",
    "for i in range(26):\n",
    "    for j in range(len(s)):\n",
    "        if s[j] == alpha[i]:\n",
    "            # 最大k文字のものの中から探せばよい\n",
    "            for l in range(j, j+k+1):\n",
    "                # 最初の文字列以上になっていないかcheck\n",
    "                if l < n:\n",
    "                    lis.add(s[j:l+1])\n",
    "lis = list(lis)\n",
    "lis.sort()\n",
    "#print(lis)\n",
    "#print(k)\n",
    "print(lis[k-1])"
   ]
  }
 ],
 "metadata": {
  "kernelspec": {
   "display_name": "Python 3",
   "language": "python",
   "name": "python3"
  },
  "language_info": {
   "codemirror_mode": {
    "name": "ipython",
    "version": 3
   },
   "file_extension": ".py",
   "mimetype": "text/x-python",
   "name": "python",
   "nbconvert_exporter": "python",
   "pygments_lexer": "ipython3",
   "version": "3.7.3"
  }
 },
 "nbformat": 4,
 "nbformat_minor": 2
}
