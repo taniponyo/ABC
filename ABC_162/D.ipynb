{
 "cells": [
  {
   "cell_type": "code",
   "execution_count": 8,
   "metadata": {},
   "outputs": [
    {
     "name": "stdout",
     "output_type": "stream",
     "text": [
      "39\n",
      "RBRBGRBGGBBRRGBBRRRBGGBRBGBRBGBRBBBGBBB\n"
     ]
    }
   ],
   "source": [
    "N = int(input())\n",
    "S = input()\n",
    "\n",
    "ans = 0\n",
    "\n",
    "for i in range(1,N-1):\n",
    "    if S[i] == 'R':\n",
    "        leftG = S[:i].count('G')\n",
    "        rightG = S[i+1:].count('G')\n",
    "        leftB = S[:i].count('B')\n",
    "        rightB = S[i+1:].count('B')\n",
    "\n",
    "        ans += leftB*rightG+leftG*rightB\n",
    "        for j in range(1,min(i,N-i-1)+1):\n",
    "            if (S[i-j] == 'G' and S[i+j] == 'B') or (S[i-j] == 'B' and S[i+j] == 'G'):\n",
    "                ans -= 1\n",
    "\n",
    "for i in range(1,N-1):\n",
    "    if S[i] == 'G':\n",
    "        leftG = S[:i].count('R')\n",
    "        rightG = S[i+1:].count('R')\n",
    "        leftB = S[:i].count('B')\n",
    "        rightB = S[i+1:].count('B')\n",
    "            \n",
    "        ans += leftB*rightG+leftG*rightB\n",
    "        for j in range(1,min(i,N-i-1)+1):\n",
    "            if (S[i-j] == 'R' and S[i+j] == 'B') or (S[i-j] == 'B' and S[i+j] == 'R'):\n",
    "                ans -= 1\n",
    "\n",
    "                \n",
    "for i in range(1,N-1):\n",
    "    if S[i] == 'B':\n",
    "        leftG = S[:i].count('R')\n",
    "        rightG = S[i+1:].count('R')\n",
    "        leftB = S[:i].count('G')\n",
    "        rightB = S[i+1:].count('G')\n",
    "            \n",
    "        ans += leftB*rightG+leftG*rightB\n",
    "        for j in range(1,min(i,N-i-1)+1):\n",
    "            if (S[i-j] == 'R' and S[i+j] == 'G') or (S[i-j] == 'G' and S[i+j] == 'R'):\n",
    "                ans -= 1\n",
    "            \n",
    "print(ans)     "
   ]
  },
  {
   "cell_type": "code",
   "execution_count": null,
   "metadata": {},
   "outputs": [],
   "source": [
    "RBRBGRBGGBBRRGBBRRRBGGBRBGBRBGBRBBBGBBB"
   ]
  }
 ],
 "metadata": {
  "kernelspec": {
   "display_name": "Python 3",
   "language": "python",
   "name": "python3"
  },
  "language_info": {
   "codemirror_mode": {
    "name": "ipython",
    "version": 3
   },
   "file_extension": ".py",
   "mimetype": "text/x-python",
   "name": "python",
   "nbconvert_exporter": "python",
   "pygments_lexer": "ipython3",
   "version": "3.7.3"
  }
 },
 "nbformat": 4,
 "nbformat_minor": 2
}
