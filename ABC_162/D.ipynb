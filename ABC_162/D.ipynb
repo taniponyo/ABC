{
 "cells": [
  {
   "cell_type": "code",
   "execution_count": 2,
   "metadata": {},
   "outputs": [
    {
     "name": "stdout",
     "output_type": "stream",
     "text": [
      "39\n",
      "RBRBGRBGGBBRRGBBRRRBGGBRBGBRBGBRBBBGBBB\n",
      "1800\n"
     ]
    }
   ],
   "source": [
    "N = int(input())\n",
    "S = input()\n",
    "\n",
    "r = S.count('R')\n",
    "g = S.count('G')\n",
    "b = S.count('B')\n",
    "\n",
    "ans = r*g*b\n",
    "\n",
    "for i in range(N):\n",
    "    for d in range(N):\n",
    "        j = i+d\n",
    "        k = i+2*d\n",
    "        if k > N-1:\n",
    "            break\n",
    "        if S[i] != S[j] and S[j] != S[k] and S[k] != S[i]:\n",
    "            ans -= 1\n",
    "            \n",
    "print(ans)"
   ]
  }
 ],
 "metadata": {
  "kernelspec": {
   "display_name": "Python 3",
   "language": "python",
   "name": "python3"
  },
  "language_info": {
   "codemirror_mode": {
    "name": "ipython",
    "version": 3
   },
   "file_extension": ".py",
   "mimetype": "text/x-python",
   "name": "python",
   "nbconvert_exporter": "python",
   "pygments_lexer": "ipython3",
   "version": "3.7.7"
  }
 },
 "nbformat": 4,
 "nbformat_minor": 2
}
