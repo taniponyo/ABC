{
 "cells": [
  {
   "cell_type": "code",
   "execution_count": 1,
   "metadata": {
    "scrolled": true
   },
   "outputs": [
    {
     "name": "stdout",
     "output_type": "stream",
     "text": [
      "200\n",
      "1878906\n"
     ]
    }
   ],
   "source": [
    "K = int(input())\n",
    "\n",
    "ans = 0\n",
    "\n",
    "import math\n",
    "\n",
    "for i in range(1,K+1):\n",
    "    for j in range(1,K+1):\n",
    "        tmp = math.gcd(i,j)\n",
    "        for k in range(1,K+1):\n",
    "            ans += math.gcd(tmp,k)\n",
    "\n",
    "print(ans)"
   ]
  }
 ],
 "metadata": {
  "kernelspec": {
   "display_name": "Python 3",
   "language": "python",
   "name": "python3"
  },
  "language_info": {
   "codemirror_mode": {
    "name": "ipython",
    "version": 3
   },
   "file_extension": ".py",
   "mimetype": "text/x-python",
   "name": "python",
   "nbconvert_exporter": "python",
   "pygments_lexer": "ipython3",
   "version": "3.7.3"
  }
 },
 "nbformat": 4,
 "nbformat_minor": 2
}
