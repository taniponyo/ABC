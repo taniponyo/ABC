{
 "cells": [
  {
   "cell_type": "code",
   "execution_count": 3,
   "metadata": {
    "scrolled": true
   },
   "outputs": [
    {
     "name": "stdout",
     "output_type": "stream",
     "text": [
      "3 200\n"
     ]
    }
   ],
   "source": [
    "N,K = map(int,input().split())\n",
    "\n",
    "MOD = 10**9 + 7\n",
    "A = [0] * (K + 1)\n",
    "\n",
    "# 最大公約数がdの倍数の個数\n",
    "for d in range(1, K + 1):\n",
    "    A[d] = pow(K // d, N, MOD)\n",
    "\n",
    "# ちょうどdになるためには\n",
    "for d in range(K, 0, -1):\n",
    "    # 2d,3d,...を引く\n",
    "    for i in range(2, K // d + 1):\n",
    "        A[d] -= A[d * i]\n",
    "\n",
    "answer = sum(d * x for d, x in enumerate(A))\n",
    "print(answer % MOD)"
   ]
  }
 ],
 "metadata": {
  "kernelspec": {
   "display_name": "Python 3",
   "language": "python",
   "name": "python3"
  },
  "language_info": {
   "codemirror_mode": {
    "name": "ipython",
    "version": 3
   },
   "file_extension": ".py",
   "mimetype": "text/x-python",
   "name": "python",
   "nbconvert_exporter": "python",
   "pygments_lexer": "ipython3",
   "version": "3.7.3"
  }
 },
 "nbformat": 4,
 "nbformat_minor": 2
}
