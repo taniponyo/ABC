{
 "cells": [
  {
   "cell_type": "code",
   "execution_count": 4,
   "metadata": {},
   "outputs": [
    {
     "name": "stdout",
     "output_type": "stream",
     "text": [
      "5\n",
      "2\n",
      "5\n",
      "10\n",
      "1000000000000000000\n",
      "1000000000000000000\n"
     ]
    }
   ],
   "source": [
    "N = int(input())\n",
    "T = [int(input()) for i in range(N)]"
   ]
  },
  {
   "cell_type": "code",
   "execution_count": 6,
   "metadata": {},
   "outputs": [
    {
     "name": "stdout",
     "output_type": "stream",
     "text": [
      "1000000000000000000\n"
     ]
    },
    {
     "name": "stderr",
     "output_type": "stream",
     "text": [
      "C:\\Users\\admin\\Anaconda3\\lib\\site-packages\\ipykernel_launcher.py:13: DeprecationWarning: fractions.gcd() is deprecated. Use math.gcd() instead.\n",
      "  del sys.path[0]\n"
     ]
    }
   ],
   "source": [
    "from fractions import gcd\n",
    "\n",
    "def mygcd(a,b):\n",
    "    gcd_list = []\n",
    "    for i in range(1,int(min(a,b)**0.5)+1):\n",
    "        if a%i == 0 and b%i == 0:\n",
    "            gcd_list.append(i)\n",
    "    return max(gcd_list)\n",
    "\n",
    "number = T[0]\n",
    "\n",
    "for i in range(1,N):\n",
    "    number = number*T[i]//gcd(number,T[i])\n",
    "    \n",
    "print(number)"
   ]
  }
 ],
 "metadata": {
  "kernelspec": {
   "display_name": "Python 3",
   "language": "python",
   "name": "python3"
  },
  "language_info": {
   "codemirror_mode": {
    "name": "ipython",
    "version": 3
   },
   "file_extension": ".py",
   "mimetype": "text/x-python",
   "name": "python",
   "nbconvert_exporter": "python",
   "pygments_lexer": "ipython3",
   "version": "3.7.4"
  }
 },
 "nbformat": 4,
 "nbformat_minor": 2
}
