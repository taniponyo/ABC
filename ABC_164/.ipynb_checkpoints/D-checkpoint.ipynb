{
 "cells": [
  {
   "cell_type": "code",
   "execution_count": 12,
   "metadata": {
    "scrolled": true
   },
   "outputs": [
    {
     "name": "stdout",
     "output_type": "stream",
     "text": [
      "1817181718171\n",
      "3\n"
     ]
    }
   ],
   "source": [
    "import sys\n",
    "read = sys.stdin.buffer.read\n",
    "readline = sys.stdin.buffer.readline\n",
    "readlines = sys.stdin.buffer.readlines\n",
    "from collections import Counter\n",
    "\n",
    "S = input()\n",
    "\n",
    "P = 2019\n",
    "N = len(S)\n",
    "\n",
    "def solve_2(S):\n",
    "    ind = (i for i, x in enumerate(S, 1) if x % 2 == 0)\n",
    "    return sum(ind)\n",
    "\n",
    "def solve_5(S):\n",
    "    ind = (i for i, x in enumerate(S, 1) if x % 5 == 0)\n",
    "    return sum(ind)\n",
    "\n",
    "def solve(S,P):\n",
    "    if P == 2:\n",
    "        return solve_2(S)\n",
    "    if P == 5:\n",
    "        return solve_5(S)\n",
    "    S = S[::-1]\n",
    "    T = [0] * len(S)\n",
    "    T[0] = int(S[0]) % P\n",
    "    power = 1\n",
    "    for i in range(1, len(S)):\n",
    "        power *= 10\n",
    "        power %= P\n",
    "        T[i] = T[i-1] + power * int(S[i])\n",
    "        T[i] %= P\n",
    "    counter = Counter(T)\n",
    "    return sum(x * (x - 1) // 2 for x in counter.values()) + counter[0]\n",
    "\n",
    "\n",
    "print(solve(S,P))"
   ]
  },
  {
   "cell_type": "code",
   "execution_count": 15,
   "metadata": {
    "scrolled": true
   },
   "outputs": [
    {
     "name": "stdout",
     "output_type": "stream",
     "text": [
      "1817181712114\n",
      "3\n"
     ]
    }
   ],
   "source": [
    "S = input()\n",
    "N = len(S)\n",
    "mod_list = [0]*2020\n",
    "mod_list[0] = 1\n",
    "\n",
    "mod = 2019\n",
    "\n",
    "for i in range(N):\n",
    "    num = int(S[N-i-1:N])\n",
    "    mod_list[num%mod] += 1\n",
    "    \n",
    "ans = 0\n",
    "\n",
    "for i in mod_list:\n",
    "    ans += i*(i-1)//2\n",
    "        \n",
    "print(ans)"
   ]
  }
 ],
 "metadata": {
  "kernelspec": {
   "display_name": "Python 3",
   "language": "python",
   "name": "python3"
  },
  "language_info": {
   "codemirror_mode": {
    "name": "ipython",
    "version": 3
   },
   "file_extension": ".py",
   "mimetype": "text/x-python",
   "name": "python",
   "nbconvert_exporter": "python",
   "pygments_lexer": "ipython3",
   "version": "3.7.3"
  }
 },
 "nbformat": 4,
 "nbformat_minor": 2
}
