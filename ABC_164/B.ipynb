{
 "cells": [
  {
   "cell_type": "code",
   "execution_count": 4,
   "metadata": {},
   "outputs": [
    {
     "name": "stdout",
     "output_type": "stream",
     "text": [
      "46 4 40 5\n",
      "Yes\n"
     ]
    }
   ],
   "source": [
    "A,B,C,D = map(int,input().split())\n",
    "\n",
    "if C%B == 0:\n",
    "    t = C//B\n",
    "else:\n",
    "    t = C//B + 1\n",
    "    \n",
    "if A%D == 0:\n",
    "    a = A//D\n",
    "else:\n",
    "    a = A//D + 1\n",
    "\n",
    "    \n",
    "if t > a:\n",
    "    print('No')\n",
    "elif t < a:\n",
    "    print('Yes')\n",
    "elif t == a:\n",
    "    print('Yes')\n"
   ]
  }
 ],
 "metadata": {
  "kernelspec": {
   "display_name": "Python 3",
   "language": "python",
   "name": "python3"
  },
  "language_info": {
   "codemirror_mode": {
    "name": "ipython",
    "version": 3
   },
   "file_extension": ".py",
   "mimetype": "text/x-python",
   "name": "python",
   "nbconvert_exporter": "python",
   "pygments_lexer": "ipython3",
   "version": "3.7.3"
  }
 },
 "nbformat": 4,
 "nbformat_minor": 2
}
