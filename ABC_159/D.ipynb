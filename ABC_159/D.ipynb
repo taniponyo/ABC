{
 "cells": [
  {
   "cell_type": "code",
   "execution_count": 8,
   "metadata": {},
   "outputs": [
    {
     "name": "stdout",
     "output_type": "stream",
     "text": [
      "5\n",
      "1 1 2 1 2\n",
      "2\n",
      "2\n",
      "3\n",
      "2\n",
      "3\n"
     ]
    }
   ],
   "source": [
    "N = int(input())\n",
    "A = list(map(int,input().split()))\n",
    "import collections as col\n",
    " \n",
    "num_list = set(A)\n",
    "ca = col.Counter(A)\n",
    "\n",
    "num = 0\n",
    "\n",
    "for i in num_list:\n",
    "    if ca[i] == 1:\n",
    "        continue\n",
    "    else:\n",
    "        num += (ca[i]*(ca[i]-1))//2\n",
    "        \n",
    "for i in A:\n",
    "    ans = num - (ca[i]-1)\n",
    "    print(ans)"
   ]
  }
 ],
 "metadata": {
  "kernelspec": {
   "display_name": "Python 3",
   "language": "python",
   "name": "python3"
  },
  "language_info": {
   "codemirror_mode": {
    "name": "ipython",
    "version": 3
   },
   "file_extension": ".py",
   "mimetype": "text/x-python",
   "name": "python",
   "nbconvert_exporter": "python",
   "pygments_lexer": "ipython3",
   "version": "3.7.3"
  }
 },
 "nbformat": 4,
 "nbformat_minor": 2
}
