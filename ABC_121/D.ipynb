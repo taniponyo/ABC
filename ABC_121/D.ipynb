{
 "cells": [
  {
   "cell_type": "code",
   "execution_count": 31,
   "metadata": {
    "scrolled": true
   },
   "outputs": [
    {
     "name": "stdout",
     "output_type": "stream",
     "text": [
      "123 456\n",
      "435\n"
     ]
    }
   ],
   "source": [
    "A,B = map(int,input().split())\n",
    "\n",
    "def solve(x):\n",
    "    \n",
    "    if x < 0:\n",
    "        return 0\n",
    "    \n",
    "    if x % 4 == 0:\n",
    "        return x\n",
    "    elif x % 4 == 1:\n",
    "        return 1\n",
    "    elif x % 4 == 2:\n",
    "        return x+1\n",
    "    elif x % 4 == 3:\n",
    "        return 0\n",
    "    \n",
    "print(solve(A-1)^solve(B))"
   ]
  }
 ],
 "metadata": {
  "kernelspec": {
   "display_name": "Python 3",
   "language": "python",
   "name": "python3"
  },
  "language_info": {
   "codemirror_mode": {
    "name": "ipython",
    "version": 3
   },
   "file_extension": ".py",
   "mimetype": "text/x-python",
   "name": "python",
   "nbconvert_exporter": "python",
   "pygments_lexer": "ipython3",
   "version": "3.7.3"
  }
 },
 "nbformat": 4,
 "nbformat_minor": 2
}
