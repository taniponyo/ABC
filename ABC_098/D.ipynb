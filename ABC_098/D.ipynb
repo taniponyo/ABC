{
 "cells": [
  {
   "cell_type": "code",
   "execution_count": 3,
   "metadata": {},
   "outputs": [
    {
     "name": "stdout",
     "output_type": "stream",
     "text": [
      "4\n",
      "2 5 4 6\n",
      "5\n"
     ]
    }
   ],
   "source": [
    "N = int(input())\n",
    "A = list(map(int,input().split()))\n",
    "\n",
    "left = 0\n",
    "right = 0\n",
    "ans = 0\n",
    "tmp = 0\n",
    "\n",
    "for left in range(N):\n",
    "    while right < N and tmp + A[right] == tmp ^ A[right]:\n",
    "        tmp += A[right]\n",
    "        right += 1\n",
    "        \n",
    "    ans += right - left\n",
    "    \n",
    "    if right == left:\n",
    "        right += 1\n",
    "    else:\n",
    "        tmp -= A[left]\n",
    "        \n",
    "print(ans)"
   ]
  }
 ],
 "metadata": {
  "kernelspec": {
   "display_name": "Python 3",
   "language": "python",
   "name": "python3"
  },
  "language_info": {
   "codemirror_mode": {
    "name": "ipython",
    "version": 3
   },
   "file_extension": ".py",
   "mimetype": "text/x-python",
   "name": "python",
   "nbconvert_exporter": "python",
   "pygments_lexer": "ipython3",
   "version": "3.7.3"
  }
 },
 "nbformat": 4,
 "nbformat_minor": 2
}
