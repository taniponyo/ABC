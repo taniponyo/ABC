{
 "cells": [
  {
   "cell_type": "code",
   "execution_count": 22,
   "metadata": {},
   "outputs": [
    {
     "name": "stdout",
     "output_type": "stream",
     "text": [
      "12\n",
      "WEWEWEEEWWWE\n"
     ]
    }
   ],
   "source": [
    "N = int(input())\n",
    "S = input()"
   ]
  },
  {
   "cell_type": "code",
   "execution_count": 28,
   "metadata": {},
   "outputs": [
    {
     "name": "stdout",
     "output_type": "stream",
     "text": [
      "[0, 1, 1, 2, 2, 3, 3, 3, 3, 4, 5, 6, 6]\n",
      "[0, 0, 1, 1, 2, 2, 3, 4, 5, 5, 5, 5, 6]\n",
      "4\n"
     ]
    }
   ],
   "source": [
    "Wlist = [0]\n",
    "Elist = [0] \n",
    "\n",
    "for i in range(N):\n",
    "    Wlist.append(S.count('W',0,i+1))\n",
    "    Elist.append(S.count('E',0,i+1))\n",
    "    \n",
    "print(Wlist)\n",
    "print(Elist)\n",
    "    \n",
    "ans = []\n",
    "\n",
    "for i in range(1,N+1):\n",
    "    ans.append((Elist[-1] - Elist[i]) + (Wlist[i-1]))\n",
    "    \n",
    "print(min(ans))"
   ]
  },
  {
   "cell_type": "code",
   "execution_count": 34,
   "metadata": {},
   "outputs": [
    {
     "name": "stdout",
     "output_type": "stream",
     "text": [
      "[0, 1, 1, 2, 2, 3, 3, 3, 3, 4, 5, 6, 6]\n",
      "[0, 0, 1, 1, 2, 2, 3, 4, 5, 5, 5, 5, 6]\n",
      "4\n"
     ]
    }
   ],
   "source": [
    "Wlist = [0]*(N+1) \n",
    "Elist = [0]*(N+1) \n",
    "\n",
    "for i in range(1,N+1):\n",
    "    if S[i-1] == 'W':\n",
    "        Wlist[i] = Wlist[i-1] + 1\n",
    "    else:\n",
    "        Wlist[i] = Wlist[i-1]\n",
    "        \n",
    "    if S[i-1] == 'E':\n",
    "        Elist[i] = Elist[i-1] + 1\n",
    "    else:\n",
    "        Elist[i] = Elist[i-1]\n",
    "\n",
    "ans = []\n",
    "\n",
    "for i in range(1,N+1):\n",
    "    ans.append((Elist[-1] - Elist[i]) + (Wlist[i-1]))\n",
    "    \n",
    "print(min(ans))"
   ]
  }
 ],
 "metadata": {
  "kernelspec": {
   "display_name": "Python 3",
   "language": "python",
   "name": "python3"
  },
  "language_info": {
   "codemirror_mode": {
    "name": "ipython",
    "version": 3
   },
   "file_extension": ".py",
   "mimetype": "text/x-python",
   "name": "python",
   "nbconvert_exporter": "python",
   "pygments_lexer": "ipython3",
   "version": "3.7.4"
  }
 },
 "nbformat": 4,
 "nbformat_minor": 2
}
