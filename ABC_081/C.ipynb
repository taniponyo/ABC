{
 "cells": [
  {
   "cell_type": "code",
   "execution_count": 7,
   "metadata": {},
   "outputs": [
    {
     "name": "stdout",
     "output_type": "stream",
     "text": [
      "10 3\n",
      "5 1 3 2 4 1 1 2 3 4\n"
     ]
    }
   ],
   "source": [
    "N,K = list(map(int,input().split()))\n",
    "A = list(map(int,input().split()))"
   ]
  },
  {
   "cell_type": "code",
   "execution_count": 8,
   "metadata": {},
   "outputs": [
    {
     "name": "stdout",
     "output_type": "stream",
     "text": [
      "(1, 3, 2, 4, 5)\n",
      "(3, 2, 2, 2, 1)\n",
      "3\n"
     ]
    }
   ],
   "source": [
    "Asort = sorted(A)\n",
    "\n",
    "from collections import Counter\n",
    "c = Counter(A)\n",
    "keys, values = zip(*c.most_common())\n",
    "\n",
    "ans = 0\n",
    "N = len(keys)\n",
    "\n",
    "for i in range(K,N):\n",
    "    ans += values[i]\n",
    "    \n",
    "print(ans)"
   ]
  }
 ],
 "metadata": {
  "kernelspec": {
   "display_name": "Python 3",
   "language": "python",
   "name": "python3"
  },
  "language_info": {
   "codemirror_mode": {
    "name": "ipython",
    "version": 3
   },
   "file_extension": ".py",
   "mimetype": "text/x-python",
   "name": "python",
   "nbconvert_exporter": "python",
   "pygments_lexer": "ipython3",
   "version": "3.7.4"
  }
 },
 "nbformat": 4,
 "nbformat_minor": 2
}
