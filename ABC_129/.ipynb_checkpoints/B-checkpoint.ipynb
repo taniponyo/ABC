{
 "cells": [
  {
   "cell_type": "code",
   "execution_count": 6,
   "metadata": {},
   "outputs": [
    {
     "name": "stdout",
     "output_type": "stream",
     "text": [
      "4\n",
      "1 3 1 1\n"
     ]
    }
   ],
   "source": [
    "N = int(input())\n",
    "W = list(map(int,input().split()))"
   ]
  },
  {
   "cell_type": "code",
   "execution_count": 13,
   "metadata": {},
   "outputs": [
    {
     "name": "stdout",
     "output_type": "stream",
     "text": [
      "2\n"
     ]
    }
   ],
   "source": [
    "sum = 0\n",
    "min = 100\n",
    "all = 0\n",
    "\n",
    "for i in range(N):\n",
    "    all = all + W[i]\n",
    "\n",
    "for i in range(N):\n",
    "    sum = sum + W[i]\n",
    "    if min > abs(2*sum - all):\n",
    "        min = abs(2*sum - all)\n",
    "        \n",
    "print(min)\n",
    "    "
   ]
  }
 ],
 "metadata": {
  "kernelspec": {
   "display_name": "Python 3",
   "language": "python",
   "name": "python3"
  },
  "language_info": {
   "codemirror_mode": {
    "name": "ipython",
    "version": 3
   },
   "file_extension": ".py",
   "mimetype": "text/x-python",
   "name": "python",
   "nbconvert_exporter": "python",
   "pygments_lexer": "ipython3",
   "version": "3.7.3"
  }
 },
 "nbformat": 4,
 "nbformat_minor": 2
}
