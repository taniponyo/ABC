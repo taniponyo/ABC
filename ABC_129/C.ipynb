{
 "cells": [
  {
   "cell_type": "code",
   "execution_count": 1,
   "metadata": {},
   "outputs": [
    {
     "name": "stdout",
     "output_type": "stream",
     "text": [
      "6 1\n",
      "3\n"
     ]
    }
   ],
   "source": [
    "n,m = map(int,input().split())\n",
    "#0からn段の階段を作成\n",
    "j = [True for i in range(n+1)]\n",
    "#0,1段は1通り\n",
    "ans = [1,1]+[0 for i in range(n-1)]\n",
    "p = 10**9+7\n",
    "#どこが壊れているかcheck\n",
    "for i in range(m):\n",
    "    j[int(input())] = False"
   ]
  },
  {
   "cell_type": "code",
   "execution_count": 4,
   "metadata": {},
   "outputs": [
    {
     "name": "stdout",
     "output_type": "stream",
     "text": [
      "4\n"
     ]
    }
   ],
   "source": [
    "#もし1段目が壊れていたら101となる\n",
    "if j[1] == False:\n",
    "    ans[1] = 0\n",
    "    ans[2] = ans[0]\n",
    "#二段目から調べる\n",
    "for i in range(2,n+1):\n",
    "    #壊れていない場合\n",
    "    if j[i] == True:\n",
    "        ans[i] = ans[i-1] + ans[i-2]\n",
    "        ans[i] %= p\n",
    "    #壊れている場合\n",
    "    else:\n",
    "        ans[i] = 0\n",
    "        \n",
    "print(ans[n]%p)"
   ]
  }
 ],
 "metadata": {
  "kernelspec": {
   "display_name": "Python 3",
   "language": "python",
   "name": "python3"
  },
  "language_info": {
   "codemirror_mode": {
    "name": "ipython",
    "version": 3
   },
   "file_extension": ".py",
   "mimetype": "text/x-python",
   "name": "python",
   "nbconvert_exporter": "python",
   "pygments_lexer": "ipython3",
   "version": "3.7.7"
  }
 },
 "nbformat": 4,
 "nbformat_minor": 2
}
