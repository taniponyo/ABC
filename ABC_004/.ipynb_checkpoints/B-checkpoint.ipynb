{
 "cells": [
  {
   "cell_type": "code",
   "execution_count": 7,
   "metadata": {
    "scrolled": true
   },
   "outputs": [
    {
     "name": "stdout",
     "output_type": "stream",
     "text": [
      ". . . .\n",
      ". a a .\n",
      ". b b .\n",
      ". . . .\n",
      ". . . . \n",
      ". b b . \n",
      ". a a . \n",
      ". . . . \n"
     ]
    }
   ],
   "source": [
    "c = [list(map(str,input().split())) for i in range(4)]\n",
    "\n",
    "for i in range(4):\n",
    "    for j in range(4):\n",
    "        print(c[3-i][3-j], end=' ')\n",
    "    print('')"
   ]
  }
 ],
 "metadata": {
  "kernelspec": {
   "display_name": "Python 3",
   "language": "python",
   "name": "python3"
  },
  "language_info": {
   "codemirror_mode": {
    "name": "ipython",
    "version": 3
   },
   "file_extension": ".py",
   "mimetype": "text/x-python",
   "name": "python",
   "nbconvert_exporter": "python",
   "pygments_lexer": "ipython3",
   "version": "3.7.6"
  }
 },
 "nbformat": 4,
 "nbformat_minor": 4
}
