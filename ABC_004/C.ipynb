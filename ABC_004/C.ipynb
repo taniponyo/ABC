{
 "cells": [
  {
   "cell_type": "code",
   "execution_count": 17,
   "metadata": {},
   "outputs": [
    {
     "name": "stdin",
     "output_type": "stream",
     "text": [
      " 22\n"
     ]
    },
    {
     "name": "stdout",
     "output_type": "stream",
     "text": [
      "615234\n"
     ]
    }
   ],
   "source": [
    "N = int(input())\n",
    "\n",
    "loop = N//5\n",
    "start = loop%6 + 1\n",
    "\n",
    "base = []\n",
    "\n",
    "for i in range(6):\n",
    "    base.append(str(start))\n",
    "    start += 1\n",
    "    if start > 6:\n",
    "        start = 1\n",
    "    \n",
    "res = N%5\n",
    "\n",
    "for i in range(res):\n",
    "    base[i],base[i+1] = base[i+1],base[i]\n",
    "\n",
    "print(''.join(base))"
   ]
  }
 ],
 "metadata": {
  "kernelspec": {
   "display_name": "Python 3",
   "language": "python",
   "name": "python3"
  },
  "language_info": {
   "codemirror_mode": {
    "name": "ipython",
    "version": 3
   },
   "file_extension": ".py",
   "mimetype": "text/x-python",
   "name": "python",
   "nbconvert_exporter": "python",
   "pygments_lexer": "ipython3",
   "version": "3.7.3"
  }
 },
 "nbformat": 4,
 "nbformat_minor": 4
}
