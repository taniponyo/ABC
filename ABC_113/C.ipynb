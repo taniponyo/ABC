{
 "cells": [
  {
   "cell_type": "code",
   "execution_count": 47,
   "metadata": {},
   "outputs": [
    {
     "name": "stdout",
     "output_type": "stream",
     "text": [
      "2 3\n",
      "1 32\n",
      "2 63\n",
      "1 12\n"
     ]
    }
   ],
   "source": [
    "N,M = map(int, input().split())\n",
    "ID = [ list(map(int,input().split())) + [i] for i in range(M)]"
   ]
  },
  {
   "cell_type": "code",
   "execution_count": 51,
   "metadata": {},
   "outputs": [
    {
     "name": "stdout",
     "output_type": "stream",
     "text": [
      "[[1, 12, 2, '000001000001'], [1, 32, 0, '000001000001'], [2, 63, 1, '000002000001']]\n"
     ]
    }
   ],
   "source": [
    "ID.sort()\n",
    "town = 0\n",
    "\n",
    "for i in range(M):\n",
    "    if ID[i][0] != town:\n",
    "        town = ID[i][0]\n",
    "        count = 1\n",
    "        ID[i].append(\"0\"*(6-len(str(town)))+str(town)+\"0\"*(6-len(str(count)))+str(count))\n",
    "    else:\n",
    "        count += 1\n",
    "        ID[i].append(\"0\"*(6-len(str(town)))+str(town)+\"0\"*(6-len(str(count)))+str(count))"
   ]
  },
  {
   "cell_type": "code",
   "execution_count": 55,
   "metadata": {},
   "outputs": [
    {
     "name": "stdout",
     "output_type": "stream",
     "text": [
      "000001000001\n",
      "000002000001\n",
      "000001000001\n"
     ]
    }
   ],
   "source": [
    "ID.sort(key=lambda x:x[2])\n",
    "\n",
    "for i in range(M):\n",
    "    print(ID[i][3])"
   ]
  }
 ],
 "metadata": {
  "kernelspec": {
   "display_name": "Python 3",
   "language": "python",
   "name": "python3"
  },
  "language_info": {
   "codemirror_mode": {
    "name": "ipython",
    "version": 3
   },
   "file_extension": ".py",
   "mimetype": "text/x-python",
   "name": "python",
   "nbconvert_exporter": "python",
   "pygments_lexer": "ipython3",
   "version": "3.7.3"
  }
 },
 "nbformat": 4,
 "nbformat_minor": 2
}
